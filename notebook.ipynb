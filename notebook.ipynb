{
 "cells": [
  {
   "cell_type": "markdown",
   "metadata": {},
   "source": [
    "# <span style=\"color: #800080;\">Cell Data</span>"
   ]
  },
  {
   "cell_type": "markdown",
   "metadata": {},
   "source": [
    "Prólogo – Os Números Nunca Mentem 📊\n",
    "Em um mundo onde cada clique, cada compra e cada decisão deixam um rastro digital, os dados se tornaram o novo ouro. Mas como extrair significado desse oceano de números? Como transformar informações dispersas em decisões estratégicas? Baseado no exposto esta é uma análise de uma varejista internacional de celulares."
   ]
  },
  {
   "cell_type": "markdown",
   "metadata": {},
   "source": [
    "![Data Analysis](https://cdn.dribbble.com/users/405271/screenshots/2755649/media/906439f85b83b7c6753e871f4413fdbd.jpg)\n"
   ]
  },
  {
   "cell_type": "markdown",
   "metadata": {},
   "source": [
    "# <span style=\"color: #800080;\">Importação dos dados</span>\n"
   ]
  },
  {
   "cell_type": "code",
   "execution_count": 137,
   "metadata": {},
   "outputs": [],
   "source": [
    "import pandas as pd"
   ]
  },
  {
   "cell_type": "code",
   "execution_count": 138,
   "metadata": {},
   "outputs": [],
   "source": [
    "df=pd.read_csv(\"Expanded_Dataset.csv\", sep=\",\")"
   ]
  },
  {
   "cell_type": "code",
   "execution_count": 139,
   "metadata": {},
   "outputs": [
    {
     "data": {
      "text/html": [
       "<div>\n",
       "<style scoped>\n",
       "    .dataframe tbody tr th:only-of-type {\n",
       "        vertical-align: middle;\n",
       "    }\n",
       "\n",
       "    .dataframe tbody tr th {\n",
       "        vertical-align: top;\n",
       "    }\n",
       "\n",
       "    .dataframe thead th {\n",
       "        text-align: right;\n",
       "    }\n",
       "</style>\n",
       "<table border=\"1\" class=\"dataframe\">\n",
       "  <thead>\n",
       "    <tr style=\"text-align: right;\">\n",
       "      <th></th>\n",
       "      <th>Year</th>\n",
       "      <th>Quarter</th>\n",
       "      <th>Product Model</th>\n",
       "      <th>5G Capability</th>\n",
       "      <th>Units Sold</th>\n",
       "      <th>Revenue ($)</th>\n",
       "      <th>Market Share (%)</th>\n",
       "      <th>Regional 5G Coverage (%)</th>\n",
       "      <th>5G Subscribers (millions)</th>\n",
       "      <th>Avg 5G Speed (Mbps)</th>\n",
       "      <th>Preference for 5G (%)</th>\n",
       "      <th>Region</th>\n",
       "    </tr>\n",
       "  </thead>\n",
       "  <tbody>\n",
       "    <tr>\n",
       "      <th>0</th>\n",
       "      <td>2019</td>\n",
       "      <td>Q1</td>\n",
       "      <td>Galaxy S10</td>\n",
       "      <td>No</td>\n",
       "      <td>26396</td>\n",
       "      <td>4.212951e+06</td>\n",
       "      <td>1.04</td>\n",
       "      <td>57.36</td>\n",
       "      <td>39.55</td>\n",
       "      <td>293.10</td>\n",
       "      <td>55.87</td>\n",
       "      <td>Asia-Pacific</td>\n",
       "    </tr>\n",
       "    <tr>\n",
       "      <th>1</th>\n",
       "      <td>2019</td>\n",
       "      <td>Q1</td>\n",
       "      <td>Galaxy Note10</td>\n",
       "      <td>No</td>\n",
       "      <td>25671</td>\n",
       "      <td>7.240266e+06</td>\n",
       "      <td>2.82</td>\n",
       "      <td>85.80</td>\n",
       "      <td>42.58</td>\n",
       "      <td>67.46</td>\n",
       "      <td>37.26</td>\n",
       "      <td>Latin America</td>\n",
       "    </tr>\n",
       "    <tr>\n",
       "      <th>2</th>\n",
       "      <td>2019</td>\n",
       "      <td>Q1</td>\n",
       "      <td>Galaxy S20</td>\n",
       "      <td>No</td>\n",
       "      <td>16573</td>\n",
       "      <td>2.560833e+07</td>\n",
       "      <td>-0.03</td>\n",
       "      <td>47.02</td>\n",
       "      <td>3.78</td>\n",
       "      <td>77.25</td>\n",
       "      <td>84.66</td>\n",
       "      <td>Middle East &amp; Africa</td>\n",
       "    </tr>\n",
       "    <tr>\n",
       "      <th>3</th>\n",
       "      <td>2019</td>\n",
       "      <td>Q1</td>\n",
       "      <td>Galaxy Note20</td>\n",
       "      <td>No</td>\n",
       "      <td>7177</td>\n",
       "      <td>2.198442e+07</td>\n",
       "      <td>0.84</td>\n",
       "      <td>25.70</td>\n",
       "      <td>23.41</td>\n",
       "      <td>105.27</td>\n",
       "      <td>40.03</td>\n",
       "      <td>North America</td>\n",
       "    </tr>\n",
       "    <tr>\n",
       "      <th>4</th>\n",
       "      <td>2019</td>\n",
       "      <td>Q1</td>\n",
       "      <td>Galaxy S21</td>\n",
       "      <td>No</td>\n",
       "      <td>45633</td>\n",
       "      <td>1.634244e+07</td>\n",
       "      <td>2.36</td>\n",
       "      <td>89.13</td>\n",
       "      <td>44.43</td>\n",
       "      <td>206.17</td>\n",
       "      <td>76.88</td>\n",
       "      <td>Latin America</td>\n",
       "    </tr>\n",
       "    <tr>\n",
       "      <th>...</th>\n",
       "      <td>...</td>\n",
       "      <td>...</td>\n",
       "      <td>...</td>\n",
       "      <td>...</td>\n",
       "      <td>...</td>\n",
       "      <td>...</td>\n",
       "      <td>...</td>\n",
       "      <td>...</td>\n",
       "      <td>...</td>\n",
       "      <td>...</td>\n",
       "      <td>...</td>\n",
       "      <td>...</td>\n",
       "    </tr>\n",
       "    <tr>\n",
       "      <th>995</th>\n",
       "      <td>2023</td>\n",
       "      <td>Q4</td>\n",
       "      <td>Galaxy S22 5G</td>\n",
       "      <td>Yes</td>\n",
       "      <td>36216</td>\n",
       "      <td>2.995937e+07</td>\n",
       "      <td>3.82</td>\n",
       "      <td>70.59</td>\n",
       "      <td>46.92</td>\n",
       "      <td>177.43</td>\n",
       "      <td>63.86</td>\n",
       "      <td>Latin America</td>\n",
       "    </tr>\n",
       "    <tr>\n",
       "      <th>996</th>\n",
       "      <td>2022</td>\n",
       "      <td>Q2</td>\n",
       "      <td>Galaxy S21</td>\n",
       "      <td>No</td>\n",
       "      <td>33806</td>\n",
       "      <td>2.369938e+07</td>\n",
       "      <td>-0.23</td>\n",
       "      <td>77.31</td>\n",
       "      <td>47.51</td>\n",
       "      <td>129.70</td>\n",
       "      <td>78.41</td>\n",
       "      <td>North America</td>\n",
       "    </tr>\n",
       "    <tr>\n",
       "      <th>997</th>\n",
       "      <td>2022</td>\n",
       "      <td>Q1</td>\n",
       "      <td>Galaxy S10</td>\n",
       "      <td>No</td>\n",
       "      <td>23678</td>\n",
       "      <td>2.330203e+07</td>\n",
       "      <td>0.58</td>\n",
       "      <td>45.61</td>\n",
       "      <td>43.79</td>\n",
       "      <td>156.56</td>\n",
       "      <td>72.06</td>\n",
       "      <td>Europe</td>\n",
       "    </tr>\n",
       "    <tr>\n",
       "      <th>998</th>\n",
       "      <td>2023</td>\n",
       "      <td>Q4</td>\n",
       "      <td>Galaxy Note10</td>\n",
       "      <td>No</td>\n",
       "      <td>35697</td>\n",
       "      <td>1.946256e+07</td>\n",
       "      <td>2.49</td>\n",
       "      <td>36.55</td>\n",
       "      <td>36.44</td>\n",
       "      <td>236.39</td>\n",
       "      <td>47.11</td>\n",
       "      <td>North America</td>\n",
       "    </tr>\n",
       "    <tr>\n",
       "      <th>999</th>\n",
       "      <td>2020</td>\n",
       "      <td>Q4</td>\n",
       "      <td>Galaxy Note20</td>\n",
       "      <td>No</td>\n",
       "      <td>7473</td>\n",
       "      <td>1.962177e+07</td>\n",
       "      <td>3.88</td>\n",
       "      <td>74.66</td>\n",
       "      <td>27.55</td>\n",
       "      <td>177.22</td>\n",
       "      <td>72.36</td>\n",
       "      <td>North America</td>\n",
       "    </tr>\n",
       "  </tbody>\n",
       "</table>\n",
       "<p>1000 rows × 12 columns</p>\n",
       "</div>"
      ],
      "text/plain": [
       "     Year Quarter  Product Model 5G Capability  Units Sold   Revenue ($)  \\\n",
       "0    2019      Q1     Galaxy S10            No       26396  4.212951e+06   \n",
       "1    2019      Q1  Galaxy Note10            No       25671  7.240266e+06   \n",
       "2    2019      Q1     Galaxy S20            No       16573  2.560833e+07   \n",
       "3    2019      Q1  Galaxy Note20            No        7177  2.198442e+07   \n",
       "4    2019      Q1     Galaxy S21            No       45633  1.634244e+07   \n",
       "..    ...     ...            ...           ...         ...           ...   \n",
       "995  2023      Q4  Galaxy S22 5G           Yes       36216  2.995937e+07   \n",
       "996  2022      Q2     Galaxy S21            No       33806  2.369938e+07   \n",
       "997  2022      Q1     Galaxy S10            No       23678  2.330203e+07   \n",
       "998  2023      Q4  Galaxy Note10            No       35697  1.946256e+07   \n",
       "999  2020      Q4  Galaxy Note20            No        7473  1.962177e+07   \n",
       "\n",
       "     Market Share (%)  Regional 5G Coverage (%)  5G Subscribers (millions)  \\\n",
       "0                1.04                     57.36                      39.55   \n",
       "1                2.82                     85.80                      42.58   \n",
       "2               -0.03                     47.02                       3.78   \n",
       "3                0.84                     25.70                      23.41   \n",
       "4                2.36                     89.13                      44.43   \n",
       "..                ...                       ...                        ...   \n",
       "995              3.82                     70.59                      46.92   \n",
       "996             -0.23                     77.31                      47.51   \n",
       "997              0.58                     45.61                      43.79   \n",
       "998              2.49                     36.55                      36.44   \n",
       "999              3.88                     74.66                      27.55   \n",
       "\n",
       "     Avg 5G Speed (Mbps)  Preference for 5G (%)                Region  \n",
       "0                 293.10                  55.87          Asia-Pacific  \n",
       "1                  67.46                  37.26         Latin America  \n",
       "2                  77.25                  84.66  Middle East & Africa  \n",
       "3                 105.27                  40.03         North America  \n",
       "4                 206.17                  76.88         Latin America  \n",
       "..                   ...                    ...                   ...  \n",
       "995               177.43                  63.86         Latin America  \n",
       "996               129.70                  78.41         North America  \n",
       "997               156.56                  72.06                Europe  \n",
       "998               236.39                  47.11         North America  \n",
       "999               177.22                  72.36         North America  \n",
       "\n",
       "[1000 rows x 12 columns]"
      ]
     },
     "execution_count": 139,
     "metadata": {},
     "output_type": "execute_result"
    }
   ],
   "source": [
    "df"
   ]
  },
  {
   "cell_type": "markdown",
   "metadata": {},
   "source": [
    "# <span style=\"color: #800080;\">Pré-Visualização dos dados</span>\n"
   ]
  },
  {
   "cell_type": "code",
   "execution_count": 140,
   "metadata": {},
   "outputs": [
    {
     "data": {
      "text/html": [
       "<style type=\"text/css\">\n",
       "#T_1c466_row0_col0 {\n",
       "  background-color: #9f9cc9;\n",
       "  color: #f1f1f1;\n",
       "}\n",
       "#T_1c466_row0_col1, #T_1c466_row0_col2, #T_1c466_row1_col3, #T_1c466_row2_col0, #T_1c466_row2_col3, #T_1c466_row2_col4, #T_1c466_row2_col7, #T_1c466_row3_col3, #T_1c466_row3_col4, #T_1c466_row3_col5, #T_1c466_row3_col6, #T_1c466_row4_col3, #T_1c466_row5_col3, #T_1c466_row6_col3, #T_1c466_row7_col3 {\n",
       "  background-color: #fcfbfd;\n",
       "  color: #000000;\n",
       "}\n",
       "#T_1c466_row0_col3, #T_1c466_row0_col4, #T_1c466_row0_col5, #T_1c466_row0_col6, #T_1c466_row0_col7, #T_1c466_row1_col0, #T_1c466_row3_col0, #T_1c466_row4_col0, #T_1c466_row5_col0, #T_1c466_row6_col0, #T_1c466_row7_col0, #T_1c466_row7_col1, #T_1c466_row7_col2 {\n",
       "  background-color: #3f007d;\n",
       "  color: #f1f1f1;\n",
       "}\n",
       "#T_1c466_row1_col1, #T_1c466_row6_col2 {\n",
       "  background-color: #9e9bc8;\n",
       "  color: #f1f1f1;\n",
       "}\n",
       "#T_1c466_row1_col2 {\n",
       "  background-color: #c0c1de;\n",
       "  color: #000000;\n",
       "}\n",
       "#T_1c466_row1_col4, #T_1c466_row5_col4 {\n",
       "  background-color: #f7f6fa;\n",
       "  color: #000000;\n",
       "}\n",
       "#T_1c466_row1_col5, #T_1c466_row5_col5 {\n",
       "  background-color: #f9f8fb;\n",
       "  color: #000000;\n",
       "}\n",
       "#T_1c466_row1_col6, #T_1c466_row5_col6 {\n",
       "  background-color: #eeecf4;\n",
       "  color: #000000;\n",
       "}\n",
       "#T_1c466_row1_col7, #T_1c466_row5_col7 {\n",
       "  background-color: #f7f5fa;\n",
       "  color: #000000;\n",
       "}\n",
       "#T_1c466_row2_col1 {\n",
       "  background-color: #dcdcec;\n",
       "  color: #000000;\n",
       "}\n",
       "#T_1c466_row2_col2 {\n",
       "  background-color: #e0dfee;\n",
       "  color: #000000;\n",
       "}\n",
       "#T_1c466_row2_col5 {\n",
       "  background-color: #fbfafc;\n",
       "  color: #000000;\n",
       "}\n",
       "#T_1c466_row2_col6, #T_1c466_row3_col7, #T_1c466_row4_col5 {\n",
       "  background-color: #faf9fc;\n",
       "  color: #000000;\n",
       "}\n",
       "#T_1c466_row3_col1, #T_1c466_row6_col4, #T_1c466_row6_col7 {\n",
       "  background-color: #f5f4f9;\n",
       "  color: #000000;\n",
       "}\n",
       "#T_1c466_row3_col2, #T_1c466_row4_col7 {\n",
       "  background-color: #f8f7fb;\n",
       "  color: #000000;\n",
       "}\n",
       "#T_1c466_row4_col1 {\n",
       "  background-color: #d1d2e7;\n",
       "  color: #000000;\n",
       "}\n",
       "#T_1c466_row4_col2 {\n",
       "  background-color: #e7e6f1;\n",
       "  color: #000000;\n",
       "}\n",
       "#T_1c466_row4_col4 {\n",
       "  background-color: #f9f7fb;\n",
       "  color: #000000;\n",
       "}\n",
       "#T_1c466_row4_col6 {\n",
       "  background-color: #f5f3f8;\n",
       "  color: #000000;\n",
       "}\n",
       "#T_1c466_row5_col1 {\n",
       "  background-color: #9c98c7;\n",
       "  color: #f1f1f1;\n",
       "}\n",
       "#T_1c466_row5_col2 {\n",
       "  background-color: #c6c7e1;\n",
       "  color: #000000;\n",
       "}\n",
       "#T_1c466_row6_col1 {\n",
       "  background-color: #786db2;\n",
       "  color: #f1f1f1;\n",
       "}\n",
       "#T_1c466_row6_col5 {\n",
       "  background-color: #f8f6fa;\n",
       "  color: #000000;\n",
       "}\n",
       "#T_1c466_row6_col6 {\n",
       "  background-color: #e3e2ef;\n",
       "  color: #000000;\n",
       "}\n",
       "#T_1c466_row7_col4 {\n",
       "  background-color: #f3f1f7;\n",
       "  color: #000000;\n",
       "}\n",
       "#T_1c466_row7_col5 {\n",
       "  background-color: #f6f5f9;\n",
       "  color: #000000;\n",
       "}\n",
       "#T_1c466_row7_col6 {\n",
       "  background-color: #d8d8ea;\n",
       "  color: #000000;\n",
       "}\n",
       "#T_1c466_row7_col7 {\n",
       "  background-color: #f4f2f8;\n",
       "  color: #000000;\n",
       "}\n",
       "</style>\n",
       "<table id=\"T_1c466\">\n",
       "  <thead>\n",
       "    <tr>\n",
       "      <th class=\"blank level0\" >&nbsp;</th>\n",
       "      <th id=\"T_1c466_level0_col0\" class=\"col_heading level0 col0\" >Year</th>\n",
       "      <th id=\"T_1c466_level0_col1\" class=\"col_heading level0 col1\" >Units Sold</th>\n",
       "      <th id=\"T_1c466_level0_col2\" class=\"col_heading level0 col2\" >Revenue ($)</th>\n",
       "      <th id=\"T_1c466_level0_col3\" class=\"col_heading level0 col3\" >Market Share (%)</th>\n",
       "      <th id=\"T_1c466_level0_col4\" class=\"col_heading level0 col4\" >Regional 5G Coverage (%)</th>\n",
       "      <th id=\"T_1c466_level0_col5\" class=\"col_heading level0 col5\" >5G Subscribers (millions)</th>\n",
       "      <th id=\"T_1c466_level0_col6\" class=\"col_heading level0 col6\" >Avg 5G Speed (Mbps)</th>\n",
       "      <th id=\"T_1c466_level0_col7\" class=\"col_heading level0 col7\" >Preference for 5G (%)</th>\n",
       "    </tr>\n",
       "  </thead>\n",
       "  <tbody>\n",
       "    <tr>\n",
       "      <th id=\"T_1c466_level0_row0\" class=\"row_heading level0 row0\" >count</th>\n",
       "      <td id=\"T_1c466_row0_col0\" class=\"data row0 col0\" >1000.000000</td>\n",
       "      <td id=\"T_1c466_row0_col1\" class=\"data row0 col1\" >1000.000000</td>\n",
       "      <td id=\"T_1c466_row0_col2\" class=\"data row0 col2\" >1000.000000</td>\n",
       "      <td id=\"T_1c466_row0_col3\" class=\"data row0 col3\" >1000.000000</td>\n",
       "      <td id=\"T_1c466_row0_col4\" class=\"data row0 col4\" >1000.000000</td>\n",
       "      <td id=\"T_1c466_row0_col5\" class=\"data row0 col5\" >1000.000000</td>\n",
       "      <td id=\"T_1c466_row0_col6\" class=\"data row0 col6\" >1000.000000</td>\n",
       "      <td id=\"T_1c466_row0_col7\" class=\"data row0 col7\" >1000.000000</td>\n",
       "    </tr>\n",
       "    <tr>\n",
       "      <th id=\"T_1c466_level0_row1\" class=\"row_heading level0 row1\" >mean</th>\n",
       "      <td id=\"T_1c466_row1_col0\" class=\"data row1 col0\" >2021.456000</td>\n",
       "      <td id=\"T_1c466_row1_col1\" class=\"data row1 col1\" >32842.990000</td>\n",
       "      <td id=\"T_1c466_row1_col2\" class=\"data row1 col2\" >30197331.897409</td>\n",
       "      <td id=\"T_1c466_row1_col3\" class=\"data row1 col3\" >3.723570</td>\n",
       "      <td id=\"T_1c466_row1_col4\" class=\"data row1 col4\" >66.889720</td>\n",
       "      <td id=\"T_1c466_row1_col5\" class=\"data row1 col5\" >30.152080</td>\n",
       "      <td id=\"T_1c466_row1_col6\" class=\"data row1 col6\" >179.225560</td>\n",
       "      <td id=\"T_1c466_row1_col7\" class=\"data row1 col7\" >67.142910</td>\n",
       "    </tr>\n",
       "    <tr>\n",
       "      <th id=\"T_1c466_level0_row2\" class=\"row_heading level0 row2\" >std</th>\n",
       "      <td id=\"T_1c466_row2_col0\" class=\"data row2 col0\" >1.700281</td>\n",
       "      <td id=\"T_1c466_row2_col1\" class=\"data row2 col1\" >16039.770572</td>\n",
       "      <td id=\"T_1c466_row2_col2\" class=\"data row2 col2\" >18379406.418187</td>\n",
       "      <td id=\"T_1c466_row2_col3\" class=\"data row2 col3\" >1.991108</td>\n",
       "      <td id=\"T_1c466_row2_col4\" class=\"data row2 col4\" >19.254095</td>\n",
       "      <td id=\"T_1c466_row2_col5\" class=\"data row2 col5\" >14.537781</td>\n",
       "      <td id=\"T_1c466_row2_col6\" class=\"data row2 col6\" >70.470934</td>\n",
       "      <td id=\"T_1c466_row2_col7\" class=\"data row2 col7\" >15.759250</td>\n",
       "    </tr>\n",
       "    <tr>\n",
       "      <th id=\"T_1c466_level0_row3\" class=\"row_heading level0 row3\" >min</th>\n",
       "      <td id=\"T_1c466_row3_col0\" class=\"data row3 col0\" >2019.000000</td>\n",
       "      <td id=\"T_1c466_row3_col1\" class=\"data row3 col1\" >5309.000000</td>\n",
       "      <td id=\"T_1c466_row3_col2\" class=\"data row3 col2\" >2987436.384000</td>\n",
       "      <td id=\"T_1c466_row3_col3\" class=\"data row3 col3\" >-0.490000</td>\n",
       "      <td id=\"T_1c466_row3_col4\" class=\"data row3 col4\" >25.340000</td>\n",
       "      <td id=\"T_1c466_row3_col5\" class=\"data row3 col5\" >-0.890000</td>\n",
       "      <td id=\"T_1c466_row3_col6\" class=\"data row3 col6\" >50.370000</td>\n",
       "      <td id=\"T_1c466_row3_col7\" class=\"data row3 col7\" >37.140000</td>\n",
       "    </tr>\n",
       "    <tr>\n",
       "      <th id=\"T_1c466_level0_row4\" class=\"row_heading level0 row4\" >25%</th>\n",
       "      <td id=\"T_1c466_row4_col0\" class=\"data row4 col0\" >2020.000000</td>\n",
       "      <td id=\"T_1c466_row4_col1\" class=\"data row4 col1\" >19327.250000</td>\n",
       "      <td id=\"T_1c466_row4_col2\" class=\"data row4 col2\" >14607494.420000</td>\n",
       "      <td id=\"T_1c466_row4_col3\" class=\"data row4 col3\" >2.635000</td>\n",
       "      <td id=\"T_1c466_row4_col4\" class=\"data row4 col4\" >50.400000</td>\n",
       "      <td id=\"T_1c466_row4_col5\" class=\"data row4 col5\" >18.412500</td>\n",
       "      <td id=\"T_1c466_row4_col6\" class=\"data row4 col6\" >120.410000</td>\n",
       "      <td id=\"T_1c466_row4_col7\" class=\"data row4 col7\" >53.267500</td>\n",
       "    </tr>\n",
       "    <tr>\n",
       "      <th id=\"T_1c466_level0_row5\" class=\"row_heading level0 row5\" >50%</th>\n",
       "      <td id=\"T_1c466_row5_col0\" class=\"data row5 col0\" >2021.000000</td>\n",
       "      <td id=\"T_1c466_row5_col1\" class=\"data row5 col1\" >33689.000000</td>\n",
       "      <td id=\"T_1c466_row5_col2\" class=\"data row5 col2\" >28012004.950000</td>\n",
       "      <td id=\"T_1c466_row5_col3\" class=\"data row5 col3\" >3.760000</td>\n",
       "      <td id=\"T_1c466_row5_col4\" class=\"data row5 col4\" >67.050000</td>\n",
       "      <td id=\"T_1c466_row5_col5\" class=\"data row5 col5\" >29.915000</td>\n",
       "      <td id=\"T_1c466_row5_col6\" class=\"data row5 col6\" >177.390000</td>\n",
       "      <td id=\"T_1c466_row5_col7\" class=\"data row5 col7\" >66.960000</td>\n",
       "    </tr>\n",
       "    <tr>\n",
       "      <th id=\"T_1c466_level0_row6\" class=\"row_heading level0 row6\" >75%</th>\n",
       "      <td id=\"T_1c466_row6_col0\" class=\"data row6 col0\" >2023.000000</td>\n",
       "      <td id=\"T_1c466_row6_col1\" class=\"data row6 col1\" >43911.000000</td>\n",
       "      <td id=\"T_1c466_row6_col2\" class=\"data row6 col2\" >41803911.050000</td>\n",
       "      <td id=\"T_1c466_row6_col3\" class=\"data row6 col3\" >5.282500</td>\n",
       "      <td id=\"T_1c466_row6_col4\" class=\"data row6 col4\" >83.210000</td>\n",
       "      <td id=\"T_1c466_row6_col5\" class=\"data row6 col5\" >44.360000</td>\n",
       "      <td id=\"T_1c466_row6_col6\" class=\"data row6 col6\" >238.860000</td>\n",
       "      <td id=\"T_1c466_row6_col7\" class=\"data row6 col7\" >80.990000</td>\n",
       "    </tr>\n",
       "    <tr>\n",
       "      <th id=\"T_1c466_level0_row7\" class=\"row_heading level0 row7\" >max</th>\n",
       "      <td id=\"T_1c466_row7_col0\" class=\"data row7 col0\" >2024.000000</td>\n",
       "      <td id=\"T_1c466_row7_col1\" class=\"data row7 col1\" >64883.000000</td>\n",
       "      <td id=\"T_1c466_row7_col2\" class=\"data row7 col2\" >84264943.840000</td>\n",
       "      <td id=\"T_1c466_row7_col3\" class=\"data row7 col3\" >6.950000</td>\n",
       "      <td id=\"T_1c466_row7_col4\" class=\"data row7 col4\" >103.920000</td>\n",
       "      <td id=\"T_1c466_row7_col5\" class=\"data row7 col5\" >54.940000</td>\n",
       "      <td id=\"T_1c466_row7_col6\" class=\"data row7 col6\" >298.700000</td>\n",
       "      <td id=\"T_1c466_row7_col7\" class=\"data row7 col7\" >94.840000</td>\n",
       "    </tr>\n",
       "  </tbody>\n",
       "</table>\n"
      ],
      "text/plain": [
       "<pandas.io.formats.style.Styler at 0x2145d18c690>"
      ]
     },
     "execution_count": 140,
     "metadata": {},
     "output_type": "execute_result"
    }
   ],
   "source": [
    "df.describe().style.background_gradient(cmap='Purples')"
   ]
  },
  {
   "cell_type": "code",
   "execution_count": 141,
   "metadata": {},
   "outputs": [
    {
     "name": "stdout",
     "output_type": "stream",
     "text": [
      "<class 'pandas.core.frame.DataFrame'>\n",
      "RangeIndex: 1000 entries, 0 to 999\n",
      "Data columns (total 12 columns):\n",
      " #   Column                     Non-Null Count  Dtype  \n",
      "---  ------                     --------------  -----  \n",
      " 0   Year                       1000 non-null   int64  \n",
      " 1   Quarter                    1000 non-null   object \n",
      " 2   Product Model              1000 non-null   object \n",
      " 3   5G Capability              1000 non-null   object \n",
      " 4   Units Sold                 1000 non-null   int64  \n",
      " 5   Revenue ($)                1000 non-null   float64\n",
      " 6   Market Share (%)           1000 non-null   float64\n",
      " 7   Regional 5G Coverage (%)   1000 non-null   float64\n",
      " 8   5G Subscribers (millions)  1000 non-null   float64\n",
      " 9   Avg 5G Speed (Mbps)        1000 non-null   float64\n",
      " 10  Preference for 5G (%)      1000 non-null   float64\n",
      " 11  Region                     1000 non-null   object \n",
      "dtypes: float64(6), int64(2), object(4)\n",
      "memory usage: 93.9+ KB\n"
     ]
    }
   ],
   "source": [
    "df.info()"
   ]
  },
  {
   "cell_type": "code",
   "execution_count": 142,
   "metadata": {},
   "outputs": [
    {
     "data": {
      "text/html": [
       "<div>\n",
       "<style scoped>\n",
       "    .dataframe tbody tr th:only-of-type {\n",
       "        vertical-align: middle;\n",
       "    }\n",
       "\n",
       "    .dataframe tbody tr th {\n",
       "        vertical-align: top;\n",
       "    }\n",
       "\n",
       "    .dataframe thead th {\n",
       "        text-align: right;\n",
       "    }\n",
       "</style>\n",
       "<table border=\"1\" class=\"dataframe\">\n",
       "  <thead>\n",
       "    <tr style=\"text-align: right;\">\n",
       "      <th></th>\n",
       "      <th>Coluna</th>\n",
       "      <th>valores_únicos</th>\n",
       "    </tr>\n",
       "  </thead>\n",
       "  <tbody>\n",
       "    <tr>\n",
       "      <th>0</th>\n",
       "      <td>Year</td>\n",
       "      <td>6</td>\n",
       "    </tr>\n",
       "    <tr>\n",
       "      <th>1</th>\n",
       "      <td>Quarter</td>\n",
       "      <td>4</td>\n",
       "    </tr>\n",
       "    <tr>\n",
       "      <th>2</th>\n",
       "      <td>Product Model</td>\n",
       "      <td>15</td>\n",
       "    </tr>\n",
       "    <tr>\n",
       "      <th>3</th>\n",
       "      <td>5G Capability</td>\n",
       "      <td>2</td>\n",
       "    </tr>\n",
       "    <tr>\n",
       "      <th>4</th>\n",
       "      <td>Units Sold</td>\n",
       "      <td>354</td>\n",
       "    </tr>\n",
       "    <tr>\n",
       "      <th>5</th>\n",
       "      <td>Revenue ($)</td>\n",
       "      <td>360</td>\n",
       "    </tr>\n",
       "    <tr>\n",
       "      <th>6</th>\n",
       "      <td>Market Share (%)</td>\n",
       "      <td>276</td>\n",
       "    </tr>\n",
       "    <tr>\n",
       "      <th>7</th>\n",
       "      <td>Regional 5G Coverage (%)</td>\n",
       "      <td>344</td>\n",
       "    </tr>\n",
       "    <tr>\n",
       "      <th>8</th>\n",
       "      <td>5G Subscribers (millions)</td>\n",
       "      <td>350</td>\n",
       "    </tr>\n",
       "    <tr>\n",
       "      <th>9</th>\n",
       "      <td>Avg 5G Speed (Mbps)</td>\n",
       "      <td>358</td>\n",
       "    </tr>\n",
       "    <tr>\n",
       "      <th>10</th>\n",
       "      <td>Preference for 5G (%)</td>\n",
       "      <td>348</td>\n",
       "    </tr>\n",
       "    <tr>\n",
       "      <th>11</th>\n",
       "      <td>Region</td>\n",
       "      <td>5</td>\n",
       "    </tr>\n",
       "  </tbody>\n",
       "</table>\n",
       "</div>"
      ],
      "text/plain": [
       "                       Coluna  valores_únicos\n",
       "0                        Year               6\n",
       "1                     Quarter               4\n",
       "2               Product Model              15\n",
       "3               5G Capability               2\n",
       "4                  Units Sold             354\n",
       "5                 Revenue ($)             360\n",
       "6            Market Share (%)             276\n",
       "7    Regional 5G Coverage (%)             344\n",
       "8   5G Subscribers (millions)             350\n",
       "9         Avg 5G Speed (Mbps)             358\n",
       "10      Preference for 5G (%)             348\n",
       "11                     Region               5"
      ]
     },
     "execution_count": 142,
     "metadata": {},
     "output_type": "execute_result"
    }
   ],
   "source": [
    "dados={\"Coluna\": [\n",
    "        \"Year\", \"Quarter\", \"Product Model\", \"5G Capability\", \"Units Sold\", \"Revenue ($)\", \n",
    "        \"Market Share (%)\", \"Regional 5G Coverage (%)\", \"5G Subscribers (millions)\", \"Avg 5G Speed (Mbps)\", \n",
    "        \"Preference for 5G (%)\", \"Region\"\n",
    "    ],\n",
    "\"valores_únicos\":[\n",
    "df[\"Year\"].nunique(),\n",
    "df[\"Quarter\"].nunique(),\n",
    "df[\"Product Model\"].nunique(),\n",
    "df[\"5G Capability\"].nunique(),\n",
    "df[\"Units Sold\"].nunique(),\n",
    "df[\"Revenue ($)\"].nunique(),\n",
    "df[\"Market Share (%)\"].nunique(),\n",
    "df[\"Regional 5G Coverage (%)\"].nunique(),\n",
    "df[\"5G Subscribers (millions)\"].nunique(),\n",
    "df[\"Avg 5G Speed (Mbps)\"].nunique(),\n",
    "df[\"Preference for 5G (%)\"].nunique(),\n",
    "df[\"Region\"].nunique()\n",
    "]}\n",
    "#-----------------------------------------------\n",
    "tabela_valores_unicos = pd.DataFrame(dados)\n",
    "tabela_valores_unicos"
   ]
  },
  {
   "cell_type": "code",
   "execution_count": 143,
   "metadata": {},
   "outputs": [
    {
     "data": {
      "text/html": [
       "<div>\n",
       "<style scoped>\n",
       "    .dataframe tbody tr th:only-of-type {\n",
       "        vertical-align: middle;\n",
       "    }\n",
       "\n",
       "    .dataframe tbody tr th {\n",
       "        vertical-align: top;\n",
       "    }\n",
       "\n",
       "    .dataframe thead th {\n",
       "        text-align: right;\n",
       "    }\n",
       "</style>\n",
       "<table border=\"1\" class=\"dataframe\">\n",
       "  <thead>\n",
       "    <tr style=\"text-align: right;\">\n",
       "      <th></th>\n",
       "      <th>0</th>\n",
       "    </tr>\n",
       "  </thead>\n",
       "  <tbody>\n",
       "    <tr>\n",
       "      <th>0</th>\n",
       "      <td>2019</td>\n",
       "    </tr>\n",
       "    <tr>\n",
       "      <th>1</th>\n",
       "      <td>2020</td>\n",
       "    </tr>\n",
       "    <tr>\n",
       "      <th>2</th>\n",
       "      <td>2021</td>\n",
       "    </tr>\n",
       "    <tr>\n",
       "      <th>3</th>\n",
       "      <td>2022</td>\n",
       "    </tr>\n",
       "    <tr>\n",
       "      <th>4</th>\n",
       "      <td>2023</td>\n",
       "    </tr>\n",
       "    <tr>\n",
       "      <th>5</th>\n",
       "      <td>2024</td>\n",
       "    </tr>\n",
       "  </tbody>\n",
       "</table>\n",
       "</div>"
      ],
      "text/plain": [
       "      0\n",
       "0  2019\n",
       "1  2020\n",
       "2  2021\n",
       "3  2022\n",
       "4  2023\n",
       "5  2024"
      ]
     },
     "execution_count": 143,
     "metadata": {},
     "output_type": "execute_result"
    }
   ],
   "source": [
    "dados=df[\"Year\"].unique()\n",
    "yearuni=pd.DataFrame(dados)\n",
    "yearuni"
   ]
  },
  {
   "cell_type": "code",
   "execution_count": 144,
   "metadata": {},
   "outputs": [
    {
     "data": {
      "text/html": [
       "<div>\n",
       "<style scoped>\n",
       "    .dataframe tbody tr th:only-of-type {\n",
       "        vertical-align: middle;\n",
       "    }\n",
       "\n",
       "    .dataframe tbody tr th {\n",
       "        vertical-align: top;\n",
       "    }\n",
       "\n",
       "    .dataframe thead th {\n",
       "        text-align: right;\n",
       "    }\n",
       "</style>\n",
       "<table border=\"1\" class=\"dataframe\">\n",
       "  <thead>\n",
       "    <tr style=\"text-align: right;\">\n",
       "      <th></th>\n",
       "      <th>0</th>\n",
       "    </tr>\n",
       "  </thead>\n",
       "  <tbody>\n",
       "    <tr>\n",
       "      <th>0</th>\n",
       "      <td>Q1</td>\n",
       "    </tr>\n",
       "    <tr>\n",
       "      <th>1</th>\n",
       "      <td>Q2</td>\n",
       "    </tr>\n",
       "    <tr>\n",
       "      <th>2</th>\n",
       "      <td>Q3</td>\n",
       "    </tr>\n",
       "    <tr>\n",
       "      <th>3</th>\n",
       "      <td>Q4</td>\n",
       "    </tr>\n",
       "  </tbody>\n",
       "</table>\n",
       "</div>"
      ],
      "text/plain": [
       "    0\n",
       "0  Q1\n",
       "1  Q2\n",
       "2  Q3\n",
       "3  Q4"
      ]
     },
     "execution_count": 144,
     "metadata": {},
     "output_type": "execute_result"
    }
   ],
   "source": [
    "dados=df[\"Quarter\"].unique()\n",
    "yearuni=pd.DataFrame(dados)\n",
    "yearuni"
   ]
  },
  {
   "cell_type": "code",
   "execution_count": 145,
   "metadata": {},
   "outputs": [
    {
     "data": {
      "text/html": [
       "<div>\n",
       "<style scoped>\n",
       "    .dataframe tbody tr th:only-of-type {\n",
       "        vertical-align: middle;\n",
       "    }\n",
       "\n",
       "    .dataframe tbody tr th {\n",
       "        vertical-align: top;\n",
       "    }\n",
       "\n",
       "    .dataframe thead th {\n",
       "        text-align: right;\n",
       "    }\n",
       "</style>\n",
       "<table border=\"1\" class=\"dataframe\">\n",
       "  <thead>\n",
       "    <tr style=\"text-align: right;\">\n",
       "      <th></th>\n",
       "      <th>0</th>\n",
       "    </tr>\n",
       "  </thead>\n",
       "  <tbody>\n",
       "    <tr>\n",
       "      <th>0</th>\n",
       "      <td>Galaxy S10</td>\n",
       "    </tr>\n",
       "    <tr>\n",
       "      <th>1</th>\n",
       "      <td>Galaxy Note10</td>\n",
       "    </tr>\n",
       "    <tr>\n",
       "      <th>2</th>\n",
       "      <td>Galaxy S20</td>\n",
       "    </tr>\n",
       "    <tr>\n",
       "      <th>3</th>\n",
       "      <td>Galaxy Note20</td>\n",
       "    </tr>\n",
       "    <tr>\n",
       "      <th>4</th>\n",
       "      <td>Galaxy S21</td>\n",
       "    </tr>\n",
       "    <tr>\n",
       "      <th>5</th>\n",
       "      <td>Galaxy A32 5G</td>\n",
       "    </tr>\n",
       "    <tr>\n",
       "      <th>6</th>\n",
       "      <td>Galaxy A52 5G</td>\n",
       "    </tr>\n",
       "    <tr>\n",
       "      <th>7</th>\n",
       "      <td>Galaxy A73 5G</td>\n",
       "    </tr>\n",
       "    <tr>\n",
       "      <th>8</th>\n",
       "      <td>Galaxy Z Fold2 5G</td>\n",
       "    </tr>\n",
       "    <tr>\n",
       "      <th>9</th>\n",
       "      <td>Galaxy Z Flip3 5G</td>\n",
       "    </tr>\n",
       "    <tr>\n",
       "      <th>10</th>\n",
       "      <td>Galaxy S22 5G</td>\n",
       "    </tr>\n",
       "    <tr>\n",
       "      <th>11</th>\n",
       "      <td>Galaxy Z Fold3 5G</td>\n",
       "    </tr>\n",
       "    <tr>\n",
       "      <th>12</th>\n",
       "      <td>Galaxy A14 5G</td>\n",
       "    </tr>\n",
       "    <tr>\n",
       "      <th>13</th>\n",
       "      <td>Galaxy S23 5G</td>\n",
       "    </tr>\n",
       "    <tr>\n",
       "      <th>14</th>\n",
       "      <td>Galaxy Z Flip5 5G</td>\n",
       "    </tr>\n",
       "  </tbody>\n",
       "</table>\n",
       "</div>"
      ],
      "text/plain": [
       "                    0\n",
       "0          Galaxy S10\n",
       "1       Galaxy Note10\n",
       "2          Galaxy S20\n",
       "3       Galaxy Note20\n",
       "4          Galaxy S21\n",
       "5       Galaxy A32 5G\n",
       "6       Galaxy A52 5G\n",
       "7       Galaxy A73 5G\n",
       "8   Galaxy Z Fold2 5G\n",
       "9   Galaxy Z Flip3 5G\n",
       "10      Galaxy S22 5G\n",
       "11  Galaxy Z Fold3 5G\n",
       "12      Galaxy A14 5G\n",
       "13      Galaxy S23 5G\n",
       "14  Galaxy Z Flip5 5G"
      ]
     },
     "execution_count": 145,
     "metadata": {},
     "output_type": "execute_result"
    }
   ],
   "source": [
    "dados=df[\"Product Model\"].unique()\n",
    "yearuni=pd.DataFrame(dados)\n",
    "yearuni"
   ]
  },
  {
   "cell_type": "code",
   "execution_count": 146,
   "metadata": {},
   "outputs": [
    {
     "data": {
      "text/html": [
       "<div>\n",
       "<style scoped>\n",
       "    .dataframe tbody tr th:only-of-type {\n",
       "        vertical-align: middle;\n",
       "    }\n",
       "\n",
       "    .dataframe tbody tr th {\n",
       "        vertical-align: top;\n",
       "    }\n",
       "\n",
       "    .dataframe thead th {\n",
       "        text-align: right;\n",
       "    }\n",
       "</style>\n",
       "<table border=\"1\" class=\"dataframe\">\n",
       "  <thead>\n",
       "    <tr style=\"text-align: right;\">\n",
       "      <th></th>\n",
       "      <th>0</th>\n",
       "    </tr>\n",
       "  </thead>\n",
       "  <tbody>\n",
       "    <tr>\n",
       "      <th>0</th>\n",
       "      <td>Asia-Pacific</td>\n",
       "    </tr>\n",
       "    <tr>\n",
       "      <th>1</th>\n",
       "      <td>Latin America</td>\n",
       "    </tr>\n",
       "    <tr>\n",
       "      <th>2</th>\n",
       "      <td>Middle East &amp; Africa</td>\n",
       "    </tr>\n",
       "    <tr>\n",
       "      <th>3</th>\n",
       "      <td>North America</td>\n",
       "    </tr>\n",
       "    <tr>\n",
       "      <th>4</th>\n",
       "      <td>Europe</td>\n",
       "    </tr>\n",
       "  </tbody>\n",
       "</table>\n",
       "</div>"
      ],
      "text/plain": [
       "                      0\n",
       "0          Asia-Pacific\n",
       "1         Latin America\n",
       "2  Middle East & Africa\n",
       "3         North America\n",
       "4                Europe"
      ]
     },
     "execution_count": 146,
     "metadata": {},
     "output_type": "execute_result"
    }
   ],
   "source": [
    "dados=df[\"Region\"].unique()\n",
    "yearuni=pd.DataFrame(dados)\n",
    "yearuni"
   ]
  },
  {
   "cell_type": "code",
   "execution_count": 147,
   "metadata": {},
   "outputs": [
    {
     "data": {
      "text/html": [
       "<div>\n",
       "<style scoped>\n",
       "    .dataframe tbody tr th:only-of-type {\n",
       "        vertical-align: middle;\n",
       "    }\n",
       "\n",
       "    .dataframe tbody tr th {\n",
       "        vertical-align: top;\n",
       "    }\n",
       "\n",
       "    .dataframe thead th {\n",
       "        text-align: right;\n",
       "    }\n",
       "</style>\n",
       "<table border=\"1\" class=\"dataframe\">\n",
       "  <thead>\n",
       "    <tr style=\"text-align: right;\">\n",
       "      <th></th>\n",
       "      <th>Coluna</th>\n",
       "      <th>valores_Nulos</th>\n",
       "    </tr>\n",
       "  </thead>\n",
       "  <tbody>\n",
       "    <tr>\n",
       "      <th>0</th>\n",
       "      <td>Year</td>\n",
       "      <td>0</td>\n",
       "    </tr>\n",
       "    <tr>\n",
       "      <th>1</th>\n",
       "      <td>Quarter</td>\n",
       "      <td>0</td>\n",
       "    </tr>\n",
       "    <tr>\n",
       "      <th>2</th>\n",
       "      <td>Product Model</td>\n",
       "      <td>0</td>\n",
       "    </tr>\n",
       "    <tr>\n",
       "      <th>3</th>\n",
       "      <td>5G Capability</td>\n",
       "      <td>0</td>\n",
       "    </tr>\n",
       "    <tr>\n",
       "      <th>4</th>\n",
       "      <td>Units Sold</td>\n",
       "      <td>0</td>\n",
       "    </tr>\n",
       "    <tr>\n",
       "      <th>5</th>\n",
       "      <td>Revenue ($)</td>\n",
       "      <td>0</td>\n",
       "    </tr>\n",
       "    <tr>\n",
       "      <th>6</th>\n",
       "      <td>Market Share (%)</td>\n",
       "      <td>0</td>\n",
       "    </tr>\n",
       "    <tr>\n",
       "      <th>7</th>\n",
       "      <td>Regional 5G Coverage (%)</td>\n",
       "      <td>0</td>\n",
       "    </tr>\n",
       "    <tr>\n",
       "      <th>8</th>\n",
       "      <td>5G Subscribers (millions)</td>\n",
       "      <td>0</td>\n",
       "    </tr>\n",
       "    <tr>\n",
       "      <th>9</th>\n",
       "      <td>Avg 5G Speed (Mbps)</td>\n",
       "      <td>0</td>\n",
       "    </tr>\n",
       "    <tr>\n",
       "      <th>10</th>\n",
       "      <td>Preference for 5G (%)</td>\n",
       "      <td>0</td>\n",
       "    </tr>\n",
       "    <tr>\n",
       "      <th>11</th>\n",
       "      <td>Region</td>\n",
       "      <td>0</td>\n",
       "    </tr>\n",
       "  </tbody>\n",
       "</table>\n",
       "</div>"
      ],
      "text/plain": [
       "                       Coluna  valores_Nulos\n",
       "0                        Year              0\n",
       "1                     Quarter              0\n",
       "2               Product Model              0\n",
       "3               5G Capability              0\n",
       "4                  Units Sold              0\n",
       "5                 Revenue ($)              0\n",
       "6            Market Share (%)              0\n",
       "7    Regional 5G Coverage (%)              0\n",
       "8   5G Subscribers (millions)              0\n",
       "9         Avg 5G Speed (Mbps)              0\n",
       "10      Preference for 5G (%)              0\n",
       "11                     Region              0"
      ]
     },
     "execution_count": 147,
     "metadata": {},
     "output_type": "execute_result"
    }
   ],
   "source": [
    "dados={\"Coluna\": [\n",
    "        \"Year\", \"Quarter\", \"Product Model\", \"5G Capability\", \"Units Sold\", \"Revenue ($)\", \n",
    "        \"Market Share (%)\", \"Regional 5G Coverage (%)\", \"5G Subscribers (millions)\", \"Avg 5G Speed (Mbps)\", \n",
    "        \"Preference for 5G (%)\", \"Region\"\n",
    "    ],\n",
    "\"valores_Nulos\":[\n",
    "df[\"Year\"].isna().sum(),\n",
    "df[\"Quarter\"].isna().sum(),\n",
    "df[\"Product Model\"].isna().sum(),\n",
    "df[\"5G Capability\"].isna().sum(),\n",
    "df[\"Units Sold\"].isna().sum(),\n",
    "df[\"Revenue ($)\"].isna().sum(),\n",
    "df[\"Market Share (%)\"].isna().sum(),\n",
    "df[\"Regional 5G Coverage (%)\"].isna().sum(),\n",
    "df[\"5G Subscribers (millions)\"].isna().sum(),\n",
    "df[\"Avg 5G Speed (Mbps)\"].isna().sum(),\n",
    "df[\"Preference for 5G (%)\"].isna().sum(),\n",
    "df[\"Region\"].isna().sum()\n",
    "]}\n",
    "#-----------------------------------------------\n",
    "tabela_valores_unicos = pd.DataFrame(dados)\n",
    "tabela_valores_unicos"
   ]
  },
  {
   "cell_type": "code",
   "execution_count": 148,
   "metadata": {},
   "outputs": [
    {
     "data": {
      "text/html": [
       "<div>\n",
       "<style scoped>\n",
       "    .dataframe tbody tr th:only-of-type {\n",
       "        vertical-align: middle;\n",
       "    }\n",
       "\n",
       "    .dataframe tbody tr th {\n",
       "        vertical-align: top;\n",
       "    }\n",
       "\n",
       "    .dataframe thead th {\n",
       "        text-align: right;\n",
       "    }\n",
       "</style>\n",
       "<table border=\"1\" class=\"dataframe\">\n",
       "  <thead>\n",
       "    <tr style=\"text-align: right;\">\n",
       "      <th></th>\n",
       "      <th>Coluna</th>\n",
       "      <th>valores_duplicados</th>\n",
       "    </tr>\n",
       "  </thead>\n",
       "  <tbody>\n",
       "    <tr>\n",
       "      <th>0</th>\n",
       "      <td>Year</td>\n",
       "      <td>994</td>\n",
       "    </tr>\n",
       "    <tr>\n",
       "      <th>1</th>\n",
       "      <td>Quarter</td>\n",
       "      <td>996</td>\n",
       "    </tr>\n",
       "    <tr>\n",
       "      <th>2</th>\n",
       "      <td>Product Model</td>\n",
       "      <td>985</td>\n",
       "    </tr>\n",
       "    <tr>\n",
       "      <th>3</th>\n",
       "      <td>5G Capability</td>\n",
       "      <td>998</td>\n",
       "    </tr>\n",
       "    <tr>\n",
       "      <th>4</th>\n",
       "      <td>Units Sold</td>\n",
       "      <td>646</td>\n",
       "    </tr>\n",
       "    <tr>\n",
       "      <th>5</th>\n",
       "      <td>Revenue ($)</td>\n",
       "      <td>640</td>\n",
       "    </tr>\n",
       "    <tr>\n",
       "      <th>6</th>\n",
       "      <td>Market Share (%)</td>\n",
       "      <td>724</td>\n",
       "    </tr>\n",
       "    <tr>\n",
       "      <th>7</th>\n",
       "      <td>Regional 5G Coverage (%)</td>\n",
       "      <td>656</td>\n",
       "    </tr>\n",
       "    <tr>\n",
       "      <th>8</th>\n",
       "      <td>5G Subscribers (millions)</td>\n",
       "      <td>650</td>\n",
       "    </tr>\n",
       "    <tr>\n",
       "      <th>9</th>\n",
       "      <td>Avg 5G Speed (Mbps)</td>\n",
       "      <td>642</td>\n",
       "    </tr>\n",
       "    <tr>\n",
       "      <th>10</th>\n",
       "      <td>Preference for 5G (%)</td>\n",
       "      <td>652</td>\n",
       "    </tr>\n",
       "    <tr>\n",
       "      <th>11</th>\n",
       "      <td>Region</td>\n",
       "      <td>995</td>\n",
       "    </tr>\n",
       "  </tbody>\n",
       "</table>\n",
       "</div>"
      ],
      "text/plain": [
       "                       Coluna  valores_duplicados\n",
       "0                        Year                 994\n",
       "1                     Quarter                 996\n",
       "2               Product Model                 985\n",
       "3               5G Capability                 998\n",
       "4                  Units Sold                 646\n",
       "5                 Revenue ($)                 640\n",
       "6            Market Share (%)                 724\n",
       "7    Regional 5G Coverage (%)                 656\n",
       "8   5G Subscribers (millions)                 650\n",
       "9         Avg 5G Speed (Mbps)                 642\n",
       "10      Preference for 5G (%)                 652\n",
       "11                     Region                 995"
      ]
     },
     "execution_count": 148,
     "metadata": {},
     "output_type": "execute_result"
    }
   ],
   "source": [
    "dados={\"Coluna\": [\n",
    "        \"Year\", \"Quarter\", \"Product Model\", \"5G Capability\", \"Units Sold\", \"Revenue ($)\", \n",
    "        \"Market Share (%)\", \"Regional 5G Coverage (%)\", \"5G Subscribers (millions)\", \"Avg 5G Speed (Mbps)\", \n",
    "        \"Preference for 5G (%)\", \"Region\"\n",
    "    ],\n",
    "\"valores_duplicados\":[\n",
    "df[\"Year\"].duplicated().sum(),\n",
    "df[\"Quarter\"].duplicated().sum(),\n",
    "df[\"Product Model\"].duplicated().sum(),\n",
    "df[\"5G Capability\"].duplicated().sum(),\n",
    "df[\"Units Sold\"].duplicated().sum(),\n",
    "df[\"Revenue ($)\"].duplicated().sum(),\n",
    "df[\"Market Share (%)\"].duplicated().sum(),\n",
    "df[\"Regional 5G Coverage (%)\"].duplicated().sum(),\n",
    "df[\"5G Subscribers (millions)\"].duplicated().sum(),\n",
    "df[\"Avg 5G Speed (Mbps)\"].duplicated().sum(),\n",
    "df[\"Preference for 5G (%)\"].duplicated().sum(),\n",
    "df[\"Region\"].duplicated().sum()]}\n",
    "\n",
    "#-----------------------------------------------\n",
    "tabela_valores_unicos = pd.DataFrame(dados)\n",
    "tabela_valores_unicos"
   ]
  },
  {
   "cell_type": "markdown",
   "metadata": {},
   "source": [
    "# <span style=\"color: #800080;\">Visualização dos dados</span>\n"
   ]
  },
  {
   "cell_type": "code",
   "execution_count": 149,
   "metadata": {},
   "outputs": [],
   "source": [
    "import plotly.express as px\n",
    "import seaborn as sns\n",
    "import matplotlib.pyplot as plt"
   ]
  },
  {
   "cell_type": "code",
   "execution_count": 150,
   "metadata": {},
   "outputs": [
    {
     "data": {
      "application/vnd.plotly.v1+json": {
       "config": {
        "plotlyServerURL": "https://plot.ly"
       },
       "data": [
        {
         "domain": {
          "x": [
           0,
           1
          ],
          "y": [
           0,
           1
          ]
         },
         "hovertemplate": "Region=%{label}<extra></extra>",
         "labels": [
          "Asia-Pacific",
          "Latin America",
          "Middle East & Africa",
          "North America",
          "Latin America",
          "Middle East & Africa",
          "Latin America",
          "Europe",
          "North America",
          "Latin America",
          "Middle East & Africa",
          "Asia-Pacific",
          "Middle East & Africa",
          "Europe",
          "Latin America",
          "Middle East & Africa",
          "Middle East & Africa",
          "Middle East & Africa",
          "Middle East & Africa",
          "Middle East & Africa",
          "Europe",
          "Asia-Pacific",
          "North America",
          "North America",
          "North America",
          "Middle East & Africa",
          "Latin America",
          "North America",
          "North America",
          "Latin America",
          "North America",
          "Middle East & Africa",
          "Asia-Pacific",
          "Latin America",
          "Europe",
          "Europe",
          "Latin America",
          "Asia-Pacific",
          "Asia-Pacific",
          "Europe",
          "Middle East & Africa",
          "Middle East & Africa",
          "North America",
          "Latin America",
          "Latin America",
          "North America",
          "Europe",
          "Europe",
          "Middle East & Africa",
          "Europe",
          "Latin America",
          "North America",
          "Middle East & Africa",
          "Asia-Pacific",
          "Latin America",
          "Asia-Pacific",
          "North America",
          "Europe",
          "Asia-Pacific",
          "Latin America",
          "Europe",
          "Latin America",
          "North America",
          "Latin America",
          "Latin America",
          "Asia-Pacific",
          "Middle East & Africa",
          "Middle East & Africa",
          "Asia-Pacific",
          "Latin America",
          "Latin America",
          "North America",
          "Middle East & Africa",
          "North America",
          "North America",
          "Latin America",
          "Europe",
          "Europe",
          "Latin America",
          "Asia-Pacific",
          "North America",
          "Europe",
          "Middle East & Africa",
          "North America",
          "Europe",
          "North America",
          "Latin America",
          "Latin America",
          "Latin America",
          "Asia-Pacific",
          "Middle East & Africa",
          "Europe",
          "North America",
          "Middle East & Africa",
          "Middle East & Africa",
          "Asia-Pacific",
          "North America",
          "Europe",
          "Middle East & Africa",
          "Latin America",
          "Europe",
          "Latin America",
          "Europe",
          "Europe",
          "North America",
          "North America",
          "Asia-Pacific",
          "Middle East & Africa",
          "North America",
          "Latin America",
          "Asia-Pacific",
          "North America",
          "Asia-Pacific",
          "Europe",
          "Middle East & Africa",
          "North America",
          "North America",
          "North America",
          "Latin America",
          "Middle East & Africa",
          "North America",
          "Europe",
          "Middle East & Africa",
          "Europe",
          "Middle East & Africa",
          "Middle East & Africa",
          "Latin America",
          "Europe",
          "Asia-Pacific",
          "Europe",
          "North America",
          "Asia-Pacific",
          "Europe",
          "Latin America",
          "Asia-Pacific",
          "North America",
          "North America",
          "North America",
          "Latin America",
          "Asia-Pacific",
          "Middle East & Africa",
          "Middle East & Africa",
          "Asia-Pacific",
          "Latin America",
          "Europe",
          "North America",
          "Latin America",
          "Europe",
          "Latin America",
          "Middle East & Africa",
          "Asia-Pacific",
          "Europe",
          "Latin America",
          "Latin America",
          "Middle East & Africa",
          "Middle East & Africa",
          "Europe",
          "Middle East & Africa",
          "Asia-Pacific",
          "North America",
          "Middle East & Africa",
          "Europe",
          "Asia-Pacific",
          "Europe",
          "Asia-Pacific",
          "Asia-Pacific",
          "North America",
          "Latin America",
          "Europe",
          "Middle East & Africa",
          "Middle East & Africa",
          "Asia-Pacific",
          "North America",
          "Europe",
          "Asia-Pacific",
          "Latin America",
          "Europe",
          "Asia-Pacific",
          "Asia-Pacific",
          "Europe",
          "Europe",
          "Latin America",
          "North America",
          "North America",
          "North America",
          "Europe",
          "Europe",
          "Europe",
          "Europe",
          "Middle East & Africa",
          "Latin America",
          "Latin America",
          "North America",
          "Asia-Pacific",
          "Latin America",
          "Latin America",
          "North America",
          "Asia-Pacific",
          "Europe",
          "North America",
          "Middle East & Africa",
          "Latin America",
          "Europe",
          "Asia-Pacific",
          "Latin America",
          "Middle East & Africa",
          "North America",
          "Middle East & Africa",
          "Asia-Pacific",
          "Latin America",
          "Asia-Pacific",
          "Middle East & Africa",
          "Asia-Pacific",
          "North America",
          "North America",
          "North America",
          "North America",
          "Middle East & Africa",
          "Latin America",
          "Middle East & Africa",
          "Middle East & Africa",
          "Europe",
          "North America",
          "Asia-Pacific",
          "Asia-Pacific",
          "North America",
          "Asia-Pacific",
          "Asia-Pacific",
          "Asia-Pacific",
          "Europe",
          "North America",
          "Middle East & Africa",
          "North America",
          "Europe",
          "Europe",
          "Latin America",
          "North America",
          "Latin America",
          "Asia-Pacific",
          "Latin America",
          "Europe",
          "North America",
          "Europe",
          "Latin America",
          "North America",
          "Asia-Pacific",
          "Asia-Pacific",
          "Europe",
          "Asia-Pacific",
          "Asia-Pacific",
          "North America",
          "Middle East & Africa",
          "Middle East & Africa",
          "Asia-Pacific",
          "Europe",
          "Europe",
          "Europe",
          "Europe",
          "North America",
          "Middle East & Africa",
          "Latin America",
          "Asia-Pacific",
          "Latin America",
          "North America",
          "Latin America",
          "Latin America",
          "Latin America",
          "Middle East & Africa",
          "Latin America",
          "Latin America",
          "Asia-Pacific",
          "Middle East & Africa",
          "Europe",
          "Europe",
          "Europe",
          "North America",
          "North America",
          "North America",
          "Asia-Pacific",
          "Europe",
          "North America",
          "North America",
          "Latin America",
          "Asia-Pacific",
          "Latin America",
          "North America",
          "North America",
          "Latin America",
          "Middle East & Africa",
          "Latin America",
          "Europe",
          "Asia-Pacific",
          "Middle East & Africa",
          "Asia-Pacific",
          "Asia-Pacific",
          "Latin America",
          "North America",
          "North America",
          "Europe",
          "Middle East & Africa",
          "North America",
          "Europe",
          "Asia-Pacific",
          "Asia-Pacific",
          "Middle East & Africa",
          "North America",
          "Latin America",
          "North America",
          "Middle East & Africa",
          "Latin America",
          "Europe",
          "Europe",
          "Asia-Pacific",
          "Middle East & Africa",
          "North America",
          "Middle East & Africa",
          "North America",
          "Europe",
          "Europe",
          "Latin America",
          "North America",
          "Latin America",
          "Asia-Pacific",
          "North America",
          "Latin America",
          "Asia-Pacific",
          "Europe",
          "North America",
          "Middle East & Africa",
          "Middle East & Africa",
          "Asia-Pacific",
          "Asia-Pacific",
          "Europe",
          "Middle East & Africa",
          "Latin America",
          "Middle East & Africa",
          "Middle East & Africa",
          "Europe",
          "Middle East & Africa",
          "North America",
          "Middle East & Africa",
          "North America",
          "Latin America",
          "North America",
          "Europe",
          "Middle East & Africa",
          "Asia-Pacific",
          "Europe",
          "Latin America",
          "Middle East & Africa",
          "Latin America",
          "Asia-Pacific",
          "North America",
          "Middle East & Africa",
          "Middle East & Africa",
          "Europe",
          "North America",
          "Asia-Pacific",
          "North America",
          "Asia-Pacific",
          "Asia-Pacific",
          "Latin America",
          "Middle East & Africa",
          "North America",
          "Latin America",
          "Middle East & Africa",
          "Latin America",
          "Europe",
          "North America",
          "Latin America",
          "Middle East & Africa",
          "Asia-Pacific",
          "Middle East & Africa",
          "Europe",
          "Latin America",
          "Middle East & Africa",
          "Middle East & Africa",
          "Middle East & Africa",
          "Middle East & Africa",
          "Middle East & Africa",
          "Europe",
          "Asia-Pacific",
          "North America",
          "North America",
          "North America",
          "Middle East & Africa",
          "Latin America",
          "North America",
          "North America",
          "Latin America",
          "North America",
          "Middle East & Africa",
          "Asia-Pacific",
          "Latin America",
          "Europe",
          "Europe",
          "Latin America",
          "Asia-Pacific",
          "Asia-Pacific",
          "Europe",
          "Middle East & Africa",
          "Middle East & Africa",
          "North America",
          "Latin America",
          "Latin America",
          "North America",
          "Europe",
          "Europe",
          "Middle East & Africa",
          "Europe",
          "Latin America",
          "North America",
          "Middle East & Africa",
          "Asia-Pacific",
          "Latin America",
          "Asia-Pacific",
          "North America",
          "Europe",
          "Asia-Pacific",
          "Latin America",
          "Europe",
          "Latin America",
          "North America",
          "Latin America",
          "Latin America",
          "Asia-Pacific",
          "Middle East & Africa",
          "Middle East & Africa",
          "Asia-Pacific",
          "Latin America",
          "Latin America",
          "North America",
          "Middle East & Africa",
          "North America",
          "North America",
          "Latin America",
          "Europe",
          "Europe",
          "Latin America",
          "Asia-Pacific",
          "North America",
          "Europe",
          "Middle East & Africa",
          "North America",
          "Europe",
          "North America",
          "Latin America",
          "Latin America",
          "Latin America",
          "Asia-Pacific",
          "Middle East & Africa",
          "Europe",
          "North America",
          "Middle East & Africa",
          "Middle East & Africa",
          "Asia-Pacific",
          "North America",
          "Europe",
          "Middle East & Africa",
          "Latin America",
          "Europe",
          "Latin America",
          "Europe",
          "Europe",
          "North America",
          "North America",
          "Asia-Pacific",
          "Middle East & Africa",
          "North America",
          "Latin America",
          "Asia-Pacific",
          "North America",
          "Asia-Pacific",
          "Europe",
          "Middle East & Africa",
          "North America",
          "North America",
          "North America",
          "Latin America",
          "Middle East & Africa",
          "North America",
          "Europe",
          "Middle East & Africa",
          "Europe",
          "Middle East & Africa",
          "Middle East & Africa",
          "Latin America",
          "Europe",
          "Asia-Pacific",
          "Europe",
          "North America",
          "Asia-Pacific",
          "Europe",
          "Latin America",
          "Asia-Pacific",
          "North America",
          "North America",
          "North America",
          "Latin America",
          "Asia-Pacific",
          "Middle East & Africa",
          "Middle East & Africa",
          "Asia-Pacific",
          "Latin America",
          "Europe",
          "North America",
          "Latin America",
          "Europe",
          "Latin America",
          "Middle East & Africa",
          "Asia-Pacific",
          "Europe",
          "Latin America",
          "Latin America",
          "Middle East & Africa",
          "Middle East & Africa",
          "Europe",
          "Middle East & Africa",
          "Asia-Pacific",
          "North America",
          "Middle East & Africa",
          "Europe",
          "Asia-Pacific",
          "Europe",
          "Asia-Pacific",
          "Asia-Pacific",
          "North America",
          "Latin America",
          "Europe",
          "Middle East & Africa",
          "Middle East & Africa",
          "Asia-Pacific",
          "North America",
          "Europe",
          "Asia-Pacific",
          "Latin America",
          "Europe",
          "Asia-Pacific",
          "Asia-Pacific",
          "Europe",
          "Europe",
          "Latin America",
          "North America",
          "North America",
          "North America",
          "Europe",
          "Europe",
          "Europe",
          "Europe",
          "Middle East & Africa",
          "Latin America",
          "Latin America",
          "North America",
          "Asia-Pacific",
          "Latin America",
          "Latin America",
          "North America",
          "Asia-Pacific",
          "Europe",
          "North America",
          "Middle East & Africa",
          "Latin America",
          "Europe",
          "Asia-Pacific",
          "Latin America",
          "Middle East & Africa",
          "North America",
          "Middle East & Africa",
          "Asia-Pacific",
          "Latin America",
          "Asia-Pacific",
          "Middle East & Africa",
          "Asia-Pacific",
          "North America",
          "North America",
          "North America",
          "North America",
          "Middle East & Africa",
          "Latin America",
          "Middle East & Africa",
          "Middle East & Africa",
          "Europe",
          "North America",
          "Asia-Pacific",
          "Asia-Pacific",
          "North America",
          "Asia-Pacific",
          "Asia-Pacific",
          "Asia-Pacific",
          "Europe",
          "North America",
          "Middle East & Africa",
          "North America",
          "Europe",
          "Europe",
          "Latin America",
          "North America",
          "Latin America",
          "Asia-Pacific",
          "Latin America",
          "Europe",
          "North America",
          "Europe",
          "Latin America",
          "North America",
          "Asia-Pacific",
          "Asia-Pacific",
          "Europe",
          "Asia-Pacific",
          "Asia-Pacific",
          "North America",
          "Middle East & Africa",
          "Middle East & Africa",
          "Asia-Pacific",
          "Europe",
          "Europe",
          "Europe",
          "Europe",
          "North America",
          "Middle East & Africa",
          "Latin America",
          "Asia-Pacific",
          "Latin America",
          "North America",
          "Latin America",
          "Latin America",
          "Latin America",
          "Middle East & Africa",
          "Latin America",
          "Latin America",
          "Asia-Pacific",
          "Middle East & Africa",
          "Europe",
          "Europe",
          "Europe",
          "North America",
          "North America",
          "North America",
          "Asia-Pacific",
          "Europe",
          "North America",
          "North America",
          "Latin America",
          "Asia-Pacific",
          "Latin America",
          "North America",
          "North America",
          "Latin America",
          "Middle East & Africa",
          "Latin America",
          "Europe",
          "Asia-Pacific",
          "Middle East & Africa",
          "Asia-Pacific",
          "Asia-Pacific",
          "Latin America",
          "North America",
          "North America",
          "Europe",
          "Middle East & Africa",
          "North America",
          "Europe",
          "Asia-Pacific",
          "Asia-Pacific",
          "Middle East & Africa",
          "North America",
          "Latin America",
          "North America",
          "Middle East & Africa",
          "Latin America",
          "Europe",
          "Europe",
          "Asia-Pacific",
          "Middle East & Africa",
          "North America",
          "Middle East & Africa",
          "North America",
          "Europe",
          "Europe",
          "Latin America",
          "North America",
          "Latin America",
          "Asia-Pacific",
          "North America",
          "Latin America",
          "Asia-Pacific",
          "Europe",
          "North America",
          "Middle East & Africa",
          "Middle East & Africa",
          "Asia-Pacific",
          "Asia-Pacific",
          "Europe",
          "Middle East & Africa",
          "Latin America",
          "Middle East & Africa",
          "Middle East & Africa",
          "Europe",
          "Middle East & Africa",
          "North America",
          "Middle East & Africa",
          "North America",
          "Latin America",
          "North America",
          "Europe",
          "Middle East & Africa",
          "Asia-Pacific",
          "Europe",
          "Latin America",
          "Middle East & Africa",
          "Latin America",
          "Asia-Pacific",
          "North America",
          "Middle East & Africa",
          "Middle East & Africa",
          "Europe",
          "North America",
          "Asia-Pacific",
          "North America",
          "Asia-Pacific",
          "Europe",
          "North America",
          "Middle East & Africa",
          "North America",
          "North America",
          "Middle East & Africa",
          "Middle East & Africa",
          "North America",
          "North America",
          "Latin America",
          "Middle East & Africa",
          "Asia-Pacific",
          "Europe",
          "Middle East & Africa",
          "Latin America",
          "Asia-Pacific",
          "Asia-Pacific",
          "Europe",
          "Europe",
          "Latin America",
          "Latin America",
          "Europe",
          "Latin America",
          "Asia-Pacific",
          "Latin America",
          "Middle East & Africa",
          "Middle East & Africa",
          "Middle East & Africa",
          "Latin America",
          "Asia-Pacific",
          "North America",
          "Latin America",
          "Latin America",
          "North America",
          "Latin America",
          "Europe",
          "North America",
          "Middle East & Africa",
          "Latin America",
          "Middle East & Africa",
          "Middle East & Africa",
          "Latin America",
          "Asia-Pacific",
          "Middle East & Africa",
          "Asia-Pacific",
          "Middle East & Africa",
          "Middle East & Africa",
          "Middle East & Africa",
          "Latin America",
          "North America",
          "North America",
          "Middle East & Africa",
          "Asia-Pacific",
          "North America",
          "Middle East & Africa",
          "Asia-Pacific",
          "Latin America",
          "Europe",
          "Europe",
          "North America",
          "Europe",
          "North America",
          "Europe",
          "Europe",
          "Asia-Pacific",
          "Asia-Pacific",
          "Europe",
          "Asia-Pacific",
          "Europe",
          "Europe",
          "North America",
          "North America",
          "Europe",
          "Latin America",
          "Middle East & Africa",
          "Europe",
          "Latin America",
          "Middle East & Africa",
          "Latin America",
          "Latin America",
          "Asia-Pacific",
          "North America",
          "North America",
          "Asia-Pacific",
          "North America",
          "Latin America",
          "Latin America",
          "Middle East & Africa",
          "Europe",
          "North America",
          "Latin America",
          "Asia-Pacific",
          "Middle East & Africa",
          "Latin America",
          "North America",
          "Middle East & Africa",
          "North America",
          "North America",
          "Europe",
          "Latin America",
          "Middle East & Africa",
          "North America",
          "Latin America",
          "North America",
          "North America",
          "North America",
          "North America",
          "Asia-Pacific",
          "Middle East & Africa",
          "Europe",
          "Latin America",
          "Europe",
          "Asia-Pacific",
          "Europe",
          "North America",
          "Europe",
          "Europe",
          "Europe",
          "Latin America",
          "North America",
          "North America",
          "Europe",
          "Latin America",
          "North America",
          "North America",
          "Asia-Pacific",
          "Middle East & Africa",
          "Asia-Pacific",
          "Asia-Pacific",
          "Asia-Pacific",
          "North America",
          "Asia-Pacific",
          "Latin America",
          "Europe",
          "North America",
          "Asia-Pacific",
          "Middle East & Africa",
          "Asia-Pacific",
          "Asia-Pacific",
          "North America",
          "Middle East & Africa",
          "Middle East & Africa",
          "Europe",
          "Asia-Pacific",
          "North America",
          "Europe",
          "Latin America",
          "Latin America",
          "Latin America",
          "North America",
          "Middle East & Africa",
          "Middle East & Africa",
          "Europe",
          "Latin America",
          "Asia-Pacific",
          "North America",
          "Europe",
          "Latin America",
          "Latin America",
          "North America",
          "Asia-Pacific",
          "North America",
          "Middle East & Africa",
          "Latin America",
          "Middle East & Africa",
          "Latin America",
          "Latin America",
          "North America",
          "North America",
          "Middle East & Africa",
          "Latin America",
          "North America",
          "Europe",
          "Europe",
          "Asia-Pacific",
          "Latin America",
          "Europe",
          "North America",
          "North America",
          "Europe",
          "North America",
          "Asia-Pacific",
          "Asia-Pacific",
          "Europe",
          "North America",
          "Europe",
          "Asia-Pacific",
          "Asia-Pacific",
          "Latin America",
          "Europe",
          "Latin America",
          "North America",
          "Middle East & Africa",
          "North America",
          "North America",
          "Asia-Pacific",
          "Middle East & Africa",
          "North America",
          "North America",
          "Latin America",
          "Europe",
          "Latin America",
          "Middle East & Africa",
          "Asia-Pacific",
          "Europe",
          "Europe",
          "Latin America",
          "Latin America",
          "Europe",
          "Middle East & Africa",
          "North America",
          "Middle East & Africa",
          "Latin America",
          "North America",
          "North America",
          "Latin America",
          "Asia-Pacific",
          "Latin America",
          "Europe",
          "Asia-Pacific",
          "North America",
          "Middle East & Africa",
          "Middle East & Africa",
          "Latin America",
          "Middle East & Africa",
          "Middle East & Africa",
          "Europe",
          "North America",
          "Latin America",
          "Europe",
          "Middle East & Africa",
          "Europe",
          "Latin America",
          "Middle East & Africa",
          "Asia-Pacific",
          "Latin America",
          "Europe",
          "Middle East & Africa",
          "Middle East & Africa",
          "North America",
          "Latin America",
          "Middle East & Africa",
          "Latin America",
          "Middle East & Africa",
          "Middle East & Africa",
          "Asia-Pacific",
          "Latin America",
          "Middle East & Africa",
          "Asia-Pacific",
          "Latin America",
          "Middle East & Africa",
          "Europe",
          "North America",
          "Latin America",
          "Middle East & Africa",
          "Middle East & Africa",
          "Middle East & Africa",
          "Latin America",
          "Asia-Pacific",
          "Asia-Pacific",
          "Europe",
          "Middle East & Africa",
          "Middle East & Africa",
          "North America",
          "North America",
          "Middle East & Africa",
          "Asia-Pacific",
          "Middle East & Africa",
          "Middle East & Africa",
          "Middle East & Africa",
          "Asia-Pacific",
          "Europe",
          "Latin America",
          "Latin America",
          "Asia-Pacific",
          "Latin America",
          "North America",
          "Europe",
          "North America",
          "North America"
         ],
         "legendgroup": "",
         "name": "",
         "showlegend": true,
         "textinfo": "percent+label",
         "type": "pie"
        }
       ],
       "layout": {
        "legend": {
         "tracegroupgap": 0
        },
        "piecolorway": [
         "rgb(63,0,125)",
         "rgb(84,39,143)",
         "rgb(106,81,163)",
         "rgb(128,125,186)",
         "rgb(158,154,200)",
         "rgb(188,189,220)",
         "rgb(218,218,235)",
         "rgb(239,237,245)",
         "rgb(252,251,253)"
        ],
        "template": {
         "data": {
          "bar": [
           {
            "error_x": {
             "color": "#2a3f5f"
            },
            "error_y": {
             "color": "#2a3f5f"
            },
            "marker": {
             "line": {
              "color": "#E5ECF6",
              "width": 0.5
             },
             "pattern": {
              "fillmode": "overlay",
              "size": 10,
              "solidity": 0.2
             }
            },
            "type": "bar"
           }
          ],
          "barpolar": [
           {
            "marker": {
             "line": {
              "color": "#E5ECF6",
              "width": 0.5
             },
             "pattern": {
              "fillmode": "overlay",
              "size": 10,
              "solidity": 0.2
             }
            },
            "type": "barpolar"
           }
          ],
          "carpet": [
           {
            "aaxis": {
             "endlinecolor": "#2a3f5f",
             "gridcolor": "white",
             "linecolor": "white",
             "minorgridcolor": "white",
             "startlinecolor": "#2a3f5f"
            },
            "baxis": {
             "endlinecolor": "#2a3f5f",
             "gridcolor": "white",
             "linecolor": "white",
             "minorgridcolor": "white",
             "startlinecolor": "#2a3f5f"
            },
            "type": "carpet"
           }
          ],
          "choropleth": [
           {
            "colorbar": {
             "outlinewidth": 0,
             "ticks": ""
            },
            "type": "choropleth"
           }
          ],
          "contour": [
           {
            "colorbar": {
             "outlinewidth": 0,
             "ticks": ""
            },
            "colorscale": [
             [
              0,
              "#0d0887"
             ],
             [
              0.1111111111111111,
              "#46039f"
             ],
             [
              0.2222222222222222,
              "#7201a8"
             ],
             [
              0.3333333333333333,
              "#9c179e"
             ],
             [
              0.4444444444444444,
              "#bd3786"
             ],
             [
              0.5555555555555556,
              "#d8576b"
             ],
             [
              0.6666666666666666,
              "#ed7953"
             ],
             [
              0.7777777777777778,
              "#fb9f3a"
             ],
             [
              0.8888888888888888,
              "#fdca26"
             ],
             [
              1,
              "#f0f921"
             ]
            ],
            "type": "contour"
           }
          ],
          "contourcarpet": [
           {
            "colorbar": {
             "outlinewidth": 0,
             "ticks": ""
            },
            "type": "contourcarpet"
           }
          ],
          "heatmap": [
           {
            "colorbar": {
             "outlinewidth": 0,
             "ticks": ""
            },
            "colorscale": [
             [
              0,
              "#0d0887"
             ],
             [
              0.1111111111111111,
              "#46039f"
             ],
             [
              0.2222222222222222,
              "#7201a8"
             ],
             [
              0.3333333333333333,
              "#9c179e"
             ],
             [
              0.4444444444444444,
              "#bd3786"
             ],
             [
              0.5555555555555556,
              "#d8576b"
             ],
             [
              0.6666666666666666,
              "#ed7953"
             ],
             [
              0.7777777777777778,
              "#fb9f3a"
             ],
             [
              0.8888888888888888,
              "#fdca26"
             ],
             [
              1,
              "#f0f921"
             ]
            ],
            "type": "heatmap"
           }
          ],
          "heatmapgl": [
           {
            "colorbar": {
             "outlinewidth": 0,
             "ticks": ""
            },
            "colorscale": [
             [
              0,
              "#0d0887"
             ],
             [
              0.1111111111111111,
              "#46039f"
             ],
             [
              0.2222222222222222,
              "#7201a8"
             ],
             [
              0.3333333333333333,
              "#9c179e"
             ],
             [
              0.4444444444444444,
              "#bd3786"
             ],
             [
              0.5555555555555556,
              "#d8576b"
             ],
             [
              0.6666666666666666,
              "#ed7953"
             ],
             [
              0.7777777777777778,
              "#fb9f3a"
             ],
             [
              0.8888888888888888,
              "#fdca26"
             ],
             [
              1,
              "#f0f921"
             ]
            ],
            "type": "heatmapgl"
           }
          ],
          "histogram": [
           {
            "marker": {
             "pattern": {
              "fillmode": "overlay",
              "size": 10,
              "solidity": 0.2
             }
            },
            "type": "histogram"
           }
          ],
          "histogram2d": [
           {
            "colorbar": {
             "outlinewidth": 0,
             "ticks": ""
            },
            "colorscale": [
             [
              0,
              "#0d0887"
             ],
             [
              0.1111111111111111,
              "#46039f"
             ],
             [
              0.2222222222222222,
              "#7201a8"
             ],
             [
              0.3333333333333333,
              "#9c179e"
             ],
             [
              0.4444444444444444,
              "#bd3786"
             ],
             [
              0.5555555555555556,
              "#d8576b"
             ],
             [
              0.6666666666666666,
              "#ed7953"
             ],
             [
              0.7777777777777778,
              "#fb9f3a"
             ],
             [
              0.8888888888888888,
              "#fdca26"
             ],
             [
              1,
              "#f0f921"
             ]
            ],
            "type": "histogram2d"
           }
          ],
          "histogram2dcontour": [
           {
            "colorbar": {
             "outlinewidth": 0,
             "ticks": ""
            },
            "colorscale": [
             [
              0,
              "#0d0887"
             ],
             [
              0.1111111111111111,
              "#46039f"
             ],
             [
              0.2222222222222222,
              "#7201a8"
             ],
             [
              0.3333333333333333,
              "#9c179e"
             ],
             [
              0.4444444444444444,
              "#bd3786"
             ],
             [
              0.5555555555555556,
              "#d8576b"
             ],
             [
              0.6666666666666666,
              "#ed7953"
             ],
             [
              0.7777777777777778,
              "#fb9f3a"
             ],
             [
              0.8888888888888888,
              "#fdca26"
             ],
             [
              1,
              "#f0f921"
             ]
            ],
            "type": "histogram2dcontour"
           }
          ],
          "mesh3d": [
           {
            "colorbar": {
             "outlinewidth": 0,
             "ticks": ""
            },
            "type": "mesh3d"
           }
          ],
          "parcoords": [
           {
            "line": {
             "colorbar": {
              "outlinewidth": 0,
              "ticks": ""
             }
            },
            "type": "parcoords"
           }
          ],
          "pie": [
           {
            "automargin": true,
            "type": "pie"
           }
          ],
          "scatter": [
           {
            "fillpattern": {
             "fillmode": "overlay",
             "size": 10,
             "solidity": 0.2
            },
            "type": "scatter"
           }
          ],
          "scatter3d": [
           {
            "line": {
             "colorbar": {
              "outlinewidth": 0,
              "ticks": ""
             }
            },
            "marker": {
             "colorbar": {
              "outlinewidth": 0,
              "ticks": ""
             }
            },
            "type": "scatter3d"
           }
          ],
          "scattercarpet": [
           {
            "marker": {
             "colorbar": {
              "outlinewidth": 0,
              "ticks": ""
             }
            },
            "type": "scattercarpet"
           }
          ],
          "scattergeo": [
           {
            "marker": {
             "colorbar": {
              "outlinewidth": 0,
              "ticks": ""
             }
            },
            "type": "scattergeo"
           }
          ],
          "scattergl": [
           {
            "marker": {
             "colorbar": {
              "outlinewidth": 0,
              "ticks": ""
             }
            },
            "type": "scattergl"
           }
          ],
          "scattermapbox": [
           {
            "marker": {
             "colorbar": {
              "outlinewidth": 0,
              "ticks": ""
             }
            },
            "type": "scattermapbox"
           }
          ],
          "scatterpolar": [
           {
            "marker": {
             "colorbar": {
              "outlinewidth": 0,
              "ticks": ""
             }
            },
            "type": "scatterpolar"
           }
          ],
          "scatterpolargl": [
           {
            "marker": {
             "colorbar": {
              "outlinewidth": 0,
              "ticks": ""
             }
            },
            "type": "scatterpolargl"
           }
          ],
          "scatterternary": [
           {
            "marker": {
             "colorbar": {
              "outlinewidth": 0,
              "ticks": ""
             }
            },
            "type": "scatterternary"
           }
          ],
          "surface": [
           {
            "colorbar": {
             "outlinewidth": 0,
             "ticks": ""
            },
            "colorscale": [
             [
              0,
              "#0d0887"
             ],
             [
              0.1111111111111111,
              "#46039f"
             ],
             [
              0.2222222222222222,
              "#7201a8"
             ],
             [
              0.3333333333333333,
              "#9c179e"
             ],
             [
              0.4444444444444444,
              "#bd3786"
             ],
             [
              0.5555555555555556,
              "#d8576b"
             ],
             [
              0.6666666666666666,
              "#ed7953"
             ],
             [
              0.7777777777777778,
              "#fb9f3a"
             ],
             [
              0.8888888888888888,
              "#fdca26"
             ],
             [
              1,
              "#f0f921"
             ]
            ],
            "type": "surface"
           }
          ],
          "table": [
           {
            "cells": {
             "fill": {
              "color": "#EBF0F8"
             },
             "line": {
              "color": "white"
             }
            },
            "header": {
             "fill": {
              "color": "#C8D4E3"
             },
             "line": {
              "color": "white"
             }
            },
            "type": "table"
           }
          ]
         },
         "layout": {
          "annotationdefaults": {
           "arrowcolor": "#2a3f5f",
           "arrowhead": 0,
           "arrowwidth": 1
          },
          "autotypenumbers": "strict",
          "coloraxis": {
           "colorbar": {
            "outlinewidth": 0,
            "ticks": ""
           }
          },
          "colorscale": {
           "diverging": [
            [
             0,
             "#8e0152"
            ],
            [
             0.1,
             "#c51b7d"
            ],
            [
             0.2,
             "#de77ae"
            ],
            [
             0.3,
             "#f1b6da"
            ],
            [
             0.4,
             "#fde0ef"
            ],
            [
             0.5,
             "#f7f7f7"
            ],
            [
             0.6,
             "#e6f5d0"
            ],
            [
             0.7,
             "#b8e186"
            ],
            [
             0.8,
             "#7fbc41"
            ],
            [
             0.9,
             "#4d9221"
            ],
            [
             1,
             "#276419"
            ]
           ],
           "sequential": [
            [
             0,
             "#0d0887"
            ],
            [
             0.1111111111111111,
             "#46039f"
            ],
            [
             0.2222222222222222,
             "#7201a8"
            ],
            [
             0.3333333333333333,
             "#9c179e"
            ],
            [
             0.4444444444444444,
             "#bd3786"
            ],
            [
             0.5555555555555556,
             "#d8576b"
            ],
            [
             0.6666666666666666,
             "#ed7953"
            ],
            [
             0.7777777777777778,
             "#fb9f3a"
            ],
            [
             0.8888888888888888,
             "#fdca26"
            ],
            [
             1,
             "#f0f921"
            ]
           ],
           "sequentialminus": [
            [
             0,
             "#0d0887"
            ],
            [
             0.1111111111111111,
             "#46039f"
            ],
            [
             0.2222222222222222,
             "#7201a8"
            ],
            [
             0.3333333333333333,
             "#9c179e"
            ],
            [
             0.4444444444444444,
             "#bd3786"
            ],
            [
             0.5555555555555556,
             "#d8576b"
            ],
            [
             0.6666666666666666,
             "#ed7953"
            ],
            [
             0.7777777777777778,
             "#fb9f3a"
            ],
            [
             0.8888888888888888,
             "#fdca26"
            ],
            [
             1,
             "#f0f921"
            ]
           ]
          },
          "colorway": [
           "#636efa",
           "#EF553B",
           "#00cc96",
           "#ab63fa",
           "#FFA15A",
           "#19d3f3",
           "#FF6692",
           "#B6E880",
           "#FF97FF",
           "#FECB52"
          ],
          "font": {
           "color": "#2a3f5f"
          },
          "geo": {
           "bgcolor": "white",
           "lakecolor": "white",
           "landcolor": "#E5ECF6",
           "showlakes": true,
           "showland": true,
           "subunitcolor": "white"
          },
          "hoverlabel": {
           "align": "left"
          },
          "hovermode": "closest",
          "mapbox": {
           "style": "light"
          },
          "paper_bgcolor": "white",
          "plot_bgcolor": "#E5ECF6",
          "polar": {
           "angularaxis": {
            "gridcolor": "white",
            "linecolor": "white",
            "ticks": ""
           },
           "bgcolor": "#E5ECF6",
           "radialaxis": {
            "gridcolor": "white",
            "linecolor": "white",
            "ticks": ""
           }
          },
          "scene": {
           "xaxis": {
            "backgroundcolor": "#E5ECF6",
            "gridcolor": "white",
            "gridwidth": 2,
            "linecolor": "white",
            "showbackground": true,
            "ticks": "",
            "zerolinecolor": "white"
           },
           "yaxis": {
            "backgroundcolor": "#E5ECF6",
            "gridcolor": "white",
            "gridwidth": 2,
            "linecolor": "white",
            "showbackground": true,
            "ticks": "",
            "zerolinecolor": "white"
           },
           "zaxis": {
            "backgroundcolor": "#E5ECF6",
            "gridcolor": "white",
            "gridwidth": 2,
            "linecolor": "white",
            "showbackground": true,
            "ticks": "",
            "zerolinecolor": "white"
           }
          },
          "shapedefaults": {
           "line": {
            "color": "#2a3f5f"
           }
          },
          "ternary": {
           "aaxis": {
            "gridcolor": "white",
            "linecolor": "white",
            "ticks": ""
           },
           "baxis": {
            "gridcolor": "white",
            "linecolor": "white",
            "ticks": ""
           },
           "bgcolor": "#E5ECF6",
           "caxis": {
            "gridcolor": "white",
            "linecolor": "white",
            "ticks": ""
           }
          },
          "title": {
           "x": 0.05
          },
          "xaxis": {
           "automargin": true,
           "gridcolor": "white",
           "linecolor": "white",
           "ticks": "",
           "title": {
            "standoff": 15
           },
           "zerolinecolor": "white",
           "zerolinewidth": 2
          },
          "yaxis": {
           "automargin": true,
           "gridcolor": "white",
           "linecolor": "white",
           "ticks": "",
           "title": {
            "standoff": 15
           },
           "zerolinecolor": "white",
           "zerolinewidth": 2
          }
         }
        },
        "title": {
         "text": "Percentual de vendas por Região"
        }
       }
      }
     },
     "metadata": {},
     "output_type": "display_data"
    }
   ],
   "source": [
    "fig=px.pie(df,names=\"Region\",title=\"Percentual de vendas por Região\", color_discrete_sequence=px.colors.sequential.Purples_r)\n",
    "fig.update_traces(textinfo='percent+label')\n",
    "fig.show()"
   ]
  },
  {
   "cell_type": "code",
   "execution_count": 151,
   "metadata": {},
   "outputs": [
    {
     "data": {
      "application/vnd.plotly.v1+json": {
       "config": {
        "plotlyServerURL": "https://plot.ly"
       },
       "data": [
        {
         "alignmentgroup": "True",
         "bingroup": "x",
         "hovertemplate": "Product Model=%{x}<br>count=%{y}<extra></extra>",
         "legendgroup": "",
         "marker": {
          "color": "rgb(63,0,125)",
          "pattern": {
           "shape": ""
          }
         },
         "name": "",
         "offsetgroup": "",
         "orientation": "v",
         "showlegend": false,
         "type": "histogram",
         "x": [
          "Galaxy S10",
          "Galaxy Note10",
          "Galaxy S20",
          "Galaxy Note20",
          "Galaxy S21",
          "Galaxy A32 5G",
          "Galaxy A52 5G",
          "Galaxy A73 5G",
          "Galaxy Z Fold2 5G",
          "Galaxy Z Flip3 5G",
          "Galaxy S22 5G",
          "Galaxy Z Fold3 5G",
          "Galaxy A14 5G",
          "Galaxy S23 5G",
          "Galaxy Z Flip5 5G",
          "Galaxy S10",
          "Galaxy Note10",
          "Galaxy S20",
          "Galaxy Note20",
          "Galaxy S21",
          "Galaxy A32 5G",
          "Galaxy A52 5G",
          "Galaxy A73 5G",
          "Galaxy Z Fold2 5G",
          "Galaxy Z Flip3 5G",
          "Galaxy S22 5G",
          "Galaxy Z Fold3 5G",
          "Galaxy A14 5G",
          "Galaxy S23 5G",
          "Galaxy Z Flip5 5G",
          "Galaxy S10",
          "Galaxy Note10",
          "Galaxy S20",
          "Galaxy Note20",
          "Galaxy S21",
          "Galaxy A32 5G",
          "Galaxy A52 5G",
          "Galaxy A73 5G",
          "Galaxy Z Fold2 5G",
          "Galaxy Z Flip3 5G",
          "Galaxy S22 5G",
          "Galaxy Z Fold3 5G",
          "Galaxy A14 5G",
          "Galaxy S23 5G",
          "Galaxy Z Flip5 5G",
          "Galaxy S10",
          "Galaxy Note10",
          "Galaxy S20",
          "Galaxy Note20",
          "Galaxy S21",
          "Galaxy A32 5G",
          "Galaxy A52 5G",
          "Galaxy A73 5G",
          "Galaxy Z Fold2 5G",
          "Galaxy Z Flip3 5G",
          "Galaxy S22 5G",
          "Galaxy Z Fold3 5G",
          "Galaxy A14 5G",
          "Galaxy S23 5G",
          "Galaxy Z Flip5 5G",
          "Galaxy S10",
          "Galaxy Note10",
          "Galaxy S20",
          "Galaxy Note20",
          "Galaxy S21",
          "Galaxy A32 5G",
          "Galaxy A52 5G",
          "Galaxy A73 5G",
          "Galaxy Z Fold2 5G",
          "Galaxy Z Flip3 5G",
          "Galaxy S22 5G",
          "Galaxy Z Fold3 5G",
          "Galaxy A14 5G",
          "Galaxy S23 5G",
          "Galaxy Z Flip5 5G",
          "Galaxy S10",
          "Galaxy Note10",
          "Galaxy S20",
          "Galaxy Note20",
          "Galaxy S21",
          "Galaxy A32 5G",
          "Galaxy A52 5G",
          "Galaxy A73 5G",
          "Galaxy Z Fold2 5G",
          "Galaxy Z Flip3 5G",
          "Galaxy S22 5G",
          "Galaxy Z Fold3 5G",
          "Galaxy A14 5G",
          "Galaxy S23 5G",
          "Galaxy Z Flip5 5G",
          "Galaxy S10",
          "Galaxy Note10",
          "Galaxy S20",
          "Galaxy Note20",
          "Galaxy S21",
          "Galaxy A32 5G",
          "Galaxy A52 5G",
          "Galaxy A73 5G",
          "Galaxy Z Fold2 5G",
          "Galaxy Z Flip3 5G",
          "Galaxy S22 5G",
          "Galaxy Z Fold3 5G",
          "Galaxy A14 5G",
          "Galaxy S23 5G",
          "Galaxy Z Flip5 5G",
          "Galaxy S10",
          "Galaxy Note10",
          "Galaxy S20",
          "Galaxy Note20",
          "Galaxy S21",
          "Galaxy A32 5G",
          "Galaxy A52 5G",
          "Galaxy A73 5G",
          "Galaxy Z Fold2 5G",
          "Galaxy Z Flip3 5G",
          "Galaxy S22 5G",
          "Galaxy Z Fold3 5G",
          "Galaxy A14 5G",
          "Galaxy S23 5G",
          "Galaxy Z Flip5 5G",
          "Galaxy S10",
          "Galaxy Note10",
          "Galaxy S20",
          "Galaxy Note20",
          "Galaxy S21",
          "Galaxy A32 5G",
          "Galaxy A52 5G",
          "Galaxy A73 5G",
          "Galaxy Z Fold2 5G",
          "Galaxy Z Flip3 5G",
          "Galaxy S22 5G",
          "Galaxy Z Fold3 5G",
          "Galaxy A14 5G",
          "Galaxy S23 5G",
          "Galaxy Z Flip5 5G",
          "Galaxy S10",
          "Galaxy Note10",
          "Galaxy S20",
          "Galaxy Note20",
          "Galaxy S21",
          "Galaxy A32 5G",
          "Galaxy A52 5G",
          "Galaxy A73 5G",
          "Galaxy Z Fold2 5G",
          "Galaxy Z Flip3 5G",
          "Galaxy S22 5G",
          "Galaxy Z Fold3 5G",
          "Galaxy A14 5G",
          "Galaxy S23 5G",
          "Galaxy Z Flip5 5G",
          "Galaxy S10",
          "Galaxy Note10",
          "Galaxy S20",
          "Galaxy Note20",
          "Galaxy S21",
          "Galaxy A32 5G",
          "Galaxy A52 5G",
          "Galaxy A73 5G",
          "Galaxy Z Fold2 5G",
          "Galaxy Z Flip3 5G",
          "Galaxy S22 5G",
          "Galaxy Z Fold3 5G",
          "Galaxy A14 5G",
          "Galaxy S23 5G",
          "Galaxy Z Flip5 5G",
          "Galaxy S10",
          "Galaxy Note10",
          "Galaxy S20",
          "Galaxy Note20",
          "Galaxy S21",
          "Galaxy A32 5G",
          "Galaxy A52 5G",
          "Galaxy A73 5G",
          "Galaxy Z Fold2 5G",
          "Galaxy Z Flip3 5G",
          "Galaxy S22 5G",
          "Galaxy Z Fold3 5G",
          "Galaxy A14 5G",
          "Galaxy S23 5G",
          "Galaxy Z Flip5 5G",
          "Galaxy S10",
          "Galaxy Note10",
          "Galaxy S20",
          "Galaxy Note20",
          "Galaxy S21",
          "Galaxy A32 5G",
          "Galaxy A52 5G",
          "Galaxy A73 5G",
          "Galaxy Z Fold2 5G",
          "Galaxy Z Flip3 5G",
          "Galaxy S22 5G",
          "Galaxy Z Fold3 5G",
          "Galaxy A14 5G",
          "Galaxy S23 5G",
          "Galaxy Z Flip5 5G",
          "Galaxy S10",
          "Galaxy Note10",
          "Galaxy S20",
          "Galaxy Note20",
          "Galaxy S21",
          "Galaxy A32 5G",
          "Galaxy A52 5G",
          "Galaxy A73 5G",
          "Galaxy Z Fold2 5G",
          "Galaxy Z Flip3 5G",
          "Galaxy S22 5G",
          "Galaxy Z Fold3 5G",
          "Galaxy A14 5G",
          "Galaxy S23 5G",
          "Galaxy Z Flip5 5G",
          "Galaxy S10",
          "Galaxy Note10",
          "Galaxy S20",
          "Galaxy Note20",
          "Galaxy S21",
          "Galaxy A32 5G",
          "Galaxy A52 5G",
          "Galaxy A73 5G",
          "Galaxy Z Fold2 5G",
          "Galaxy Z Flip3 5G",
          "Galaxy S22 5G",
          "Galaxy Z Fold3 5G",
          "Galaxy A14 5G",
          "Galaxy S23 5G",
          "Galaxy Z Flip5 5G",
          "Galaxy S10",
          "Galaxy Note10",
          "Galaxy S20",
          "Galaxy Note20",
          "Galaxy S21",
          "Galaxy A32 5G",
          "Galaxy A52 5G",
          "Galaxy A73 5G",
          "Galaxy Z Fold2 5G",
          "Galaxy Z Flip3 5G",
          "Galaxy S22 5G",
          "Galaxy Z Fold3 5G",
          "Galaxy A14 5G",
          "Galaxy S23 5G",
          "Galaxy Z Flip5 5G",
          "Galaxy S10",
          "Galaxy Note10",
          "Galaxy S20",
          "Galaxy Note20",
          "Galaxy S21",
          "Galaxy A32 5G",
          "Galaxy A52 5G",
          "Galaxy A73 5G",
          "Galaxy Z Fold2 5G",
          "Galaxy Z Flip3 5G",
          "Galaxy S22 5G",
          "Galaxy Z Fold3 5G",
          "Galaxy A14 5G",
          "Galaxy S23 5G",
          "Galaxy Z Flip5 5G",
          "Galaxy S10",
          "Galaxy Note10",
          "Galaxy S20",
          "Galaxy Note20",
          "Galaxy S21",
          "Galaxy A32 5G",
          "Galaxy A52 5G",
          "Galaxy A73 5G",
          "Galaxy Z Fold2 5G",
          "Galaxy Z Flip3 5G",
          "Galaxy S22 5G",
          "Galaxy Z Fold3 5G",
          "Galaxy A14 5G",
          "Galaxy S23 5G",
          "Galaxy Z Flip5 5G",
          "Galaxy S10",
          "Galaxy Note10",
          "Galaxy S20",
          "Galaxy Note20",
          "Galaxy S21",
          "Galaxy A32 5G",
          "Galaxy A52 5G",
          "Galaxy A73 5G",
          "Galaxy Z Fold2 5G",
          "Galaxy Z Flip3 5G",
          "Galaxy S22 5G",
          "Galaxy Z Fold3 5G",
          "Galaxy A14 5G",
          "Galaxy S23 5G",
          "Galaxy Z Flip5 5G",
          "Galaxy S10",
          "Galaxy Note10",
          "Galaxy S20",
          "Galaxy Note20",
          "Galaxy S21",
          "Galaxy A32 5G",
          "Galaxy A52 5G",
          "Galaxy A73 5G",
          "Galaxy Z Fold2 5G",
          "Galaxy Z Flip3 5G",
          "Galaxy S22 5G",
          "Galaxy Z Fold3 5G",
          "Galaxy A14 5G",
          "Galaxy S23 5G",
          "Galaxy Z Flip5 5G",
          "Galaxy S10",
          "Galaxy Note10",
          "Galaxy S20",
          "Galaxy Note20",
          "Galaxy S21",
          "Galaxy A32 5G",
          "Galaxy A52 5G",
          "Galaxy A73 5G",
          "Galaxy Z Fold2 5G",
          "Galaxy Z Flip3 5G",
          "Galaxy S22 5G",
          "Galaxy Z Fold3 5G",
          "Galaxy A14 5G",
          "Galaxy S23 5G",
          "Galaxy Z Flip5 5G",
          "Galaxy S10",
          "Galaxy Note10",
          "Galaxy S20",
          "Galaxy Note20",
          "Galaxy S21",
          "Galaxy A32 5G",
          "Galaxy A52 5G",
          "Galaxy A73 5G",
          "Galaxy Z Fold2 5G",
          "Galaxy Z Flip3 5G",
          "Galaxy S22 5G",
          "Galaxy Z Fold3 5G",
          "Galaxy A14 5G",
          "Galaxy S23 5G",
          "Galaxy Z Flip5 5G",
          "Galaxy S10",
          "Galaxy Note10",
          "Galaxy S20",
          "Galaxy Note20",
          "Galaxy S21",
          "Galaxy A32 5G",
          "Galaxy A52 5G",
          "Galaxy A73 5G",
          "Galaxy Z Fold2 5G",
          "Galaxy Z Flip3 5G",
          "Galaxy S22 5G",
          "Galaxy Z Fold3 5G",
          "Galaxy A14 5G",
          "Galaxy S23 5G",
          "Galaxy Z Flip5 5G",
          "Galaxy S10",
          "Galaxy Note10",
          "Galaxy S20",
          "Galaxy Note20",
          "Galaxy S21",
          "Galaxy A32 5G",
          "Galaxy A52 5G",
          "Galaxy A73 5G",
          "Galaxy Z Fold2 5G",
          "Galaxy Z Flip3 5G",
          "Galaxy S22 5G",
          "Galaxy Z Fold3 5G",
          "Galaxy A14 5G",
          "Galaxy S23 5G",
          "Galaxy Z Flip5 5G",
          "Galaxy S10",
          "Galaxy Note10",
          "Galaxy S20",
          "Galaxy Note20",
          "Galaxy S21",
          "Galaxy A32 5G",
          "Galaxy A52 5G",
          "Galaxy A73 5G",
          "Galaxy Z Fold2 5G",
          "Galaxy Z Flip3 5G",
          "Galaxy S22 5G",
          "Galaxy Z Fold3 5G",
          "Galaxy A14 5G",
          "Galaxy S23 5G",
          "Galaxy Z Flip5 5G",
          "Galaxy S10",
          "Galaxy Note10",
          "Galaxy S20",
          "Galaxy Note20",
          "Galaxy S21",
          "Galaxy A32 5G",
          "Galaxy A52 5G",
          "Galaxy A73 5G",
          "Galaxy Z Fold2 5G",
          "Galaxy Z Flip3 5G",
          "Galaxy S22 5G",
          "Galaxy Z Fold3 5G",
          "Galaxy A14 5G",
          "Galaxy S23 5G",
          "Galaxy Z Flip5 5G",
          "Galaxy S10",
          "Galaxy Note10",
          "Galaxy S20",
          "Galaxy Note20",
          "Galaxy S21",
          "Galaxy A32 5G",
          "Galaxy A52 5G",
          "Galaxy A73 5G",
          "Galaxy Z Fold2 5G",
          "Galaxy Z Flip3 5G",
          "Galaxy S22 5G",
          "Galaxy Z Fold3 5G",
          "Galaxy A14 5G",
          "Galaxy S23 5G",
          "Galaxy Z Flip5 5G",
          "Galaxy S10",
          "Galaxy Note10",
          "Galaxy S20",
          "Galaxy Note20",
          "Galaxy S21",
          "Galaxy A32 5G",
          "Galaxy A52 5G",
          "Galaxy A73 5G",
          "Galaxy Z Fold2 5G",
          "Galaxy Z Flip3 5G",
          "Galaxy S22 5G",
          "Galaxy Z Fold3 5G",
          "Galaxy A14 5G",
          "Galaxy S23 5G",
          "Galaxy Z Flip5 5G",
          "Galaxy S10",
          "Galaxy Note10",
          "Galaxy S20",
          "Galaxy Note20",
          "Galaxy S21",
          "Galaxy A32 5G",
          "Galaxy A52 5G",
          "Galaxy A73 5G",
          "Galaxy Z Fold2 5G",
          "Galaxy Z Flip3 5G",
          "Galaxy S22 5G",
          "Galaxy Z Fold3 5G",
          "Galaxy A14 5G",
          "Galaxy S23 5G",
          "Galaxy Z Flip5 5G",
          "Galaxy S10",
          "Galaxy Note10",
          "Galaxy S20",
          "Galaxy Note20",
          "Galaxy S21",
          "Galaxy A32 5G",
          "Galaxy A52 5G",
          "Galaxy A73 5G",
          "Galaxy Z Fold2 5G",
          "Galaxy Z Flip3 5G",
          "Galaxy S22 5G",
          "Galaxy Z Fold3 5G",
          "Galaxy A14 5G",
          "Galaxy S23 5G",
          "Galaxy Z Flip5 5G",
          "Galaxy S10",
          "Galaxy Note10",
          "Galaxy S20",
          "Galaxy Note20",
          "Galaxy S21",
          "Galaxy A32 5G",
          "Galaxy A52 5G",
          "Galaxy A73 5G",
          "Galaxy Z Fold2 5G",
          "Galaxy Z Flip3 5G",
          "Galaxy S22 5G",
          "Galaxy Z Fold3 5G",
          "Galaxy A14 5G",
          "Galaxy S23 5G",
          "Galaxy Z Flip5 5G",
          "Galaxy S10",
          "Galaxy Note10",
          "Galaxy S20",
          "Galaxy Note20",
          "Galaxy S21",
          "Galaxy A32 5G",
          "Galaxy A52 5G",
          "Galaxy A73 5G",
          "Galaxy Z Fold2 5G",
          "Galaxy Z Flip3 5G",
          "Galaxy S22 5G",
          "Galaxy Z Fold3 5G",
          "Galaxy A14 5G",
          "Galaxy S23 5G",
          "Galaxy Z Flip5 5G",
          "Galaxy S10",
          "Galaxy Note10",
          "Galaxy S20",
          "Galaxy Note20",
          "Galaxy S21",
          "Galaxy A32 5G",
          "Galaxy A52 5G",
          "Galaxy A73 5G",
          "Galaxy Z Fold2 5G",
          "Galaxy Z Flip3 5G",
          "Galaxy S22 5G",
          "Galaxy Z Fold3 5G",
          "Galaxy A14 5G",
          "Galaxy S23 5G",
          "Galaxy Z Flip5 5G",
          "Galaxy S10",
          "Galaxy Note10",
          "Galaxy S20",
          "Galaxy Note20",
          "Galaxy S21",
          "Galaxy A32 5G",
          "Galaxy A52 5G",
          "Galaxy A73 5G",
          "Galaxy Z Fold2 5G",
          "Galaxy Z Flip3 5G",
          "Galaxy S22 5G",
          "Galaxy Z Fold3 5G",
          "Galaxy A14 5G",
          "Galaxy S23 5G",
          "Galaxy Z Flip5 5G",
          "Galaxy S10",
          "Galaxy Note10",
          "Galaxy S20",
          "Galaxy Note20",
          "Galaxy S21",
          "Galaxy A32 5G",
          "Galaxy A52 5G",
          "Galaxy A73 5G",
          "Galaxy Z Fold2 5G",
          "Galaxy Z Flip3 5G",
          "Galaxy S22 5G",
          "Galaxy Z Fold3 5G",
          "Galaxy A14 5G",
          "Galaxy S23 5G",
          "Galaxy Z Flip5 5G",
          "Galaxy S10",
          "Galaxy Note10",
          "Galaxy S20",
          "Galaxy Note20",
          "Galaxy S21",
          "Galaxy A32 5G",
          "Galaxy A52 5G",
          "Galaxy A73 5G",
          "Galaxy Z Fold2 5G",
          "Galaxy Z Flip3 5G",
          "Galaxy S22 5G",
          "Galaxy Z Fold3 5G",
          "Galaxy A14 5G",
          "Galaxy S23 5G",
          "Galaxy Z Flip5 5G",
          "Galaxy S10",
          "Galaxy Note10",
          "Galaxy S20",
          "Galaxy Note20",
          "Galaxy S21",
          "Galaxy A32 5G",
          "Galaxy A52 5G",
          "Galaxy A73 5G",
          "Galaxy Z Fold2 5G",
          "Galaxy Z Flip3 5G",
          "Galaxy S22 5G",
          "Galaxy Z Fold3 5G",
          "Galaxy A14 5G",
          "Galaxy S23 5G",
          "Galaxy Z Flip5 5G",
          "Galaxy S10",
          "Galaxy Note10",
          "Galaxy S20",
          "Galaxy Note20",
          "Galaxy S21",
          "Galaxy A32 5G",
          "Galaxy A52 5G",
          "Galaxy A73 5G",
          "Galaxy Z Fold2 5G",
          "Galaxy Z Flip3 5G",
          "Galaxy S22 5G",
          "Galaxy Z Fold3 5G",
          "Galaxy A14 5G",
          "Galaxy S23 5G",
          "Galaxy Z Flip5 5G",
          "Galaxy S10",
          "Galaxy Note10",
          "Galaxy S20",
          "Galaxy Note20",
          "Galaxy S21",
          "Galaxy A32 5G",
          "Galaxy A52 5G",
          "Galaxy A73 5G",
          "Galaxy Z Fold2 5G",
          "Galaxy Z Flip3 5G",
          "Galaxy S22 5G",
          "Galaxy Z Fold3 5G",
          "Galaxy A14 5G",
          "Galaxy S23 5G",
          "Galaxy Z Flip5 5G",
          "Galaxy S10",
          "Galaxy Note10",
          "Galaxy S20",
          "Galaxy Note20",
          "Galaxy S21",
          "Galaxy A32 5G",
          "Galaxy A52 5G",
          "Galaxy A73 5G",
          "Galaxy Z Fold2 5G",
          "Galaxy Z Flip3 5G",
          "Galaxy S22 5G",
          "Galaxy Z Fold3 5G",
          "Galaxy A14 5G",
          "Galaxy S23 5G",
          "Galaxy Z Flip5 5G",
          "Galaxy S10",
          "Galaxy Note10",
          "Galaxy S20",
          "Galaxy Note20",
          "Galaxy S21",
          "Galaxy A32 5G",
          "Galaxy A52 5G",
          "Galaxy A73 5G",
          "Galaxy Z Fold2 5G",
          "Galaxy Z Flip3 5G",
          "Galaxy S22 5G",
          "Galaxy Z Fold3 5G",
          "Galaxy A14 5G",
          "Galaxy S23 5G",
          "Galaxy Z Flip5 5G",
          "Galaxy S10",
          "Galaxy Note10",
          "Galaxy S20",
          "Galaxy Note20",
          "Galaxy S21",
          "Galaxy A32 5G",
          "Galaxy A52 5G",
          "Galaxy A73 5G",
          "Galaxy Z Fold2 5G",
          "Galaxy Z Flip3 5G",
          "Galaxy S22 5G",
          "Galaxy Z Fold3 5G",
          "Galaxy A14 5G",
          "Galaxy S23 5G",
          "Galaxy Z Flip5 5G",
          "Galaxy S10",
          "Galaxy Note10",
          "Galaxy S20",
          "Galaxy Note20",
          "Galaxy S21",
          "Galaxy A32 5G",
          "Galaxy A52 5G",
          "Galaxy A73 5G",
          "Galaxy Z Fold2 5G",
          "Galaxy Z Flip3 5G",
          "Galaxy S22 5G",
          "Galaxy Z Fold3 5G",
          "Galaxy A14 5G",
          "Galaxy S23 5G",
          "Galaxy Z Flip5 5G",
          "Galaxy S10",
          "Galaxy Note10",
          "Galaxy S20",
          "Galaxy Note20",
          "Galaxy S21",
          "Galaxy A32 5G",
          "Galaxy A52 5G",
          "Galaxy A73 5G",
          "Galaxy Z Fold2 5G",
          "Galaxy Z Flip3 5G",
          "Galaxy S22 5G",
          "Galaxy Z Fold3 5G",
          "Galaxy A14 5G",
          "Galaxy S23 5G",
          "Galaxy Z Flip5 5G",
          "Galaxy S10",
          "Galaxy Note10",
          "Galaxy S20",
          "Galaxy Note20",
          "Galaxy S21",
          "Galaxy A32 5G",
          "Galaxy A52 5G",
          "Galaxy A73 5G",
          "Galaxy Z Fold2 5G",
          "Galaxy Z Flip3 5G",
          "Galaxy S22 5G",
          "Galaxy Z Fold3 5G",
          "Galaxy A14 5G",
          "Galaxy S23 5G",
          "Galaxy Z Flip5 5G",
          "Galaxy S10",
          "Galaxy Note10",
          "Galaxy S20",
          "Galaxy Note20",
          "Galaxy S21",
          "Galaxy A32 5G",
          "Galaxy A52 5G",
          "Galaxy A73 5G",
          "Galaxy Z Fold2 5G",
          "Galaxy Z Flip3 5G",
          "Galaxy S22 5G",
          "Galaxy Z Fold3 5G",
          "Galaxy A14 5G",
          "Galaxy S23 5G",
          "Galaxy Z Flip5 5G",
          "Galaxy S10",
          "Galaxy Note10",
          "Galaxy S20",
          "Galaxy Note20",
          "Galaxy S21",
          "Galaxy A32 5G",
          "Galaxy A52 5G",
          "Galaxy A73 5G",
          "Galaxy Z Fold2 5G",
          "Galaxy Z Flip3 5G",
          "Galaxy S22 5G",
          "Galaxy Z Fold3 5G",
          "Galaxy A14 5G",
          "Galaxy S23 5G",
          "Galaxy Z Flip5 5G",
          "Galaxy S10",
          "Galaxy Note10",
          "Galaxy S20",
          "Galaxy Note20",
          "Galaxy S21",
          "Galaxy A32 5G",
          "Galaxy A52 5G",
          "Galaxy A73 5G",
          "Galaxy Z Fold2 5G",
          "Galaxy Z Flip3 5G",
          "Galaxy S22 5G",
          "Galaxy Z Fold3 5G",
          "Galaxy A14 5G",
          "Galaxy S23 5G",
          "Galaxy Z Flip5 5G",
          "Galaxy A32 5G",
          "Galaxy Note10",
          "Galaxy S22 5G",
          "Galaxy Note20",
          "Galaxy S10",
          "Galaxy A73 5G",
          "Galaxy S22 5G",
          "Galaxy A32 5G",
          "Galaxy S22 5G",
          "Galaxy S22 5G",
          "Galaxy A73 5G",
          "Galaxy Z Fold2 5G",
          "Galaxy Z Fold3 5G",
          "Galaxy A32 5G",
          "Galaxy A32 5G",
          "Galaxy Note10",
          "Galaxy A73 5G",
          "Galaxy S20",
          "Galaxy Z Flip3 5G",
          "Galaxy Note20",
          "Galaxy Z Flip3 5G",
          "Galaxy Z Flip3 5G",
          "Galaxy S20",
          "Galaxy S10",
          "Galaxy S23 5G",
          "Galaxy Z Fold2 5G",
          "Galaxy Z Flip5 5G",
          "Galaxy Z Flip3 5G",
          "Galaxy Note20",
          "Galaxy Note10",
          "Galaxy S21",
          "Galaxy A52 5G",
          "Galaxy Note20",
          "Galaxy S10",
          "Galaxy Z Fold2 5G",
          "Galaxy Note10",
          "Galaxy A52 5G",
          "Galaxy S22 5G",
          "Galaxy A14 5G",
          "Galaxy Z Flip5 5G",
          "Galaxy A52 5G",
          "Galaxy Z Fold3 5G",
          "Galaxy A52 5G",
          "Galaxy Z Fold3 5G",
          "Galaxy Z Flip3 5G",
          "Galaxy S21",
          "Galaxy Note10",
          "Galaxy Z Fold2 5G",
          "Galaxy Note10",
          "Galaxy Z Flip5 5G",
          "Galaxy Note20",
          "Galaxy S22 5G",
          "Galaxy S21",
          "Galaxy A32 5G",
          "Galaxy A32 5G",
          "Galaxy S10",
          "Galaxy A52 5G",
          "Galaxy A14 5G",
          "Galaxy S20",
          "Galaxy Note20",
          "Galaxy Note10",
          "Galaxy Note10",
          "Galaxy S20",
          "Galaxy Note20",
          "Galaxy Z Fold2 5G",
          "Galaxy S21",
          "Galaxy S10",
          "Galaxy Z Flip3 5G",
          "Galaxy A14 5G",
          "Galaxy Z Fold3 5G",
          "Galaxy S23 5G",
          "Galaxy Note10",
          "Galaxy A14 5G",
          "Galaxy A52 5G",
          "Galaxy Z Fold2 5G",
          "Galaxy Z Flip3 5G",
          "Galaxy A52 5G",
          "Galaxy S22 5G",
          "Galaxy A14 5G",
          "Galaxy A32 5G",
          "Galaxy Z Fold2 5G",
          "Galaxy A52 5G",
          "Galaxy A52 5G",
          "Galaxy A73 5G",
          "Galaxy A32 5G",
          "Galaxy Z Flip3 5G",
          "Galaxy Z Fold3 5G",
          "Galaxy S20",
          "Galaxy Z Fold2 5G",
          "Galaxy Z Fold3 5G",
          "Galaxy Note10",
          "Galaxy S10",
          "Galaxy A73 5G",
          "Galaxy Note10",
          "Galaxy S23 5G",
          "Galaxy Note20",
          "Galaxy A14 5G",
          "Galaxy Note10",
          "Galaxy A52 5G",
          "Galaxy Z Flip3 5G",
          "Galaxy Z Flip3 5G",
          "Galaxy Note10",
          "Galaxy S23 5G",
          "Galaxy A52 5G",
          "Galaxy Z Flip3 5G",
          "Galaxy Note20",
          "Galaxy S23 5G",
          "Galaxy A52 5G",
          "Galaxy S21",
          "Galaxy S22 5G",
          "Galaxy Note20",
          "Galaxy Note20",
          "Galaxy A32 5G",
          "Galaxy S21",
          "Galaxy S21",
          "Galaxy Z Flip5 5G",
          "Galaxy S21",
          "Galaxy Note10",
          "Galaxy A52 5G",
          "Galaxy Z Fold3 5G",
          "Galaxy S21",
          "Galaxy S22 5G",
          "Galaxy Z Flip3 5G",
          "Galaxy S10",
          "Galaxy S22 5G",
          "Galaxy Note10",
          "Galaxy A73 5G",
          "Galaxy S21",
          "Galaxy Z Fold2 5G",
          "Galaxy S10",
          "Galaxy Z Flip3 5G",
          "Galaxy Z Fold2 5G",
          "Galaxy Z Flip3 5G",
          "Galaxy Note20",
          "Galaxy Z Fold3 5G",
          "Galaxy Z Flip5 5G",
          "Galaxy Z Flip3 5G",
          "Galaxy Z Fold2 5G",
          "Galaxy A32 5G",
          "Galaxy S21",
          "Galaxy A14 5G",
          "Galaxy Note10",
          "Galaxy Z Fold3 5G",
          "Galaxy Z Flip5 5G",
          "Galaxy Z Fold3 5G",
          "Galaxy S20",
          "Galaxy Z Fold3 5G",
          "Galaxy Z Flip3 5G",
          "Galaxy Z Flip5 5G",
          "Galaxy Note10",
          "Galaxy S21",
          "Galaxy Note10",
          "Galaxy Z Fold3 5G",
          "Galaxy Z Flip3 5G",
          "Galaxy Z Fold3 5G",
          "Galaxy A73 5G",
          "Galaxy S10",
          "Galaxy Note10",
          "Galaxy S22 5G",
          "Galaxy Z Fold2 5G",
          "Galaxy A32 5G",
          "Galaxy A14 5G",
          "Galaxy S22 5G",
          "Galaxy S22 5G",
          "Galaxy Z Flip5 5G",
          "Galaxy A32 5G",
          "Galaxy S22 5G",
          "Galaxy Note20",
          "Galaxy Note20",
          "Galaxy S21",
          "Galaxy S22 5G",
          "Galaxy Note20",
          "Galaxy Z Fold2 5G",
          "Galaxy A73 5G",
          "Galaxy Note10",
          "Galaxy S22 5G",
          "Galaxy A73 5G",
          "Galaxy S20",
          "Galaxy Z Flip3 5G",
          "Galaxy Z Fold3 5G",
          "Galaxy A32 5G",
          "Galaxy Z Fold2 5G",
          "Galaxy S23 5G",
          "Galaxy A73 5G",
          "Galaxy A73 5G",
          "Galaxy Z Flip5 5G",
          "Galaxy Z Fold3 5G",
          "Galaxy S21",
          "Galaxy Z Flip5 5G",
          "Galaxy A73 5G",
          "Galaxy S20",
          "Galaxy S10",
          "Galaxy A32 5G",
          "Galaxy Z Fold3 5G",
          "Galaxy A14 5G",
          "Galaxy A14 5G",
          "Galaxy S20",
          "Galaxy S10",
          "Galaxy A32 5G",
          "Galaxy S23 5G",
          "Galaxy A32 5G",
          "Galaxy A52 5G",
          "Galaxy Note10",
          "Galaxy Z Flip5 5G",
          "Galaxy Z Fold3 5G",
          "Galaxy S10",
          "Galaxy Note20",
          "Galaxy Z Fold3 5G",
          "Galaxy S21",
          "Galaxy S20",
          "Galaxy A52 5G",
          "Galaxy S22 5G",
          "Galaxy S22 5G",
          "Galaxy A73 5G",
          "Galaxy S10",
          "Galaxy S21",
          "Galaxy S20",
          "Galaxy Note20",
          "Galaxy A14 5G",
          "Galaxy Z Fold2 5G",
          "Galaxy S23 5G",
          "Galaxy A14 5G",
          "Galaxy S22 5G",
          "Galaxy Note20",
          "Galaxy A52 5G",
          "Galaxy S10",
          "Galaxy A52 5G",
          "Galaxy S22 5G",
          "Galaxy Z Flip3 5G",
          "Galaxy A73 5G",
          "Galaxy Z Flip5 5G",
          "Galaxy Note10",
          "Galaxy S22 5G",
          "Galaxy A73 5G",
          "Galaxy S20",
          "Galaxy S22 5G",
          "Galaxy S22 5G",
          "Galaxy S22 5G",
          "Galaxy S22 5G",
          "Galaxy S10",
          "Galaxy Z Flip3 5G",
          "Galaxy S22 5G",
          "Galaxy Z Fold3 5G",
          "Galaxy Note10",
          "Galaxy A32 5G",
          "Galaxy A52 5G",
          "Galaxy Z Fold3 5G",
          "Galaxy A14 5G",
          "Galaxy S10",
          "Galaxy Z Flip5 5G",
          "Galaxy A73 5G",
          "Galaxy Z Fold2 5G",
          "Galaxy A52 5G",
          "Galaxy S23 5G",
          "Galaxy S21",
          "Galaxy S10",
          "Galaxy S22 5G",
          "Galaxy A52 5G",
          "Galaxy Note10",
          "Galaxy Note10",
          "Galaxy A73 5G",
          "Galaxy A32 5G",
          "Galaxy S21",
          "Galaxy S23 5G",
          "Galaxy Z Fold3 5G",
          "Galaxy A32 5G",
          "Galaxy A73 5G",
          "Galaxy A14 5G",
          "Galaxy A32 5G",
          "Galaxy S22 5G",
          "Galaxy A32 5G",
          "Galaxy Z Flip5 5G",
          "Galaxy S22 5G",
          "Galaxy Z Flip3 5G",
          "Galaxy S22 5G",
          "Galaxy S22 5G",
          "Galaxy S21",
          "Galaxy S10",
          "Galaxy Note10",
          "Galaxy Note20"
         ],
         "xaxis": "x",
         "yaxis": "y"
        }
       ],
       "layout": {
        "barmode": "relative",
        "legend": {
         "tracegroupgap": 0
        },
        "template": {
         "data": {
          "bar": [
           {
            "error_x": {
             "color": "#2a3f5f"
            },
            "error_y": {
             "color": "#2a3f5f"
            },
            "marker": {
             "line": {
              "color": "#E5ECF6",
              "width": 0.5
             },
             "pattern": {
              "fillmode": "overlay",
              "size": 10,
              "solidity": 0.2
             }
            },
            "type": "bar"
           }
          ],
          "barpolar": [
           {
            "marker": {
             "line": {
              "color": "#E5ECF6",
              "width": 0.5
             },
             "pattern": {
              "fillmode": "overlay",
              "size": 10,
              "solidity": 0.2
             }
            },
            "type": "barpolar"
           }
          ],
          "carpet": [
           {
            "aaxis": {
             "endlinecolor": "#2a3f5f",
             "gridcolor": "white",
             "linecolor": "white",
             "minorgridcolor": "white",
             "startlinecolor": "#2a3f5f"
            },
            "baxis": {
             "endlinecolor": "#2a3f5f",
             "gridcolor": "white",
             "linecolor": "white",
             "minorgridcolor": "white",
             "startlinecolor": "#2a3f5f"
            },
            "type": "carpet"
           }
          ],
          "choropleth": [
           {
            "colorbar": {
             "outlinewidth": 0,
             "ticks": ""
            },
            "type": "choropleth"
           }
          ],
          "contour": [
           {
            "colorbar": {
             "outlinewidth": 0,
             "ticks": ""
            },
            "colorscale": [
             [
              0,
              "#0d0887"
             ],
             [
              0.1111111111111111,
              "#46039f"
             ],
             [
              0.2222222222222222,
              "#7201a8"
             ],
             [
              0.3333333333333333,
              "#9c179e"
             ],
             [
              0.4444444444444444,
              "#bd3786"
             ],
             [
              0.5555555555555556,
              "#d8576b"
             ],
             [
              0.6666666666666666,
              "#ed7953"
             ],
             [
              0.7777777777777778,
              "#fb9f3a"
             ],
             [
              0.8888888888888888,
              "#fdca26"
             ],
             [
              1,
              "#f0f921"
             ]
            ],
            "type": "contour"
           }
          ],
          "contourcarpet": [
           {
            "colorbar": {
             "outlinewidth": 0,
             "ticks": ""
            },
            "type": "contourcarpet"
           }
          ],
          "heatmap": [
           {
            "colorbar": {
             "outlinewidth": 0,
             "ticks": ""
            },
            "colorscale": [
             [
              0,
              "#0d0887"
             ],
             [
              0.1111111111111111,
              "#46039f"
             ],
             [
              0.2222222222222222,
              "#7201a8"
             ],
             [
              0.3333333333333333,
              "#9c179e"
             ],
             [
              0.4444444444444444,
              "#bd3786"
             ],
             [
              0.5555555555555556,
              "#d8576b"
             ],
             [
              0.6666666666666666,
              "#ed7953"
             ],
             [
              0.7777777777777778,
              "#fb9f3a"
             ],
             [
              0.8888888888888888,
              "#fdca26"
             ],
             [
              1,
              "#f0f921"
             ]
            ],
            "type": "heatmap"
           }
          ],
          "heatmapgl": [
           {
            "colorbar": {
             "outlinewidth": 0,
             "ticks": ""
            },
            "colorscale": [
             [
              0,
              "#0d0887"
             ],
             [
              0.1111111111111111,
              "#46039f"
             ],
             [
              0.2222222222222222,
              "#7201a8"
             ],
             [
              0.3333333333333333,
              "#9c179e"
             ],
             [
              0.4444444444444444,
              "#bd3786"
             ],
             [
              0.5555555555555556,
              "#d8576b"
             ],
             [
              0.6666666666666666,
              "#ed7953"
             ],
             [
              0.7777777777777778,
              "#fb9f3a"
             ],
             [
              0.8888888888888888,
              "#fdca26"
             ],
             [
              1,
              "#f0f921"
             ]
            ],
            "type": "heatmapgl"
           }
          ],
          "histogram": [
           {
            "marker": {
             "pattern": {
              "fillmode": "overlay",
              "size": 10,
              "solidity": 0.2
             }
            },
            "type": "histogram"
           }
          ],
          "histogram2d": [
           {
            "colorbar": {
             "outlinewidth": 0,
             "ticks": ""
            },
            "colorscale": [
             [
              0,
              "#0d0887"
             ],
             [
              0.1111111111111111,
              "#46039f"
             ],
             [
              0.2222222222222222,
              "#7201a8"
             ],
             [
              0.3333333333333333,
              "#9c179e"
             ],
             [
              0.4444444444444444,
              "#bd3786"
             ],
             [
              0.5555555555555556,
              "#d8576b"
             ],
             [
              0.6666666666666666,
              "#ed7953"
             ],
             [
              0.7777777777777778,
              "#fb9f3a"
             ],
             [
              0.8888888888888888,
              "#fdca26"
             ],
             [
              1,
              "#f0f921"
             ]
            ],
            "type": "histogram2d"
           }
          ],
          "histogram2dcontour": [
           {
            "colorbar": {
             "outlinewidth": 0,
             "ticks": ""
            },
            "colorscale": [
             [
              0,
              "#0d0887"
             ],
             [
              0.1111111111111111,
              "#46039f"
             ],
             [
              0.2222222222222222,
              "#7201a8"
             ],
             [
              0.3333333333333333,
              "#9c179e"
             ],
             [
              0.4444444444444444,
              "#bd3786"
             ],
             [
              0.5555555555555556,
              "#d8576b"
             ],
             [
              0.6666666666666666,
              "#ed7953"
             ],
             [
              0.7777777777777778,
              "#fb9f3a"
             ],
             [
              0.8888888888888888,
              "#fdca26"
             ],
             [
              1,
              "#f0f921"
             ]
            ],
            "type": "histogram2dcontour"
           }
          ],
          "mesh3d": [
           {
            "colorbar": {
             "outlinewidth": 0,
             "ticks": ""
            },
            "type": "mesh3d"
           }
          ],
          "parcoords": [
           {
            "line": {
             "colorbar": {
              "outlinewidth": 0,
              "ticks": ""
             }
            },
            "type": "parcoords"
           }
          ],
          "pie": [
           {
            "automargin": true,
            "type": "pie"
           }
          ],
          "scatter": [
           {
            "fillpattern": {
             "fillmode": "overlay",
             "size": 10,
             "solidity": 0.2
            },
            "type": "scatter"
           }
          ],
          "scatter3d": [
           {
            "line": {
             "colorbar": {
              "outlinewidth": 0,
              "ticks": ""
             }
            },
            "marker": {
             "colorbar": {
              "outlinewidth": 0,
              "ticks": ""
             }
            },
            "type": "scatter3d"
           }
          ],
          "scattercarpet": [
           {
            "marker": {
             "colorbar": {
              "outlinewidth": 0,
              "ticks": ""
             }
            },
            "type": "scattercarpet"
           }
          ],
          "scattergeo": [
           {
            "marker": {
             "colorbar": {
              "outlinewidth": 0,
              "ticks": ""
             }
            },
            "type": "scattergeo"
           }
          ],
          "scattergl": [
           {
            "marker": {
             "colorbar": {
              "outlinewidth": 0,
              "ticks": ""
             }
            },
            "type": "scattergl"
           }
          ],
          "scattermapbox": [
           {
            "marker": {
             "colorbar": {
              "outlinewidth": 0,
              "ticks": ""
             }
            },
            "type": "scattermapbox"
           }
          ],
          "scatterpolar": [
           {
            "marker": {
             "colorbar": {
              "outlinewidth": 0,
              "ticks": ""
             }
            },
            "type": "scatterpolar"
           }
          ],
          "scatterpolargl": [
           {
            "marker": {
             "colorbar": {
              "outlinewidth": 0,
              "ticks": ""
             }
            },
            "type": "scatterpolargl"
           }
          ],
          "scatterternary": [
           {
            "marker": {
             "colorbar": {
              "outlinewidth": 0,
              "ticks": ""
             }
            },
            "type": "scatterternary"
           }
          ],
          "surface": [
           {
            "colorbar": {
             "outlinewidth": 0,
             "ticks": ""
            },
            "colorscale": [
             [
              0,
              "#0d0887"
             ],
             [
              0.1111111111111111,
              "#46039f"
             ],
             [
              0.2222222222222222,
              "#7201a8"
             ],
             [
              0.3333333333333333,
              "#9c179e"
             ],
             [
              0.4444444444444444,
              "#bd3786"
             ],
             [
              0.5555555555555556,
              "#d8576b"
             ],
             [
              0.6666666666666666,
              "#ed7953"
             ],
             [
              0.7777777777777778,
              "#fb9f3a"
             ],
             [
              0.8888888888888888,
              "#fdca26"
             ],
             [
              1,
              "#f0f921"
             ]
            ],
            "type": "surface"
           }
          ],
          "table": [
           {
            "cells": {
             "fill": {
              "color": "#EBF0F8"
             },
             "line": {
              "color": "white"
             }
            },
            "header": {
             "fill": {
              "color": "#C8D4E3"
             },
             "line": {
              "color": "white"
             }
            },
            "type": "table"
           }
          ]
         },
         "layout": {
          "annotationdefaults": {
           "arrowcolor": "#2a3f5f",
           "arrowhead": 0,
           "arrowwidth": 1
          },
          "autotypenumbers": "strict",
          "coloraxis": {
           "colorbar": {
            "outlinewidth": 0,
            "ticks": ""
           }
          },
          "colorscale": {
           "diverging": [
            [
             0,
             "#8e0152"
            ],
            [
             0.1,
             "#c51b7d"
            ],
            [
             0.2,
             "#de77ae"
            ],
            [
             0.3,
             "#f1b6da"
            ],
            [
             0.4,
             "#fde0ef"
            ],
            [
             0.5,
             "#f7f7f7"
            ],
            [
             0.6,
             "#e6f5d0"
            ],
            [
             0.7,
             "#b8e186"
            ],
            [
             0.8,
             "#7fbc41"
            ],
            [
             0.9,
             "#4d9221"
            ],
            [
             1,
             "#276419"
            ]
           ],
           "sequential": [
            [
             0,
             "#0d0887"
            ],
            [
             0.1111111111111111,
             "#46039f"
            ],
            [
             0.2222222222222222,
             "#7201a8"
            ],
            [
             0.3333333333333333,
             "#9c179e"
            ],
            [
             0.4444444444444444,
             "#bd3786"
            ],
            [
             0.5555555555555556,
             "#d8576b"
            ],
            [
             0.6666666666666666,
             "#ed7953"
            ],
            [
             0.7777777777777778,
             "#fb9f3a"
            ],
            [
             0.8888888888888888,
             "#fdca26"
            ],
            [
             1,
             "#f0f921"
            ]
           ],
           "sequentialminus": [
            [
             0,
             "#0d0887"
            ],
            [
             0.1111111111111111,
             "#46039f"
            ],
            [
             0.2222222222222222,
             "#7201a8"
            ],
            [
             0.3333333333333333,
             "#9c179e"
            ],
            [
             0.4444444444444444,
             "#bd3786"
            ],
            [
             0.5555555555555556,
             "#d8576b"
            ],
            [
             0.6666666666666666,
             "#ed7953"
            ],
            [
             0.7777777777777778,
             "#fb9f3a"
            ],
            [
             0.8888888888888888,
             "#fdca26"
            ],
            [
             1,
             "#f0f921"
            ]
           ]
          },
          "colorway": [
           "#636efa",
           "#EF553B",
           "#00cc96",
           "#ab63fa",
           "#FFA15A",
           "#19d3f3",
           "#FF6692",
           "#B6E880",
           "#FF97FF",
           "#FECB52"
          ],
          "font": {
           "color": "#2a3f5f"
          },
          "geo": {
           "bgcolor": "white",
           "lakecolor": "white",
           "landcolor": "#E5ECF6",
           "showlakes": true,
           "showland": true,
           "subunitcolor": "white"
          },
          "hoverlabel": {
           "align": "left"
          },
          "hovermode": "closest",
          "mapbox": {
           "style": "light"
          },
          "paper_bgcolor": "white",
          "plot_bgcolor": "#E5ECF6",
          "polar": {
           "angularaxis": {
            "gridcolor": "white",
            "linecolor": "white",
            "ticks": ""
           },
           "bgcolor": "#E5ECF6",
           "radialaxis": {
            "gridcolor": "white",
            "linecolor": "white",
            "ticks": ""
           }
          },
          "scene": {
           "xaxis": {
            "backgroundcolor": "#E5ECF6",
            "gridcolor": "white",
            "gridwidth": 2,
            "linecolor": "white",
            "showbackground": true,
            "ticks": "",
            "zerolinecolor": "white"
           },
           "yaxis": {
            "backgroundcolor": "#E5ECF6",
            "gridcolor": "white",
            "gridwidth": 2,
            "linecolor": "white",
            "showbackground": true,
            "ticks": "",
            "zerolinecolor": "white"
           },
           "zaxis": {
            "backgroundcolor": "#E5ECF6",
            "gridcolor": "white",
            "gridwidth": 2,
            "linecolor": "white",
            "showbackground": true,
            "ticks": "",
            "zerolinecolor": "white"
           }
          },
          "shapedefaults": {
           "line": {
            "color": "#2a3f5f"
           }
          },
          "ternary": {
           "aaxis": {
            "gridcolor": "white",
            "linecolor": "white",
            "ticks": ""
           },
           "baxis": {
            "gridcolor": "white",
            "linecolor": "white",
            "ticks": ""
           },
           "bgcolor": "#E5ECF6",
           "caxis": {
            "gridcolor": "white",
            "linecolor": "white",
            "ticks": ""
           }
          },
          "title": {
           "x": 0.05
          },
          "xaxis": {
           "automargin": true,
           "gridcolor": "white",
           "linecolor": "white",
           "ticks": "",
           "title": {
            "standoff": 15
           },
           "zerolinecolor": "white",
           "zerolinewidth": 2
          },
          "yaxis": {
           "automargin": true,
           "gridcolor": "white",
           "linecolor": "white",
           "ticks": "",
           "title": {
            "standoff": 15
           },
           "zerolinecolor": "white",
           "zerolinewidth": 2
          }
         }
        },
        "title": {
         "text": "Percentual de vendas por Produto"
        },
        "xaxis": {
         "anchor": "y",
         "domain": [
          0,
          1
         ],
         "title": {
          "text": "Product Model"
         }
        },
        "yaxis": {
         "anchor": "x",
         "domain": [
          0,
          1
         ],
         "title": {
          "text": "count"
         }
        }
       }
      }
     },
     "metadata": {},
     "output_type": "display_data"
    }
   ],
   "source": [
    "fig=px.histogram(df, df[\"Product Model\"],title=\"Percentual de vendas por Produto\", color_discrete_sequence=px.colors.sequential.Purples_r)\n",
    "\n",
    "fig.show()"
   ]
  },
  {
   "cell_type": "code",
   "execution_count": 152,
   "metadata": {},
   "outputs": [
    {
     "data": {
      "application/vnd.plotly.v1+json": {
       "config": {
        "plotlyServerURL": "https://plot.ly"
       },
       "data": [
        {
         "alignmentgroup": "True",
         "hovertemplate": "Preference for 5G (%)=%{x}<extra></extra>",
         "legendgroup": "",
         "marker": {
          "color": "rgb(63,0,125)"
         },
         "name": "",
         "notched": false,
         "offsetgroup": "",
         "orientation": "h",
         "showlegend": false,
         "type": "box",
         "x": [
          55.87,
          37.26,
          84.66,
          40.03,
          76.88,
          80.79,
          77.55,
          74.83,
          66.50999999999999,
          87.01,
          85.88,
          88.16,
          85.67,
          45.66,
          53.81,
          64.04,
          38.28,
          67.78,
          44.96,
          85.33,
          63.69,
          64.63,
          53.2,
          88.81,
          73.07,
          83.06,
          78.44,
          55.21,
          75.51,
          91.79,
          50.23,
          46.41,
          77.31,
          47.14,
          46.13,
          58.89,
          94.7,
          54.75,
          67.9,
          54.15,
          88.16,
          87.97,
          61.6,
          81.32,
          82.55,
          58.24,
          45.44,
          45.48,
          75.72,
          70.74,
          58.83,
          93.45,
          87.24,
          72.21,
          80.35,
          87.8,
          58.71,
          90.81,
          53.55,
          60.91,
          75.23,
          80.17,
          78.94,
          53.68,
          49.63,
          52.9,
          76.5,
          79.09,
          63.04,
          52.29,
          57.91,
          69.24,
          66.45,
          51.45,
          76.81,
          38.5,
          70.49,
          64.08,
          74.93,
          52.96,
          54.94,
          54.46,
          79.22,
          45.25,
          88.02,
          86.46,
          85.04,
          75.93,
          86.89,
          50.08,
          41.31,
          84.47,
          85.45,
          45.43,
          53.63,
          63.04,
          82.6,
          89.31,
          61.17,
          88.7,
          93.02,
          59.44,
          79.56,
          55.85,
          87.73,
          67.28,
          50.09,
          56.78,
          72.36,
          44.89,
          62.18,
          57.17,
          48.71,
          70.84,
          54.61,
          85.87,
          83.63,
          57.77,
          78.77,
          71.5,
          66.93,
          73.97,
          62.41,
          52.54,
          50.17,
          61.75,
          55.07,
          53.5,
          85.11,
          60.11,
          71.11,
          72.55,
          92.93,
          75.69,
          60.85,
          39.33,
          73.56,
          65.82,
          71.1,
          42.6,
          74.08,
          66,
          92.83,
          93.25,
          48.08,
          89.51,
          49.82,
          58.52,
          71.77,
          76.8,
          58.3,
          54.81,
          85.21,
          46.5,
          59.06,
          72.96,
          88.65,
          81.14,
          80.99,
          77.33,
          88.87,
          71.55,
          90.26,
          87,
          82.49,
          66.82,
          86.48,
          82.42,
          53.34,
          84.68,
          54.28,
          72.67,
          93.14,
          74.59,
          51.48,
          64.74000000000001,
          52.08,
          94.36,
          81.79,
          68.86,
          72.06,
          65.05,
          75.23,
          41.67,
          51.97,
          53.59,
          72.61,
          57.04,
          57.82,
          52.88,
          47.7,
          55.31,
          80.72,
          73.56,
          74.46,
          66.24,
          37.14,
          43.46,
          39.57,
          78.41,
          87.65,
          59.6,
          87.93,
          51.79,
          51.01,
          45.78,
          48.06,
          86.74,
          86.09,
          72.56,
          77.13,
          63.620000000000005,
          66.96,
          53.29,
          53.9,
          53.91,
          74.82,
          62.1,
          92.8,
          65.46000000000001,
          86.82,
          73.87,
          69.85,
          74.49,
          50.98,
          61.06999999999999,
          47.23,
          49.71,
          78.05,
          61.38,
          86.45,
          81.51,
          72.27,
          46.15,
          94.84,
          88.86,
          93.2,
          93.28,
          76.2,
          45.63,
          80.79,
          74.11,
          73.89,
          41.54,
          65.46,
          45.63,
          68,
          87.07,
          65.83,
          54.7,
          54.8,
          69.15,
          82.88,
          75.96,
          62.56,
          66.6,
          70.52,
          68.94,
          45.26,
          57.66,
          54.69,
          52.92,
          81.51,
          45.62,
          45.43,
          48.3,
          51.12,
          70.25,
          86.82,
          45.09,
          64.86,
          51.94,
          83.22,
          47.82,
          49.98,
          73.64,
          88.53,
          58.28,
          45.65,
          94.16,
          46.97,
          54.57,
          87.94,
          75.87,
          91.72,
          68.24,
          47.11,
          73.78,
          80.82,
          58.59,
          65.49000000000001,
          87.72,
          53.57,
          59.27,
          79.73,
          63.86,
          46.87,
          51.56,
          62.63,
          48.38,
          42.93,
          43.39,
          84.08,
          82.48,
          73.14,
          58.15,
          80.87,
          67.67,
          93.38,
          89.62,
          46.55,
          45.53,
          56.88,
          49.58,
          50.72,
          48.09,
          73.24,
          40.12,
          75.69,
          78.16,
          52.94,
          51.86,
          94.43,
          72.78,
          73.86,
          65.41,
          54.66,
          88.18,
          72.81,
          46.44,
          82.95,
          42.51,
          46.39,
          52.2,
          75.59,
          63.21,
          50.02,
          72.09,
          85.26,
          89.72,
          67.07,
          72.28,
          88.08,
          52.39,
          63.33,
          57.32,
          38.07,
          74.44,
          51.79,
          86.51,
          84.08,
          87.11,
          81.11,
          73.46,
          49,
          92.85,
          66.1,
          87.54,
          92.94,
          75.18,
          55.87,
          37.26,
          84.66,
          40.03,
          76.88,
          80.79,
          77.55,
          74.83,
          66.50999999999999,
          87.01,
          85.88,
          88.16,
          85.67,
          45.66,
          53.81,
          64.04,
          38.28,
          67.78,
          44.96,
          85.33,
          63.69,
          64.63,
          53.2,
          88.81,
          73.07,
          83.06,
          78.44,
          55.21,
          75.51,
          91.79,
          50.23,
          46.41,
          77.31,
          47.14,
          46.13,
          58.89,
          94.7,
          54.75,
          67.9,
          54.15,
          88.16,
          87.97,
          61.6,
          81.32,
          82.55,
          58.24,
          45.44,
          45.48,
          75.72,
          70.74,
          58.83,
          93.45,
          87.24,
          72.21,
          80.35,
          87.8,
          58.71,
          90.81,
          53.55,
          60.91,
          75.23,
          80.17,
          78.94,
          53.68,
          49.63,
          52.9,
          76.5,
          79.09,
          63.04,
          52.29,
          57.91,
          69.24,
          66.45,
          51.45,
          76.81,
          38.5,
          70.49,
          64.08,
          74.93,
          52.96,
          54.94,
          54.46,
          79.22,
          45.25,
          88.02,
          86.46,
          85.04,
          75.93,
          86.89,
          50.08,
          41.31,
          84.47,
          85.45,
          45.43,
          53.63,
          63.04,
          82.6,
          89.31,
          61.17,
          88.7,
          93.02,
          59.44,
          79.56,
          55.85,
          87.73,
          67.28,
          50.09,
          56.78,
          72.36,
          44.89,
          62.18,
          57.17,
          48.71,
          70.84,
          54.61,
          85.87,
          83.63,
          57.77,
          78.77,
          71.5,
          66.93,
          73.97,
          62.41,
          52.54,
          50.17,
          61.75,
          55.07,
          53.5,
          85.11,
          60.11,
          71.11,
          72.55,
          92.93,
          75.69,
          60.85,
          39.33,
          73.56,
          65.82,
          71.1,
          42.6,
          74.08,
          66,
          92.83,
          93.25,
          48.08,
          89.51,
          49.82,
          58.52,
          71.77,
          76.8,
          58.3,
          54.81,
          85.21,
          46.5,
          59.06,
          72.96,
          88.65,
          81.14,
          80.99,
          77.33,
          88.87,
          71.55,
          90.26,
          87,
          82.49,
          66.82,
          86.48,
          82.42,
          53.34,
          84.68,
          54.28,
          72.67,
          93.14,
          74.59,
          51.48,
          64.74000000000001,
          52.08,
          94.36,
          81.79,
          68.86,
          72.06,
          65.05,
          75.23,
          41.67,
          51.97,
          53.59,
          72.61,
          57.04,
          57.82,
          52.88,
          47.7,
          55.31,
          80.72,
          73.56,
          74.46,
          66.24,
          37.14,
          43.46,
          39.57,
          78.41,
          87.65,
          59.6,
          87.93,
          51.79,
          51.01,
          45.78,
          48.06,
          86.74,
          86.09,
          72.56,
          77.13,
          63.620000000000005,
          66.96,
          53.29,
          53.9,
          53.91,
          74.82,
          62.1,
          92.8,
          65.46000000000001,
          86.82,
          73.87,
          69.85,
          74.49,
          50.98,
          61.06999999999999,
          47.23,
          49.71,
          78.05,
          61.38,
          86.45,
          81.51,
          72.27,
          46.15,
          94.84,
          88.86,
          93.2,
          93.28,
          76.2,
          45.63,
          80.79,
          74.11,
          73.89,
          41.54,
          65.46,
          45.63,
          68,
          87.07,
          65.83,
          54.7,
          54.8,
          69.15,
          82.88,
          75.96,
          62.56,
          66.6,
          70.52,
          68.94,
          45.26,
          57.66,
          54.69,
          52.92,
          81.51,
          45.62,
          45.43,
          48.3,
          51.12,
          70.25,
          86.82,
          45.09,
          64.86,
          51.94,
          83.22,
          47.82,
          49.98,
          73.64,
          88.53,
          58.28,
          45.65,
          94.16,
          46.97,
          54.57,
          87.94,
          75.87,
          91.72,
          68.24,
          47.11,
          73.78,
          80.82,
          58.59,
          65.49000000000001,
          87.72,
          53.57,
          59.27,
          79.73,
          63.86,
          46.87,
          51.56,
          62.63,
          48.38,
          42.93,
          43.39,
          84.08,
          82.48,
          73.14,
          58.15,
          80.87,
          67.67,
          93.38,
          89.62,
          46.55,
          45.53,
          56.88,
          49.58,
          50.72,
          48.09,
          73.24,
          40.12,
          75.69,
          78.16,
          52.94,
          51.86,
          94.43,
          72.78,
          73.86,
          65.41,
          54.66,
          88.18,
          72.81,
          46.44,
          82.95,
          42.51,
          46.39,
          52.2,
          75.59,
          63.21,
          50.02,
          72.09,
          85.26,
          89.72,
          67.07,
          72.28,
          88.08,
          52.39,
          63.33,
          57.32,
          38.07,
          74.44,
          51.79,
          86.51,
          84.08,
          87.11,
          81.11,
          73.46,
          49,
          92.85,
          66.1,
          87.54,
          92.94,
          75.18,
          58.89,
          86.48,
          86.82,
          53.29,
          66.93,
          79.22,
          85.88,
          54.94,
          89.51,
          64.74000000000001,
          81.14,
          63.04,
          45.53,
          74.08,
          58.83,
          50.09,
          94.43,
          68.94,
          48.08,
          71.1,
          87.01,
          48.08,
          73.78,
          58.3,
          75.69,
          93.38,
          46.44,
          52.88,
          41.54,
          50.09,
          53.9,
          55.07,
          46.5,
          39.33,
          92.8,
          73.97,
          93.45,
          88.16,
          93.28,
          76.8,
          66,
          85.04,
          68,
          87.97,
          79.73,
          50.17,
          51.94,
          61.17,
          37.26,
          76.81,
          45.26,
          67.07,
          42.6,
          73.64,
          54.28,
          55.87,
          59.6,
          58.52,
          68.94,
          40.03,
          54.81,
          74.11,
          74.44,
          52.54,
          80.99,
          52.96,
          66.6,
          79.73,
          58.52,
          73.87,
          92.94,
          37.14,
          58.52,
          59.6,
          73.46,
          94.16,
          51.86,
          88.87,
          87.94,
          84.08,
          67.9,
          57.17,
          82.6,
          94.43,
          73.64,
          88.7,
          49.82,
          67.78,
          74.59,
          93.2,
          37.26,
          58.3,
          62.1,
          80.17,
          75.51,
          75.72,
          57.77,
          37.14,
          72.61,
          87.01,
          49,
          37.14,
          81.32,
          82.6,
          73.07,
          45.26,
          75.51,
          68,
          53.63,
          46.55,
          47.14,
          52.54,
          63.04,
          61.38,
          51.97,
          63.33,
          46.13,
          70.49,
          51.86,
          54.57,
          51.97,
          92.85,
          51.01,
          50.23,
          54.8,
          42.51,
          79.09,
          52.96,
          59.27,
          82.95,
          89.72,
          65.83,
          87.01,
          52.54,
          54.57,
          50.08,
          52.88,
          63.04,
          45.63,
          51.97,
          86.74,
          63.620000000000005,
          45.53,
          50.08,
          83.63,
          45.48,
          59.44,
          45.43,
          91.79,
          37.14,
          50.17,
          63.620000000000005,
          54.66,
          89.62,
          88.16,
          58.28,
          66.6,
          37.26,
          64.74000000000001,
          66.50999999999999,
          52.9,
          88.18,
          88.87,
          47.7,
          48.38,
          58.83,
          63.86,
          72.36,
          45.26,
          53.63,
          63.86,
          72.36,
          46.15,
          74.83,
          47.23,
          48.3,
          89.31,
          85.45,
          73.07,
          52.08,
          73.64,
          80.99,
          86.09,
          89.31,
          81.11,
          63.33,
          88.16,
          42.6,
          91.72,
          74.83,
          73.78,
          42.93,
          74.08,
          54.57,
          61.6,
          94.36,
          62.41,
          50.23,
          53.91,
          86.89,
          53.59,
          59.6,
          46.41,
          75.18,
          73.87,
          66.6,
          41.54,
          78.44,
          46.13,
          84.66,
          57.17,
          83.06,
          64.74000000000001,
          72.27,
          39.33,
          49.63,
          66.96,
          74.93,
          92.93,
          65.83,
          75.51,
          86.74,
          85.88,
          51.79,
          76.5,
          57.32,
          72.61,
          71.11,
          87.01,
          87.93,
          76.8,
          84.47,
          57.91,
          53.57,
          84.08,
          88.86,
          46.55,
          85.88,
          45.78,
          58.24,
          89.62,
          86.82,
          51.12,
          38.28,
          87.65,
          72.67,
          55.31,
          85.67,
          58.3,
          82.55,
          79.09,
          70.84,
          93.45,
          86.89,
          86.51,
          48.09,
          88.87,
          80.87,
          47.23,
          47.23,
          87.93,
          87.65,
          84.68,
          52.39,
          83.63,
          74.08,
          54.75,
          82.88,
          63.21,
          85.88,
          52.9,
          62.56,
          57.91,
          80.35,
          87.8,
          63.86,
          78.41,
          72.06,
          47.11,
          72.36
         ],
         "x0": " ",
         "xaxis": "x",
         "y0": " ",
         "yaxis": "y"
        }
       ],
       "layout": {
        "boxmode": "group",
        "legend": {
         "tracegroupgap": 0
        },
        "template": {
         "data": {
          "bar": [
           {
            "error_x": {
             "color": "#2a3f5f"
            },
            "error_y": {
             "color": "#2a3f5f"
            },
            "marker": {
             "line": {
              "color": "#E5ECF6",
              "width": 0.5
             },
             "pattern": {
              "fillmode": "overlay",
              "size": 10,
              "solidity": 0.2
             }
            },
            "type": "bar"
           }
          ],
          "barpolar": [
           {
            "marker": {
             "line": {
              "color": "#E5ECF6",
              "width": 0.5
             },
             "pattern": {
              "fillmode": "overlay",
              "size": 10,
              "solidity": 0.2
             }
            },
            "type": "barpolar"
           }
          ],
          "carpet": [
           {
            "aaxis": {
             "endlinecolor": "#2a3f5f",
             "gridcolor": "white",
             "linecolor": "white",
             "minorgridcolor": "white",
             "startlinecolor": "#2a3f5f"
            },
            "baxis": {
             "endlinecolor": "#2a3f5f",
             "gridcolor": "white",
             "linecolor": "white",
             "minorgridcolor": "white",
             "startlinecolor": "#2a3f5f"
            },
            "type": "carpet"
           }
          ],
          "choropleth": [
           {
            "colorbar": {
             "outlinewidth": 0,
             "ticks": ""
            },
            "type": "choropleth"
           }
          ],
          "contour": [
           {
            "colorbar": {
             "outlinewidth": 0,
             "ticks": ""
            },
            "colorscale": [
             [
              0,
              "#0d0887"
             ],
             [
              0.1111111111111111,
              "#46039f"
             ],
             [
              0.2222222222222222,
              "#7201a8"
             ],
             [
              0.3333333333333333,
              "#9c179e"
             ],
             [
              0.4444444444444444,
              "#bd3786"
             ],
             [
              0.5555555555555556,
              "#d8576b"
             ],
             [
              0.6666666666666666,
              "#ed7953"
             ],
             [
              0.7777777777777778,
              "#fb9f3a"
             ],
             [
              0.8888888888888888,
              "#fdca26"
             ],
             [
              1,
              "#f0f921"
             ]
            ],
            "type": "contour"
           }
          ],
          "contourcarpet": [
           {
            "colorbar": {
             "outlinewidth": 0,
             "ticks": ""
            },
            "type": "contourcarpet"
           }
          ],
          "heatmap": [
           {
            "colorbar": {
             "outlinewidth": 0,
             "ticks": ""
            },
            "colorscale": [
             [
              0,
              "#0d0887"
             ],
             [
              0.1111111111111111,
              "#46039f"
             ],
             [
              0.2222222222222222,
              "#7201a8"
             ],
             [
              0.3333333333333333,
              "#9c179e"
             ],
             [
              0.4444444444444444,
              "#bd3786"
             ],
             [
              0.5555555555555556,
              "#d8576b"
             ],
             [
              0.6666666666666666,
              "#ed7953"
             ],
             [
              0.7777777777777778,
              "#fb9f3a"
             ],
             [
              0.8888888888888888,
              "#fdca26"
             ],
             [
              1,
              "#f0f921"
             ]
            ],
            "type": "heatmap"
           }
          ],
          "heatmapgl": [
           {
            "colorbar": {
             "outlinewidth": 0,
             "ticks": ""
            },
            "colorscale": [
             [
              0,
              "#0d0887"
             ],
             [
              0.1111111111111111,
              "#46039f"
             ],
             [
              0.2222222222222222,
              "#7201a8"
             ],
             [
              0.3333333333333333,
              "#9c179e"
             ],
             [
              0.4444444444444444,
              "#bd3786"
             ],
             [
              0.5555555555555556,
              "#d8576b"
             ],
             [
              0.6666666666666666,
              "#ed7953"
             ],
             [
              0.7777777777777778,
              "#fb9f3a"
             ],
             [
              0.8888888888888888,
              "#fdca26"
             ],
             [
              1,
              "#f0f921"
             ]
            ],
            "type": "heatmapgl"
           }
          ],
          "histogram": [
           {
            "marker": {
             "pattern": {
              "fillmode": "overlay",
              "size": 10,
              "solidity": 0.2
             }
            },
            "type": "histogram"
           }
          ],
          "histogram2d": [
           {
            "colorbar": {
             "outlinewidth": 0,
             "ticks": ""
            },
            "colorscale": [
             [
              0,
              "#0d0887"
             ],
             [
              0.1111111111111111,
              "#46039f"
             ],
             [
              0.2222222222222222,
              "#7201a8"
             ],
             [
              0.3333333333333333,
              "#9c179e"
             ],
             [
              0.4444444444444444,
              "#bd3786"
             ],
             [
              0.5555555555555556,
              "#d8576b"
             ],
             [
              0.6666666666666666,
              "#ed7953"
             ],
             [
              0.7777777777777778,
              "#fb9f3a"
             ],
             [
              0.8888888888888888,
              "#fdca26"
             ],
             [
              1,
              "#f0f921"
             ]
            ],
            "type": "histogram2d"
           }
          ],
          "histogram2dcontour": [
           {
            "colorbar": {
             "outlinewidth": 0,
             "ticks": ""
            },
            "colorscale": [
             [
              0,
              "#0d0887"
             ],
             [
              0.1111111111111111,
              "#46039f"
             ],
             [
              0.2222222222222222,
              "#7201a8"
             ],
             [
              0.3333333333333333,
              "#9c179e"
             ],
             [
              0.4444444444444444,
              "#bd3786"
             ],
             [
              0.5555555555555556,
              "#d8576b"
             ],
             [
              0.6666666666666666,
              "#ed7953"
             ],
             [
              0.7777777777777778,
              "#fb9f3a"
             ],
             [
              0.8888888888888888,
              "#fdca26"
             ],
             [
              1,
              "#f0f921"
             ]
            ],
            "type": "histogram2dcontour"
           }
          ],
          "mesh3d": [
           {
            "colorbar": {
             "outlinewidth": 0,
             "ticks": ""
            },
            "type": "mesh3d"
           }
          ],
          "parcoords": [
           {
            "line": {
             "colorbar": {
              "outlinewidth": 0,
              "ticks": ""
             }
            },
            "type": "parcoords"
           }
          ],
          "pie": [
           {
            "automargin": true,
            "type": "pie"
           }
          ],
          "scatter": [
           {
            "fillpattern": {
             "fillmode": "overlay",
             "size": 10,
             "solidity": 0.2
            },
            "type": "scatter"
           }
          ],
          "scatter3d": [
           {
            "line": {
             "colorbar": {
              "outlinewidth": 0,
              "ticks": ""
             }
            },
            "marker": {
             "colorbar": {
              "outlinewidth": 0,
              "ticks": ""
             }
            },
            "type": "scatter3d"
           }
          ],
          "scattercarpet": [
           {
            "marker": {
             "colorbar": {
              "outlinewidth": 0,
              "ticks": ""
             }
            },
            "type": "scattercarpet"
           }
          ],
          "scattergeo": [
           {
            "marker": {
             "colorbar": {
              "outlinewidth": 0,
              "ticks": ""
             }
            },
            "type": "scattergeo"
           }
          ],
          "scattergl": [
           {
            "marker": {
             "colorbar": {
              "outlinewidth": 0,
              "ticks": ""
             }
            },
            "type": "scattergl"
           }
          ],
          "scattermapbox": [
           {
            "marker": {
             "colorbar": {
              "outlinewidth": 0,
              "ticks": ""
             }
            },
            "type": "scattermapbox"
           }
          ],
          "scatterpolar": [
           {
            "marker": {
             "colorbar": {
              "outlinewidth": 0,
              "ticks": ""
             }
            },
            "type": "scatterpolar"
           }
          ],
          "scatterpolargl": [
           {
            "marker": {
             "colorbar": {
              "outlinewidth": 0,
              "ticks": ""
             }
            },
            "type": "scatterpolargl"
           }
          ],
          "scatterternary": [
           {
            "marker": {
             "colorbar": {
              "outlinewidth": 0,
              "ticks": ""
             }
            },
            "type": "scatterternary"
           }
          ],
          "surface": [
           {
            "colorbar": {
             "outlinewidth": 0,
             "ticks": ""
            },
            "colorscale": [
             [
              0,
              "#0d0887"
             ],
             [
              0.1111111111111111,
              "#46039f"
             ],
             [
              0.2222222222222222,
              "#7201a8"
             ],
             [
              0.3333333333333333,
              "#9c179e"
             ],
             [
              0.4444444444444444,
              "#bd3786"
             ],
             [
              0.5555555555555556,
              "#d8576b"
             ],
             [
              0.6666666666666666,
              "#ed7953"
             ],
             [
              0.7777777777777778,
              "#fb9f3a"
             ],
             [
              0.8888888888888888,
              "#fdca26"
             ],
             [
              1,
              "#f0f921"
             ]
            ],
            "type": "surface"
           }
          ],
          "table": [
           {
            "cells": {
             "fill": {
              "color": "#EBF0F8"
             },
             "line": {
              "color": "white"
             }
            },
            "header": {
             "fill": {
              "color": "#C8D4E3"
             },
             "line": {
              "color": "white"
             }
            },
            "type": "table"
           }
          ]
         },
         "layout": {
          "annotationdefaults": {
           "arrowcolor": "#2a3f5f",
           "arrowhead": 0,
           "arrowwidth": 1
          },
          "autotypenumbers": "strict",
          "coloraxis": {
           "colorbar": {
            "outlinewidth": 0,
            "ticks": ""
           }
          },
          "colorscale": {
           "diverging": [
            [
             0,
             "#8e0152"
            ],
            [
             0.1,
             "#c51b7d"
            ],
            [
             0.2,
             "#de77ae"
            ],
            [
             0.3,
             "#f1b6da"
            ],
            [
             0.4,
             "#fde0ef"
            ],
            [
             0.5,
             "#f7f7f7"
            ],
            [
             0.6,
             "#e6f5d0"
            ],
            [
             0.7,
             "#b8e186"
            ],
            [
             0.8,
             "#7fbc41"
            ],
            [
             0.9,
             "#4d9221"
            ],
            [
             1,
             "#276419"
            ]
           ],
           "sequential": [
            [
             0,
             "#0d0887"
            ],
            [
             0.1111111111111111,
             "#46039f"
            ],
            [
             0.2222222222222222,
             "#7201a8"
            ],
            [
             0.3333333333333333,
             "#9c179e"
            ],
            [
             0.4444444444444444,
             "#bd3786"
            ],
            [
             0.5555555555555556,
             "#d8576b"
            ],
            [
             0.6666666666666666,
             "#ed7953"
            ],
            [
             0.7777777777777778,
             "#fb9f3a"
            ],
            [
             0.8888888888888888,
             "#fdca26"
            ],
            [
             1,
             "#f0f921"
            ]
           ],
           "sequentialminus": [
            [
             0,
             "#0d0887"
            ],
            [
             0.1111111111111111,
             "#46039f"
            ],
            [
             0.2222222222222222,
             "#7201a8"
            ],
            [
             0.3333333333333333,
             "#9c179e"
            ],
            [
             0.4444444444444444,
             "#bd3786"
            ],
            [
             0.5555555555555556,
             "#d8576b"
            ],
            [
             0.6666666666666666,
             "#ed7953"
            ],
            [
             0.7777777777777778,
             "#fb9f3a"
            ],
            [
             0.8888888888888888,
             "#fdca26"
            ],
            [
             1,
             "#f0f921"
            ]
           ]
          },
          "colorway": [
           "#636efa",
           "#EF553B",
           "#00cc96",
           "#ab63fa",
           "#FFA15A",
           "#19d3f3",
           "#FF6692",
           "#B6E880",
           "#FF97FF",
           "#FECB52"
          ],
          "font": {
           "color": "#2a3f5f"
          },
          "geo": {
           "bgcolor": "white",
           "lakecolor": "white",
           "landcolor": "#E5ECF6",
           "showlakes": true,
           "showland": true,
           "subunitcolor": "white"
          },
          "hoverlabel": {
           "align": "left"
          },
          "hovermode": "closest",
          "mapbox": {
           "style": "light"
          },
          "paper_bgcolor": "white",
          "plot_bgcolor": "#E5ECF6",
          "polar": {
           "angularaxis": {
            "gridcolor": "white",
            "linecolor": "white",
            "ticks": ""
           },
           "bgcolor": "#E5ECF6",
           "radialaxis": {
            "gridcolor": "white",
            "linecolor": "white",
            "ticks": ""
           }
          },
          "scene": {
           "xaxis": {
            "backgroundcolor": "#E5ECF6",
            "gridcolor": "white",
            "gridwidth": 2,
            "linecolor": "white",
            "showbackground": true,
            "ticks": "",
            "zerolinecolor": "white"
           },
           "yaxis": {
            "backgroundcolor": "#E5ECF6",
            "gridcolor": "white",
            "gridwidth": 2,
            "linecolor": "white",
            "showbackground": true,
            "ticks": "",
            "zerolinecolor": "white"
           },
           "zaxis": {
            "backgroundcolor": "#E5ECF6",
            "gridcolor": "white",
            "gridwidth": 2,
            "linecolor": "white",
            "showbackground": true,
            "ticks": "",
            "zerolinecolor": "white"
           }
          },
          "shapedefaults": {
           "line": {
            "color": "#2a3f5f"
           }
          },
          "ternary": {
           "aaxis": {
            "gridcolor": "white",
            "linecolor": "white",
            "ticks": ""
           },
           "baxis": {
            "gridcolor": "white",
            "linecolor": "white",
            "ticks": ""
           },
           "bgcolor": "#E5ECF6",
           "caxis": {
            "gridcolor": "white",
            "linecolor": "white",
            "ticks": ""
           }
          },
          "title": {
           "x": 0.05
          },
          "xaxis": {
           "automargin": true,
           "gridcolor": "white",
           "linecolor": "white",
           "ticks": "",
           "title": {
            "standoff": 15
           },
           "zerolinecolor": "white",
           "zerolinewidth": 2
          },
          "yaxis": {
           "automargin": true,
           "gridcolor": "white",
           "linecolor": "white",
           "ticks": "",
           "title": {
            "standoff": 15
           },
           "zerolinecolor": "white",
           "zerolinewidth": 2
          }
         }
        },
        "title": {
         "text": "Percentual de vendas por Produto"
        },
        "xaxis": {
         "anchor": "y",
         "domain": [
          0,
          1
         ],
         "title": {
          "text": "Preference for 5G (%)"
         }
        },
        "yaxis": {
         "anchor": "x",
         "domain": [
          0,
          1
         ]
        }
       }
      }
     },
     "metadata": {},
     "output_type": "display_data"
    }
   ],
   "source": [
    "fig=px.box(df, df[\"Preference for 5G (%)\"],title=\"Percentual de vendas por Produto\", color_discrete_sequence=px.colors.sequential.Purples_r)\n",
    "\n",
    "fig.show()"
   ]
  },
  {
   "cell_type": "code",
   "execution_count": 153,
   "metadata": {},
   "outputs": [
    {
     "data": {
      "application/vnd.plotly.v1+json": {
       "config": {
        "plotlyServerURL": "https://plot.ly"
       },
       "data": [
        {
         "alignmentgroup": "True",
         "bingroup": "y",
         "histfunc": "sum",
         "hovertemplate": "sum of Year=%{x}<br>Quarter=%{y}<extra></extra>",
         "legendgroup": "",
         "marker": {
          "color": "rgb(63,0,125)",
          "pattern": {
           "shape": ""
          }
         },
         "name": "",
         "offsetgroup": "",
         "orientation": "h",
         "showlegend": false,
         "type": "histogram",
         "x": [
          2019,
          2019,
          2019,
          2019,
          2019,
          2019,
          2019,
          2019,
          2019,
          2019,
          2019,
          2019,
          2019,
          2019,
          2019,
          2019,
          2019,
          2019,
          2019,
          2019,
          2019,
          2019,
          2019,
          2019,
          2019,
          2019,
          2019,
          2019,
          2019,
          2019,
          2019,
          2019,
          2019,
          2019,
          2019,
          2019,
          2019,
          2019,
          2019,
          2019,
          2019,
          2019,
          2019,
          2019,
          2019,
          2019,
          2019,
          2019,
          2019,
          2019,
          2019,
          2019,
          2019,
          2019,
          2019,
          2019,
          2019,
          2019,
          2019,
          2019,
          2020,
          2020,
          2020,
          2020,
          2020,
          2020,
          2020,
          2020,
          2020,
          2020,
          2020,
          2020,
          2020,
          2020,
          2020,
          2020,
          2020,
          2020,
          2020,
          2020,
          2020,
          2020,
          2020,
          2020,
          2020,
          2020,
          2020,
          2020,
          2020,
          2020,
          2020,
          2020,
          2020,
          2020,
          2020,
          2020,
          2020,
          2020,
          2020,
          2020,
          2020,
          2020,
          2020,
          2020,
          2020,
          2020,
          2020,
          2020,
          2020,
          2020,
          2020,
          2020,
          2020,
          2020,
          2020,
          2020,
          2020,
          2020,
          2020,
          2020,
          2021,
          2021,
          2021,
          2021,
          2021,
          2021,
          2021,
          2021,
          2021,
          2021,
          2021,
          2021,
          2021,
          2021,
          2021,
          2021,
          2021,
          2021,
          2021,
          2021,
          2021,
          2021,
          2021,
          2021,
          2021,
          2021,
          2021,
          2021,
          2021,
          2021,
          2021,
          2021,
          2021,
          2021,
          2021,
          2021,
          2021,
          2021,
          2021,
          2021,
          2021,
          2021,
          2021,
          2021,
          2021,
          2021,
          2021,
          2021,
          2021,
          2021,
          2021,
          2021,
          2021,
          2021,
          2021,
          2021,
          2021,
          2021,
          2021,
          2021,
          2022,
          2022,
          2022,
          2022,
          2022,
          2022,
          2022,
          2022,
          2022,
          2022,
          2022,
          2022,
          2022,
          2022,
          2022,
          2022,
          2022,
          2022,
          2022,
          2022,
          2022,
          2022,
          2022,
          2022,
          2022,
          2022,
          2022,
          2022,
          2022,
          2022,
          2022,
          2022,
          2022,
          2022,
          2022,
          2022,
          2022,
          2022,
          2022,
          2022,
          2022,
          2022,
          2022,
          2022,
          2022,
          2022,
          2022,
          2022,
          2022,
          2022,
          2022,
          2022,
          2022,
          2022,
          2022,
          2022,
          2022,
          2022,
          2022,
          2022,
          2023,
          2023,
          2023,
          2023,
          2023,
          2023,
          2023,
          2023,
          2023,
          2023,
          2023,
          2023,
          2023,
          2023,
          2023,
          2023,
          2023,
          2023,
          2023,
          2023,
          2023,
          2023,
          2023,
          2023,
          2023,
          2023,
          2023,
          2023,
          2023,
          2023,
          2023,
          2023,
          2023,
          2023,
          2023,
          2023,
          2023,
          2023,
          2023,
          2023,
          2023,
          2023,
          2023,
          2023,
          2023,
          2023,
          2023,
          2023,
          2023,
          2023,
          2023,
          2023,
          2023,
          2023,
          2023,
          2023,
          2023,
          2023,
          2023,
          2023,
          2024,
          2024,
          2024,
          2024,
          2024,
          2024,
          2024,
          2024,
          2024,
          2024,
          2024,
          2024,
          2024,
          2024,
          2024,
          2024,
          2024,
          2024,
          2024,
          2024,
          2024,
          2024,
          2024,
          2024,
          2024,
          2024,
          2024,
          2024,
          2024,
          2024,
          2024,
          2024,
          2024,
          2024,
          2024,
          2024,
          2024,
          2024,
          2024,
          2024,
          2024,
          2024,
          2024,
          2024,
          2024,
          2024,
          2024,
          2024,
          2024,
          2024,
          2024,
          2024,
          2024,
          2024,
          2024,
          2024,
          2024,
          2024,
          2024,
          2024,
          2019,
          2019,
          2019,
          2019,
          2019,
          2019,
          2019,
          2019,
          2019,
          2019,
          2019,
          2019,
          2019,
          2019,
          2019,
          2019,
          2019,
          2019,
          2019,
          2019,
          2019,
          2019,
          2019,
          2019,
          2019,
          2019,
          2019,
          2019,
          2019,
          2019,
          2019,
          2019,
          2019,
          2019,
          2019,
          2019,
          2019,
          2019,
          2019,
          2019,
          2019,
          2019,
          2019,
          2019,
          2019,
          2019,
          2019,
          2019,
          2019,
          2019,
          2019,
          2019,
          2019,
          2019,
          2019,
          2019,
          2019,
          2019,
          2019,
          2019,
          2020,
          2020,
          2020,
          2020,
          2020,
          2020,
          2020,
          2020,
          2020,
          2020,
          2020,
          2020,
          2020,
          2020,
          2020,
          2020,
          2020,
          2020,
          2020,
          2020,
          2020,
          2020,
          2020,
          2020,
          2020,
          2020,
          2020,
          2020,
          2020,
          2020,
          2020,
          2020,
          2020,
          2020,
          2020,
          2020,
          2020,
          2020,
          2020,
          2020,
          2020,
          2020,
          2020,
          2020,
          2020,
          2020,
          2020,
          2020,
          2020,
          2020,
          2020,
          2020,
          2020,
          2020,
          2020,
          2020,
          2020,
          2020,
          2020,
          2020,
          2021,
          2021,
          2021,
          2021,
          2021,
          2021,
          2021,
          2021,
          2021,
          2021,
          2021,
          2021,
          2021,
          2021,
          2021,
          2021,
          2021,
          2021,
          2021,
          2021,
          2021,
          2021,
          2021,
          2021,
          2021,
          2021,
          2021,
          2021,
          2021,
          2021,
          2021,
          2021,
          2021,
          2021,
          2021,
          2021,
          2021,
          2021,
          2021,
          2021,
          2021,
          2021,
          2021,
          2021,
          2021,
          2021,
          2021,
          2021,
          2021,
          2021,
          2021,
          2021,
          2021,
          2021,
          2021,
          2021,
          2021,
          2021,
          2021,
          2021,
          2022,
          2022,
          2022,
          2022,
          2022,
          2022,
          2022,
          2022,
          2022,
          2022,
          2022,
          2022,
          2022,
          2022,
          2022,
          2022,
          2022,
          2022,
          2022,
          2022,
          2022,
          2022,
          2022,
          2022,
          2022,
          2022,
          2022,
          2022,
          2022,
          2022,
          2022,
          2022,
          2022,
          2022,
          2022,
          2022,
          2022,
          2022,
          2022,
          2022,
          2022,
          2022,
          2022,
          2022,
          2022,
          2022,
          2022,
          2022,
          2022,
          2022,
          2022,
          2022,
          2022,
          2022,
          2022,
          2022,
          2022,
          2022,
          2022,
          2022,
          2023,
          2023,
          2023,
          2023,
          2023,
          2023,
          2023,
          2023,
          2023,
          2023,
          2023,
          2023,
          2023,
          2023,
          2023,
          2023,
          2023,
          2023,
          2023,
          2023,
          2023,
          2023,
          2023,
          2023,
          2023,
          2023,
          2023,
          2023,
          2023,
          2023,
          2023,
          2023,
          2023,
          2023,
          2023,
          2023,
          2023,
          2023,
          2023,
          2023,
          2023,
          2023,
          2023,
          2023,
          2023,
          2023,
          2023,
          2023,
          2023,
          2023,
          2023,
          2023,
          2023,
          2023,
          2023,
          2023,
          2023,
          2023,
          2023,
          2023,
          2024,
          2024,
          2024,
          2024,
          2024,
          2024,
          2024,
          2024,
          2024,
          2024,
          2024,
          2024,
          2024,
          2024,
          2024,
          2024,
          2024,
          2024,
          2024,
          2024,
          2024,
          2024,
          2024,
          2024,
          2024,
          2024,
          2024,
          2024,
          2024,
          2024,
          2024,
          2024,
          2024,
          2024,
          2024,
          2024,
          2024,
          2024,
          2024,
          2024,
          2024,
          2024,
          2024,
          2024,
          2024,
          2024,
          2024,
          2024,
          2024,
          2024,
          2024,
          2024,
          2024,
          2024,
          2024,
          2024,
          2024,
          2024,
          2024,
          2024,
          2019,
          2021,
          2022,
          2022,
          2021,
          2020,
          2019,
          2020,
          2021,
          2021,
          2021,
          2020,
          2024,
          2021,
          2019,
          2020,
          2024,
          2023,
          2021,
          2021,
          2019,
          2021,
          2023,
          2021,
          2021,
          2024,
          2024,
          2022,
          2023,
          2020,
          2022,
          2021,
          2021,
          2021,
          2022,
          2021,
          2019,
          2019,
          2022,
          2021,
          2021,
          2020,
          2023,
          2019,
          2023,
          2021,
          2023,
          2020,
          2019,
          2020,
          2023,
          2024,
          2021,
          2023,
          2021,
          2019,
          2022,
          2021,
          2023,
          2019,
          2021,
          2023,
          2024,
          2021,
          2021,
          2020,
          2023,
          2023,
          2021,
          2022,
          2024,
          2022,
          2021,
          2022,
          2024,
          2023,
          2024,
          2021,
          2023,
          2024,
          2019,
          2020,
          2020,
          2024,
          2023,
          2020,
          2021,
          2019,
          2021,
          2022,
          2019,
          2021,
          2022,
          2020,
          2019,
          2019,
          2020,
          2022,
          2022,
          2019,
          2024,
          2022,
          2019,
          2020,
          2019,
          2023,
          2019,
          2023,
          2020,
          2024,
          2019,
          2021,
          2020,
          2022,
          2022,
          2024,
          2019,
          2020,
          2024,
          2023,
          2022,
          2024,
          2022,
          2019,
          2023,
          2024,
          2020,
          2020,
          2023,
          2024,
          2024,
          2023,
          2019,
          2021,
          2023,
          2020,
          2022,
          2020,
          2023,
          2022,
          2022,
          2022,
          2024,
          2020,
          2020,
          2019,
          2020,
          2023,
          2019,
          2022,
          2021,
          2022,
          2024,
          2024,
          2019,
          2023,
          2023,
          2019,
          2021,
          2019,
          2020,
          2024,
          2021,
          2022,
          2023,
          2019,
          2023,
          2020,
          2023,
          2020,
          2023,
          2020,
          2022,
          2019,
          2022,
          2023,
          2020,
          2020,
          2019,
          2021,
          2023,
          2021,
          2022,
          2020,
          2024,
          2024,
          2019,
          2021,
          2023,
          2019,
          2023,
          2024,
          2021,
          2023,
          2019,
          2021,
          2021,
          2019,
          2022,
          2020,
          2022,
          2022,
          2019,
          2024,
          2022,
          2023,
          2023,
          2019,
          2019,
          2019,
          2020,
          2019,
          2021,
          2022,
          2021,
          2020,
          2022,
          2020,
          2021,
          2023,
          2019,
          2022,
          2019,
          2024,
          2020,
          2024,
          2022,
          2021,
          2019,
          2022,
          2021,
          2020,
          2020,
          2023,
          2024,
          2022,
          2024,
          2019,
          2022,
          2019,
          2024,
          2022,
          2023,
          2019,
          2022,
          2021,
          2022,
          2019,
          2021,
          2019,
          2020,
          2020,
          2019,
          2020,
          2024,
          2024,
          2021,
          2024,
          2022,
          2022,
          2022,
          2022,
          2021,
          2024,
          2020,
          2021,
          2019,
          2023,
          2024,
          2019,
          2020,
          2023,
          2020,
          2019,
          2019,
          2023,
          2022,
          2022,
          2023,
          2020
         ],
         "xaxis": "x",
         "y": [
          "Q1",
          "Q1",
          "Q1",
          "Q1",
          "Q1",
          "Q1",
          "Q1",
          "Q1",
          "Q1",
          "Q1",
          "Q1",
          "Q1",
          "Q1",
          "Q1",
          "Q1",
          "Q2",
          "Q2",
          "Q2",
          "Q2",
          "Q2",
          "Q2",
          "Q2",
          "Q2",
          "Q2",
          "Q2",
          "Q2",
          "Q2",
          "Q2",
          "Q2",
          "Q2",
          "Q3",
          "Q3",
          "Q3",
          "Q3",
          "Q3",
          "Q3",
          "Q3",
          "Q3",
          "Q3",
          "Q3",
          "Q3",
          "Q3",
          "Q3",
          "Q3",
          "Q3",
          "Q4",
          "Q4",
          "Q4",
          "Q4",
          "Q4",
          "Q4",
          "Q4",
          "Q4",
          "Q4",
          "Q4",
          "Q4",
          "Q4",
          "Q4",
          "Q4",
          "Q4",
          "Q1",
          "Q1",
          "Q1",
          "Q1",
          "Q1",
          "Q1",
          "Q1",
          "Q1",
          "Q1",
          "Q1",
          "Q1",
          "Q1",
          "Q1",
          "Q1",
          "Q1",
          "Q2",
          "Q2",
          "Q2",
          "Q2",
          "Q2",
          "Q2",
          "Q2",
          "Q2",
          "Q2",
          "Q2",
          "Q2",
          "Q2",
          "Q2",
          "Q2",
          "Q2",
          "Q3",
          "Q3",
          "Q3",
          "Q3",
          "Q3",
          "Q3",
          "Q3",
          "Q3",
          "Q3",
          "Q3",
          "Q3",
          "Q3",
          "Q3",
          "Q3",
          "Q3",
          "Q4",
          "Q4",
          "Q4",
          "Q4",
          "Q4",
          "Q4",
          "Q4",
          "Q4",
          "Q4",
          "Q4",
          "Q4",
          "Q4",
          "Q4",
          "Q4",
          "Q4",
          "Q1",
          "Q1",
          "Q1",
          "Q1",
          "Q1",
          "Q1",
          "Q1",
          "Q1",
          "Q1",
          "Q1",
          "Q1",
          "Q1",
          "Q1",
          "Q1",
          "Q1",
          "Q2",
          "Q2",
          "Q2",
          "Q2",
          "Q2",
          "Q2",
          "Q2",
          "Q2",
          "Q2",
          "Q2",
          "Q2",
          "Q2",
          "Q2",
          "Q2",
          "Q2",
          "Q3",
          "Q3",
          "Q3",
          "Q3",
          "Q3",
          "Q3",
          "Q3",
          "Q3",
          "Q3",
          "Q3",
          "Q3",
          "Q3",
          "Q3",
          "Q3",
          "Q3",
          "Q4",
          "Q4",
          "Q4",
          "Q4",
          "Q4",
          "Q4",
          "Q4",
          "Q4",
          "Q4",
          "Q4",
          "Q4",
          "Q4",
          "Q4",
          "Q4",
          "Q4",
          "Q1",
          "Q1",
          "Q1",
          "Q1",
          "Q1",
          "Q1",
          "Q1",
          "Q1",
          "Q1",
          "Q1",
          "Q1",
          "Q1",
          "Q1",
          "Q1",
          "Q1",
          "Q2",
          "Q2",
          "Q2",
          "Q2",
          "Q2",
          "Q2",
          "Q2",
          "Q2",
          "Q2",
          "Q2",
          "Q2",
          "Q2",
          "Q2",
          "Q2",
          "Q2",
          "Q3",
          "Q3",
          "Q3",
          "Q3",
          "Q3",
          "Q3",
          "Q3",
          "Q3",
          "Q3",
          "Q3",
          "Q3",
          "Q3",
          "Q3",
          "Q3",
          "Q3",
          "Q4",
          "Q4",
          "Q4",
          "Q4",
          "Q4",
          "Q4",
          "Q4",
          "Q4",
          "Q4",
          "Q4",
          "Q4",
          "Q4",
          "Q4",
          "Q4",
          "Q4",
          "Q1",
          "Q1",
          "Q1",
          "Q1",
          "Q1",
          "Q1",
          "Q1",
          "Q1",
          "Q1",
          "Q1",
          "Q1",
          "Q1",
          "Q1",
          "Q1",
          "Q1",
          "Q2",
          "Q2",
          "Q2",
          "Q2",
          "Q2",
          "Q2",
          "Q2",
          "Q2",
          "Q2",
          "Q2",
          "Q2",
          "Q2",
          "Q2",
          "Q2",
          "Q2",
          "Q3",
          "Q3",
          "Q3",
          "Q3",
          "Q3",
          "Q3",
          "Q3",
          "Q3",
          "Q3",
          "Q3",
          "Q3",
          "Q3",
          "Q3",
          "Q3",
          "Q3",
          "Q4",
          "Q4",
          "Q4",
          "Q4",
          "Q4",
          "Q4",
          "Q4",
          "Q4",
          "Q4",
          "Q4",
          "Q4",
          "Q4",
          "Q4",
          "Q4",
          "Q4",
          "Q1",
          "Q1",
          "Q1",
          "Q1",
          "Q1",
          "Q1",
          "Q1",
          "Q1",
          "Q1",
          "Q1",
          "Q1",
          "Q1",
          "Q1",
          "Q1",
          "Q1",
          "Q2",
          "Q2",
          "Q2",
          "Q2",
          "Q2",
          "Q2",
          "Q2",
          "Q2",
          "Q2",
          "Q2",
          "Q2",
          "Q2",
          "Q2",
          "Q2",
          "Q2",
          "Q3",
          "Q3",
          "Q3",
          "Q3",
          "Q3",
          "Q3",
          "Q3",
          "Q3",
          "Q3",
          "Q3",
          "Q3",
          "Q3",
          "Q3",
          "Q3",
          "Q3",
          "Q4",
          "Q4",
          "Q4",
          "Q4",
          "Q4",
          "Q4",
          "Q4",
          "Q4",
          "Q4",
          "Q4",
          "Q4",
          "Q4",
          "Q4",
          "Q4",
          "Q4",
          "Q1",
          "Q1",
          "Q1",
          "Q1",
          "Q1",
          "Q1",
          "Q1",
          "Q1",
          "Q1",
          "Q1",
          "Q1",
          "Q1",
          "Q1",
          "Q1",
          "Q1",
          "Q2",
          "Q2",
          "Q2",
          "Q2",
          "Q2",
          "Q2",
          "Q2",
          "Q2",
          "Q2",
          "Q2",
          "Q2",
          "Q2",
          "Q2",
          "Q2",
          "Q2",
          "Q3",
          "Q3",
          "Q3",
          "Q3",
          "Q3",
          "Q3",
          "Q3",
          "Q3",
          "Q3",
          "Q3",
          "Q3",
          "Q3",
          "Q3",
          "Q3",
          "Q3",
          "Q4",
          "Q4",
          "Q4",
          "Q4",
          "Q4",
          "Q4",
          "Q4",
          "Q4",
          "Q4",
          "Q4",
          "Q4",
          "Q4",
          "Q4",
          "Q4",
          "Q4",
          "Q1",
          "Q1",
          "Q1",
          "Q1",
          "Q1",
          "Q1",
          "Q1",
          "Q1",
          "Q1",
          "Q1",
          "Q1",
          "Q1",
          "Q1",
          "Q1",
          "Q1",
          "Q2",
          "Q2",
          "Q2",
          "Q2",
          "Q2",
          "Q2",
          "Q2",
          "Q2",
          "Q2",
          "Q2",
          "Q2",
          "Q2",
          "Q2",
          "Q2",
          "Q2",
          "Q3",
          "Q3",
          "Q3",
          "Q3",
          "Q3",
          "Q3",
          "Q3",
          "Q3",
          "Q3",
          "Q3",
          "Q3",
          "Q3",
          "Q3",
          "Q3",
          "Q3",
          "Q4",
          "Q4",
          "Q4",
          "Q4",
          "Q4",
          "Q4",
          "Q4",
          "Q4",
          "Q4",
          "Q4",
          "Q4",
          "Q4",
          "Q4",
          "Q4",
          "Q4",
          "Q1",
          "Q1",
          "Q1",
          "Q1",
          "Q1",
          "Q1",
          "Q1",
          "Q1",
          "Q1",
          "Q1",
          "Q1",
          "Q1",
          "Q1",
          "Q1",
          "Q1",
          "Q2",
          "Q2",
          "Q2",
          "Q2",
          "Q2",
          "Q2",
          "Q2",
          "Q2",
          "Q2",
          "Q2",
          "Q2",
          "Q2",
          "Q2",
          "Q2",
          "Q2",
          "Q3",
          "Q3",
          "Q3",
          "Q3",
          "Q3",
          "Q3",
          "Q3",
          "Q3",
          "Q3",
          "Q3",
          "Q3",
          "Q3",
          "Q3",
          "Q3",
          "Q3",
          "Q4",
          "Q4",
          "Q4",
          "Q4",
          "Q4",
          "Q4",
          "Q4",
          "Q4",
          "Q4",
          "Q4",
          "Q4",
          "Q4",
          "Q4",
          "Q4",
          "Q4",
          "Q1",
          "Q1",
          "Q1",
          "Q1",
          "Q1",
          "Q1",
          "Q1",
          "Q1",
          "Q1",
          "Q1",
          "Q1",
          "Q1",
          "Q1",
          "Q1",
          "Q1",
          "Q2",
          "Q2",
          "Q2",
          "Q2",
          "Q2",
          "Q2",
          "Q2",
          "Q2",
          "Q2",
          "Q2",
          "Q2",
          "Q2",
          "Q2",
          "Q2",
          "Q2",
          "Q3",
          "Q3",
          "Q3",
          "Q3",
          "Q3",
          "Q3",
          "Q3",
          "Q3",
          "Q3",
          "Q3",
          "Q3",
          "Q3",
          "Q3",
          "Q3",
          "Q3",
          "Q4",
          "Q4",
          "Q4",
          "Q4",
          "Q4",
          "Q4",
          "Q4",
          "Q4",
          "Q4",
          "Q4",
          "Q4",
          "Q4",
          "Q4",
          "Q4",
          "Q4",
          "Q1",
          "Q1",
          "Q1",
          "Q1",
          "Q1",
          "Q1",
          "Q1",
          "Q1",
          "Q1",
          "Q1",
          "Q1",
          "Q1",
          "Q1",
          "Q1",
          "Q1",
          "Q2",
          "Q2",
          "Q2",
          "Q2",
          "Q2",
          "Q2",
          "Q2",
          "Q2",
          "Q2",
          "Q2",
          "Q2",
          "Q2",
          "Q2",
          "Q2",
          "Q2",
          "Q3",
          "Q3",
          "Q3",
          "Q3",
          "Q3",
          "Q3",
          "Q3",
          "Q3",
          "Q3",
          "Q3",
          "Q3",
          "Q3",
          "Q3",
          "Q3",
          "Q3",
          "Q4",
          "Q4",
          "Q4",
          "Q4",
          "Q4",
          "Q4",
          "Q4",
          "Q4",
          "Q4",
          "Q4",
          "Q4",
          "Q4",
          "Q4",
          "Q4",
          "Q4",
          "Q1",
          "Q1",
          "Q1",
          "Q1",
          "Q1",
          "Q1",
          "Q1",
          "Q1",
          "Q1",
          "Q1",
          "Q1",
          "Q1",
          "Q1",
          "Q1",
          "Q1",
          "Q2",
          "Q2",
          "Q2",
          "Q2",
          "Q2",
          "Q2",
          "Q2",
          "Q2",
          "Q2",
          "Q2",
          "Q2",
          "Q2",
          "Q2",
          "Q2",
          "Q2",
          "Q3",
          "Q3",
          "Q3",
          "Q3",
          "Q3",
          "Q3",
          "Q3",
          "Q3",
          "Q3",
          "Q3",
          "Q3",
          "Q3",
          "Q3",
          "Q3",
          "Q3",
          "Q4",
          "Q4",
          "Q4",
          "Q4",
          "Q4",
          "Q4",
          "Q4",
          "Q4",
          "Q4",
          "Q4",
          "Q4",
          "Q4",
          "Q4",
          "Q4",
          "Q4",
          "Q3",
          "Q4",
          "Q3",
          "Q3",
          "Q1",
          "Q2",
          "Q1",
          "Q2",
          "Q2",
          "Q4",
          "Q3",
          "Q1",
          "Q1",
          "Q2",
          "Q4",
          "Q4",
          "Q2",
          "Q2",
          "Q2",
          "Q2",
          "Q1",
          "Q2",
          "Q4",
          "Q3",
          "Q1",
          "Q1",
          "Q2",
          "Q1",
          "Q1",
          "Q4",
          "Q3",
          "Q1",
          "Q3",
          "Q2",
          "Q3",
          "Q1",
          "Q4",
          "Q3",
          "Q4",
          "Q2",
          "Q2",
          "Q2",
          "Q1",
          "Q3",
          "Q4",
          "Q1",
          "Q3",
          "Q3",
          "Q1",
          "Q1",
          "Q2",
          "Q3",
          "Q2",
          "Q3",
          "Q4",
          "Q1",
          "Q2",
          "Q2",
          "Q2",
          "Q1",
          "Q3",
          "Q1",
          "Q4",
          "Q1",
          "Q3",
          "Q2",
          "Q2",
          "Q4",
          "Q2",
          "Q3",
          "Q4",
          "Q2",
          "Q2",
          "Q2",
          "Q4",
          "Q3",
          "Q2",
          "Q3",
          "Q3",
          "Q4",
          "Q3",
          "Q4",
          "Q3",
          "Q2",
          "Q3",
          "Q3",
          "Q2",
          "Q2",
          "Q4",
          "Q4",
          "Q1",
          "Q3",
          "Q3",
          "Q1",
          "Q2",
          "Q4",
          "Q4",
          "Q2",
          "Q1",
          "Q1",
          "Q4",
          "Q2",
          "Q3",
          "Q3",
          "Q2",
          "Q2",
          "Q2",
          "Q1",
          "Q3",
          "Q1",
          "Q3",
          "Q1",
          "Q3",
          "Q4",
          "Q1",
          "Q3",
          "Q3",
          "Q2",
          "Q2",
          "Q3",
          "Q1",
          "Q4",
          "Q2",
          "Q3",
          "Q1",
          "Q3",
          "Q1",
          "Q2",
          "Q4",
          "Q3",
          "Q3",
          "Q1",
          "Q1",
          "Q1",
          "Q3",
          "Q2",
          "Q1",
          "Q1",
          "Q1",
          "Q1",
          "Q2",
          "Q3",
          "Q1",
          "Q2",
          "Q4",
          "Q4",
          "Q3",
          "Q2",
          "Q2",
          "Q2",
          "Q1",
          "Q3",
          "Q2",
          "Q1",
          "Q1",
          "Q3",
          "Q2",
          "Q1",
          "Q4",
          "Q1",
          "Q1",
          "Q2",
          "Q3",
          "Q1",
          "Q4",
          "Q4",
          "Q4",
          "Q4",
          "Q2",
          "Q3",
          "Q4",
          "Q4",
          "Q4",
          "Q1",
          "Q4",
          "Q2",
          "Q3",
          "Q3",
          "Q2",
          "Q4",
          "Q3",
          "Q3",
          "Q2",
          "Q3",
          "Q4",
          "Q3",
          "Q1",
          "Q2",
          "Q3",
          "Q1",
          "Q4",
          "Q1",
          "Q2",
          "Q3",
          "Q3",
          "Q4",
          "Q1",
          "Q3",
          "Q3",
          "Q2",
          "Q1",
          "Q2",
          "Q3",
          "Q4",
          "Q3",
          "Q2",
          "Q1",
          "Q2",
          "Q3",
          "Q1",
          "Q4",
          "Q2",
          "Q4",
          "Q4",
          "Q2",
          "Q1",
          "Q3",
          "Q2",
          "Q1",
          "Q1",
          "Q2",
          "Q2",
          "Q1",
          "Q4",
          "Q1",
          "Q4",
          "Q1",
          "Q1",
          "Q1",
          "Q2",
          "Q2",
          "Q3",
          "Q1",
          "Q4",
          "Q1",
          "Q4",
          "Q1",
          "Q1",
          "Q2",
          "Q4",
          "Q1",
          "Q3",
          "Q2",
          "Q2",
          "Q2",
          "Q4",
          "Q1",
          "Q1",
          "Q3",
          "Q3",
          "Q1",
          "Q4",
          "Q4",
          "Q2",
          "Q4",
          "Q2",
          "Q3",
          "Q1",
          "Q4",
          "Q4",
          "Q2",
          "Q2",
          "Q4",
          "Q3",
          "Q4",
          "Q2",
          "Q3",
          "Q1",
          "Q3",
          "Q1",
          "Q1",
          "Q1",
          "Q1",
          "Q4",
          "Q4",
          "Q4",
          "Q2",
          "Q1",
          "Q4",
          "Q4"
         ],
         "yaxis": "y"
        }
       ],
       "layout": {
        "barmode": "relative",
        "legend": {
         "tracegroupgap": 0
        },
        "template": {
         "data": {
          "bar": [
           {
            "error_x": {
             "color": "#2a3f5f"
            },
            "error_y": {
             "color": "#2a3f5f"
            },
            "marker": {
             "line": {
              "color": "#E5ECF6",
              "width": 0.5
             },
             "pattern": {
              "fillmode": "overlay",
              "size": 10,
              "solidity": 0.2
             }
            },
            "type": "bar"
           }
          ],
          "barpolar": [
           {
            "marker": {
             "line": {
              "color": "#E5ECF6",
              "width": 0.5
             },
             "pattern": {
              "fillmode": "overlay",
              "size": 10,
              "solidity": 0.2
             }
            },
            "type": "barpolar"
           }
          ],
          "carpet": [
           {
            "aaxis": {
             "endlinecolor": "#2a3f5f",
             "gridcolor": "white",
             "linecolor": "white",
             "minorgridcolor": "white",
             "startlinecolor": "#2a3f5f"
            },
            "baxis": {
             "endlinecolor": "#2a3f5f",
             "gridcolor": "white",
             "linecolor": "white",
             "minorgridcolor": "white",
             "startlinecolor": "#2a3f5f"
            },
            "type": "carpet"
           }
          ],
          "choropleth": [
           {
            "colorbar": {
             "outlinewidth": 0,
             "ticks": ""
            },
            "type": "choropleth"
           }
          ],
          "contour": [
           {
            "colorbar": {
             "outlinewidth": 0,
             "ticks": ""
            },
            "colorscale": [
             [
              0,
              "#0d0887"
             ],
             [
              0.1111111111111111,
              "#46039f"
             ],
             [
              0.2222222222222222,
              "#7201a8"
             ],
             [
              0.3333333333333333,
              "#9c179e"
             ],
             [
              0.4444444444444444,
              "#bd3786"
             ],
             [
              0.5555555555555556,
              "#d8576b"
             ],
             [
              0.6666666666666666,
              "#ed7953"
             ],
             [
              0.7777777777777778,
              "#fb9f3a"
             ],
             [
              0.8888888888888888,
              "#fdca26"
             ],
             [
              1,
              "#f0f921"
             ]
            ],
            "type": "contour"
           }
          ],
          "contourcarpet": [
           {
            "colorbar": {
             "outlinewidth": 0,
             "ticks": ""
            },
            "type": "contourcarpet"
           }
          ],
          "heatmap": [
           {
            "colorbar": {
             "outlinewidth": 0,
             "ticks": ""
            },
            "colorscale": [
             [
              0,
              "#0d0887"
             ],
             [
              0.1111111111111111,
              "#46039f"
             ],
             [
              0.2222222222222222,
              "#7201a8"
             ],
             [
              0.3333333333333333,
              "#9c179e"
             ],
             [
              0.4444444444444444,
              "#bd3786"
             ],
             [
              0.5555555555555556,
              "#d8576b"
             ],
             [
              0.6666666666666666,
              "#ed7953"
             ],
             [
              0.7777777777777778,
              "#fb9f3a"
             ],
             [
              0.8888888888888888,
              "#fdca26"
             ],
             [
              1,
              "#f0f921"
             ]
            ],
            "type": "heatmap"
           }
          ],
          "heatmapgl": [
           {
            "colorbar": {
             "outlinewidth": 0,
             "ticks": ""
            },
            "colorscale": [
             [
              0,
              "#0d0887"
             ],
             [
              0.1111111111111111,
              "#46039f"
             ],
             [
              0.2222222222222222,
              "#7201a8"
             ],
             [
              0.3333333333333333,
              "#9c179e"
             ],
             [
              0.4444444444444444,
              "#bd3786"
             ],
             [
              0.5555555555555556,
              "#d8576b"
             ],
             [
              0.6666666666666666,
              "#ed7953"
             ],
             [
              0.7777777777777778,
              "#fb9f3a"
             ],
             [
              0.8888888888888888,
              "#fdca26"
             ],
             [
              1,
              "#f0f921"
             ]
            ],
            "type": "heatmapgl"
           }
          ],
          "histogram": [
           {
            "marker": {
             "pattern": {
              "fillmode": "overlay",
              "size": 10,
              "solidity": 0.2
             }
            },
            "type": "histogram"
           }
          ],
          "histogram2d": [
           {
            "colorbar": {
             "outlinewidth": 0,
             "ticks": ""
            },
            "colorscale": [
             [
              0,
              "#0d0887"
             ],
             [
              0.1111111111111111,
              "#46039f"
             ],
             [
              0.2222222222222222,
              "#7201a8"
             ],
             [
              0.3333333333333333,
              "#9c179e"
             ],
             [
              0.4444444444444444,
              "#bd3786"
             ],
             [
              0.5555555555555556,
              "#d8576b"
             ],
             [
              0.6666666666666666,
              "#ed7953"
             ],
             [
              0.7777777777777778,
              "#fb9f3a"
             ],
             [
              0.8888888888888888,
              "#fdca26"
             ],
             [
              1,
              "#f0f921"
             ]
            ],
            "type": "histogram2d"
           }
          ],
          "histogram2dcontour": [
           {
            "colorbar": {
             "outlinewidth": 0,
             "ticks": ""
            },
            "colorscale": [
             [
              0,
              "#0d0887"
             ],
             [
              0.1111111111111111,
              "#46039f"
             ],
             [
              0.2222222222222222,
              "#7201a8"
             ],
             [
              0.3333333333333333,
              "#9c179e"
             ],
             [
              0.4444444444444444,
              "#bd3786"
             ],
             [
              0.5555555555555556,
              "#d8576b"
             ],
             [
              0.6666666666666666,
              "#ed7953"
             ],
             [
              0.7777777777777778,
              "#fb9f3a"
             ],
             [
              0.8888888888888888,
              "#fdca26"
             ],
             [
              1,
              "#f0f921"
             ]
            ],
            "type": "histogram2dcontour"
           }
          ],
          "mesh3d": [
           {
            "colorbar": {
             "outlinewidth": 0,
             "ticks": ""
            },
            "type": "mesh3d"
           }
          ],
          "parcoords": [
           {
            "line": {
             "colorbar": {
              "outlinewidth": 0,
              "ticks": ""
             }
            },
            "type": "parcoords"
           }
          ],
          "pie": [
           {
            "automargin": true,
            "type": "pie"
           }
          ],
          "scatter": [
           {
            "fillpattern": {
             "fillmode": "overlay",
             "size": 10,
             "solidity": 0.2
            },
            "type": "scatter"
           }
          ],
          "scatter3d": [
           {
            "line": {
             "colorbar": {
              "outlinewidth": 0,
              "ticks": ""
             }
            },
            "marker": {
             "colorbar": {
              "outlinewidth": 0,
              "ticks": ""
             }
            },
            "type": "scatter3d"
           }
          ],
          "scattercarpet": [
           {
            "marker": {
             "colorbar": {
              "outlinewidth": 0,
              "ticks": ""
             }
            },
            "type": "scattercarpet"
           }
          ],
          "scattergeo": [
           {
            "marker": {
             "colorbar": {
              "outlinewidth": 0,
              "ticks": ""
             }
            },
            "type": "scattergeo"
           }
          ],
          "scattergl": [
           {
            "marker": {
             "colorbar": {
              "outlinewidth": 0,
              "ticks": ""
             }
            },
            "type": "scattergl"
           }
          ],
          "scattermapbox": [
           {
            "marker": {
             "colorbar": {
              "outlinewidth": 0,
              "ticks": ""
             }
            },
            "type": "scattermapbox"
           }
          ],
          "scatterpolar": [
           {
            "marker": {
             "colorbar": {
              "outlinewidth": 0,
              "ticks": ""
             }
            },
            "type": "scatterpolar"
           }
          ],
          "scatterpolargl": [
           {
            "marker": {
             "colorbar": {
              "outlinewidth": 0,
              "ticks": ""
             }
            },
            "type": "scatterpolargl"
           }
          ],
          "scatterternary": [
           {
            "marker": {
             "colorbar": {
              "outlinewidth": 0,
              "ticks": ""
             }
            },
            "type": "scatterternary"
           }
          ],
          "surface": [
           {
            "colorbar": {
             "outlinewidth": 0,
             "ticks": ""
            },
            "colorscale": [
             [
              0,
              "#0d0887"
             ],
             [
              0.1111111111111111,
              "#46039f"
             ],
             [
              0.2222222222222222,
              "#7201a8"
             ],
             [
              0.3333333333333333,
              "#9c179e"
             ],
             [
              0.4444444444444444,
              "#bd3786"
             ],
             [
              0.5555555555555556,
              "#d8576b"
             ],
             [
              0.6666666666666666,
              "#ed7953"
             ],
             [
              0.7777777777777778,
              "#fb9f3a"
             ],
             [
              0.8888888888888888,
              "#fdca26"
             ],
             [
              1,
              "#f0f921"
             ]
            ],
            "type": "surface"
           }
          ],
          "table": [
           {
            "cells": {
             "fill": {
              "color": "#EBF0F8"
             },
             "line": {
              "color": "white"
             }
            },
            "header": {
             "fill": {
              "color": "#C8D4E3"
             },
             "line": {
              "color": "white"
             }
            },
            "type": "table"
           }
          ]
         },
         "layout": {
          "annotationdefaults": {
           "arrowcolor": "#2a3f5f",
           "arrowhead": 0,
           "arrowwidth": 1
          },
          "autotypenumbers": "strict",
          "coloraxis": {
           "colorbar": {
            "outlinewidth": 0,
            "ticks": ""
           }
          },
          "colorscale": {
           "diverging": [
            [
             0,
             "#8e0152"
            ],
            [
             0.1,
             "#c51b7d"
            ],
            [
             0.2,
             "#de77ae"
            ],
            [
             0.3,
             "#f1b6da"
            ],
            [
             0.4,
             "#fde0ef"
            ],
            [
             0.5,
             "#f7f7f7"
            ],
            [
             0.6,
             "#e6f5d0"
            ],
            [
             0.7,
             "#b8e186"
            ],
            [
             0.8,
             "#7fbc41"
            ],
            [
             0.9,
             "#4d9221"
            ],
            [
             1,
             "#276419"
            ]
           ],
           "sequential": [
            [
             0,
             "#0d0887"
            ],
            [
             0.1111111111111111,
             "#46039f"
            ],
            [
             0.2222222222222222,
             "#7201a8"
            ],
            [
             0.3333333333333333,
             "#9c179e"
            ],
            [
             0.4444444444444444,
             "#bd3786"
            ],
            [
             0.5555555555555556,
             "#d8576b"
            ],
            [
             0.6666666666666666,
             "#ed7953"
            ],
            [
             0.7777777777777778,
             "#fb9f3a"
            ],
            [
             0.8888888888888888,
             "#fdca26"
            ],
            [
             1,
             "#f0f921"
            ]
           ],
           "sequentialminus": [
            [
             0,
             "#0d0887"
            ],
            [
             0.1111111111111111,
             "#46039f"
            ],
            [
             0.2222222222222222,
             "#7201a8"
            ],
            [
             0.3333333333333333,
             "#9c179e"
            ],
            [
             0.4444444444444444,
             "#bd3786"
            ],
            [
             0.5555555555555556,
             "#d8576b"
            ],
            [
             0.6666666666666666,
             "#ed7953"
            ],
            [
             0.7777777777777778,
             "#fb9f3a"
            ],
            [
             0.8888888888888888,
             "#fdca26"
            ],
            [
             1,
             "#f0f921"
            ]
           ]
          },
          "colorway": [
           "#636efa",
           "#EF553B",
           "#00cc96",
           "#ab63fa",
           "#FFA15A",
           "#19d3f3",
           "#FF6692",
           "#B6E880",
           "#FF97FF",
           "#FECB52"
          ],
          "font": {
           "color": "#2a3f5f"
          },
          "geo": {
           "bgcolor": "white",
           "lakecolor": "white",
           "landcolor": "#E5ECF6",
           "showlakes": true,
           "showland": true,
           "subunitcolor": "white"
          },
          "hoverlabel": {
           "align": "left"
          },
          "hovermode": "closest",
          "mapbox": {
           "style": "light"
          },
          "paper_bgcolor": "white",
          "plot_bgcolor": "#E5ECF6",
          "polar": {
           "angularaxis": {
            "gridcolor": "white",
            "linecolor": "white",
            "ticks": ""
           },
           "bgcolor": "#E5ECF6",
           "radialaxis": {
            "gridcolor": "white",
            "linecolor": "white",
            "ticks": ""
           }
          },
          "scene": {
           "xaxis": {
            "backgroundcolor": "#E5ECF6",
            "gridcolor": "white",
            "gridwidth": 2,
            "linecolor": "white",
            "showbackground": true,
            "ticks": "",
            "zerolinecolor": "white"
           },
           "yaxis": {
            "backgroundcolor": "#E5ECF6",
            "gridcolor": "white",
            "gridwidth": 2,
            "linecolor": "white",
            "showbackground": true,
            "ticks": "",
            "zerolinecolor": "white"
           },
           "zaxis": {
            "backgroundcolor": "#E5ECF6",
            "gridcolor": "white",
            "gridwidth": 2,
            "linecolor": "white",
            "showbackground": true,
            "ticks": "",
            "zerolinecolor": "white"
           }
          },
          "shapedefaults": {
           "line": {
            "color": "#2a3f5f"
           }
          },
          "ternary": {
           "aaxis": {
            "gridcolor": "white",
            "linecolor": "white",
            "ticks": ""
           },
           "baxis": {
            "gridcolor": "white",
            "linecolor": "white",
            "ticks": ""
           },
           "bgcolor": "#E5ECF6",
           "caxis": {
            "gridcolor": "white",
            "linecolor": "white",
            "ticks": ""
           }
          },
          "title": {
           "x": 0.05
          },
          "xaxis": {
           "automargin": true,
           "gridcolor": "white",
           "linecolor": "white",
           "ticks": "",
           "title": {
            "standoff": 15
           },
           "zerolinecolor": "white",
           "zerolinewidth": 2
          },
          "yaxis": {
           "automargin": true,
           "gridcolor": "white",
           "linecolor": "white",
           "ticks": "",
           "title": {
            "standoff": 15
           },
           "zerolinecolor": "white",
           "zerolinewidth": 2
          }
         }
        },
        "title": {
         "text": "Percentual de vendas por  trimestre"
        },
        "xaxis": {
         "anchor": "y",
         "domain": [
          0,
          1
         ],
         "title": {
          "text": "sum of Year"
         }
        },
        "yaxis": {
         "anchor": "x",
         "domain": [
          0,
          1
         ],
         "title": {
          "text": "Quarter"
         }
        }
       }
      }
     },
     "metadata": {},
     "output_type": "display_data"
    }
   ],
   "source": [
    "fig=px.histogram(df, x=df[\"Year\"], y=df[\"Quarter\"], title=\"Percentual de vendas por  trimestre\", color_discrete_sequence=px.colors.sequential.Purples_r)\n",
    "\n",
    "fig.show()"
   ]
  }
 ],
 "metadata": {
  "kernelspec": {
   "display_name": "base",
   "language": "python",
   "name": "python3"
  },
  "language_info": {
   "codemirror_mode": {
    "name": "ipython",
    "version": 3
   },
   "file_extension": ".py",
   "mimetype": "text/x-python",
   "name": "python",
   "nbconvert_exporter": "python",
   "pygments_lexer": "ipython3",
   "version": "3.11.7"
  }
 },
 "nbformat": 4,
 "nbformat_minor": 2
}
